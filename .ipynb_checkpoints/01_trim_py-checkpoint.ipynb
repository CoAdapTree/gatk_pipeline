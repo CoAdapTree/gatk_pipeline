{
 "cells": [
  {
   "cell_type": "code",
   "execution_count": null,
   "metadata": {},
   "outputs": [],
   "source": [
    "imp = open('/home/lindb/pythonimports.py').read()\n",
    "exec(imp)\n",
    "from __future__ import division"
   ]
  },
  {
   "cell_type": "code",
   "execution_count": null,
   "metadata": {},
   "outputs": [],
   "source": [
    "1+1"
   ]
  },
  {
   "cell_type": "code",
   "execution_count": null,
   "metadata": {},
   "outputs": [],
   "source": [
    "# reqs\n",
    "fqdir = '/home/lindb/scratch/seqcap_pine'\n",
    "shdir = op.join(fqdir,'shfiles')\n",
    "lensh = 500                               # number of sh files that can be qsubbed\n",
    "cd(fqdir)"
   ]
  },
  {
   "cell_type": "code",
   "execution_count": null,
   "metadata": {},
   "outputs": [],
   "source": [
    "import sys\n",
    "\"/\".join([x for x in sys.argv[0].split(\"/\")[:4]])"
   ]
  },
  {
   "cell_type": "code",
   "execution_count": null,
   "metadata": {},
   "outputs": [],
   "source": [
    "gzfiles = !ls *.gz\n",
    "gzfiles = [f for f in gzfiles if '.Pi_' in f and 'R1' in f]\n",
    "len(gzfiles),sorted(gzfiles)"
   ]
  },
  {
   "cell_type": "code",
   "execution_count": null,
   "metadata": {},
   "outputs": [],
   "source": [
    "# match seq pairs, alert if pair not found\n",
    "seq_pairs = []\n",
    "for f in gzfiles:\n",
    "    assert 'R1' in f\n",
    "    read2 = f.replace(\"_R1\",\"_R2\")\n",
    "    if op.exists(read2):\n",
    "        seq_pairs.append((op.abspath(f),op.abspath(read2)))\n",
    "    else:\n",
    "        !echo 'no pair for '$f >> $fqdir'/messages/msgs.txt'\n",
    "len(seq_pairs)"
   ]
  },
  {
   "cell_type": "code",
   "execution_count": null,
   "metadata": {},
   "outputs": [],
   "source": [
    "seq_pairs = [('/home/lindb/scratch/seqcap_pine/paired_HI.0941.007.BioO_4.Pi_53A3_R1.fastq.gz',\n",
    "             '/home/lindb/scratch/seqcap_pine/paired_HI.0941.007.BioO_4.Pi_53A3_R2.fastq.gz'\n",
    "            )]"
   ]
  },
  {
   "cell_type": "code",
   "execution_count": null,
   "metadata": {},
   "outputs": [],
   "source": [
    "# make some dirs\n",
    "shtrimDIR    = op.join(shdir,'trimmed_shfiles')\n",
    "trimDIR      = op.join(fqdir,'trimmed')         # outfiles\n",
    "for d in [shtrimDIR,trimDIR]:\n",
    "    if not op.exists(d):\n",
    "        os.makedirs(d)\n",
    "\n",
    "# determine how many commands per sh file\n",
    "if len(seq_pairs) <= lensh:\n",
    "    # one command per sh file\n",
    "    ceil = 1\n",
    "else:\n",
    "    # multiple commands per sh file\n",
    "    ceil = math.ceil(len(seq_pairs)/lensh)\n",
    "\n",
    "shcount = 0\n",
    "fcount  = 0\n",
    "tcount  = 0\n",
    "text    = ''''''\n",
    "for s in seq_pairs:\n",
    "    r1    = op.abspath(s[0])\n",
    "    r1out = op.join(trimDIR,op.basename(r1).replace('.fastq.gz','_trimmedandfiltered.fastq.gz'))\n",
    "    r2    = op.abspath(s[1])\n",
    "    r2out = op.join(trimDIR,op.basename(r2).replace('.fastq.gz','_trimmedandfiltered.fastq.gz'))\n",
    "    cmd   = '''fastp -i %s -o %s \\\n",
    "-I %s -O %s \\\n",
    "-g \\\n",
    "--cut_window_size 5 \\\n",
    "--cut_mean_quality 30 \\\n",
    "--qualified_quality_phred 30 \\\n",
    "--unqualified_percent_limit 20 \\\n",
    "--n_base_limit 5 \\\n",
    "--length_required 75 \\\n",
    "-h \"%s.html\" \\\n",
    "--cut_by_quality3 \\\n",
    "--thread 1 \\\n",
    "--json \"%s.json\"\n",
    "\n",
    "''' % (r1,\n",
    "       r1out,\n",
    "       r2,\n",
    "       r2out,\n",
    "       r1out.replace(\"_R1_trimmed.fastq.gz\",\"_stats.html\"),\n",
    "       r1out.replace(\"_R1_trimmed.fastq.gz\",\".json\")\n",
    "      )\n",
    "    text = text + cmd\n",
    "    \n",
    "    fcount += 1\n",
    "    tcount += 1\n",
    "    if fcount == ceil or tcount == len(seq_pairs):\n",
    "        shz = str(shcount).zfill(3)\n",
    "        header = '''#!/bin/bash\n",
    "#PBS -N trim%s\n",
    "#PBS -V\n",
    "#PBS -S /bin/bash\n",
    "#PBS -l nodes=1:ppn=1\n",
    "#PBS -l procs=1\n",
    "#PBS -l walltime=0:10:00\n",
    "#PBS -l mem=600mb\n",
    "''' % (shz)\n",
    "        text = header + text\n",
    "        filE = op.join(shtrimDIR,'trim_%s.sh' % str(shcount).zfill(3))\n",
    "        with open(filE,'w') as o:\n",
    "            o.write(\"%s\" % text)\n",
    "        shcount += 1\n",
    "        fcount = 0\n",
    "        text = ''''''"
   ]
  },
  {
   "cell_type": "code",
   "execution_count": null,
   "metadata": {},
   "outputs": [],
   "source": [
    "shs = fs(shtrimDIR)\n",
    "for f in shs:\n",
    "    !qsub $f"
   ]
  },
  {
   "cell_type": "code",
   "execution_count": null,
   "metadata": {},
   "outputs": [],
   "source": []
  },
  {
   "cell_type": "code",
   "execution_count": null,
   "metadata": {},
   "outputs": [],
   "source": []
  },
  {
   "cell_type": "code",
   "execution_count": null,
   "metadata": {},
   "outputs": [],
   "source": []
  },
  {
   "cell_type": "code",
   "execution_count": null,
   "metadata": {},
   "outputs": [],
   "source": []
  },
  {
   "cell_type": "code",
   "execution_count": null,
   "metadata": {},
   "outputs": [],
   "source": []
  },
  {
   "cell_type": "code",
   "execution_count": null,
   "metadata": {},
   "outputs": [],
   "source": []
  },
  {
   "cell_type": "code",
   "execution_count": null,
   "metadata": {},
   "outputs": [],
   "source": []
  },
  {
   "cell_type": "code",
   "execution_count": null,
   "metadata": {},
   "outputs": [],
   "source": []
  },
  {
   "cell_type": "code",
   "execution_count": null,
   "metadata": {},
   "outputs": [],
   "source": []
  }
 ],
 "metadata": {
  "kernelspec": {
   "display_name": "Python 2",
   "language": "python",
   "name": "python2"
  },
  "language_info": {
   "codemirror_mode": {
    "name": "ipython",
    "version": 2
   },
   "file_extension": ".py",
   "mimetype": "text/x-python",
   "name": "python",
   "nbconvert_exporter": "python",
   "pygments_lexer": "ipython2",
   "version": "2.7.15"
  }
 },
 "nbformat": 4,
 "nbformat_minor": 2
}
