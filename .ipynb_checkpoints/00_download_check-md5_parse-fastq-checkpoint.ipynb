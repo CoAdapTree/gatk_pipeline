{
 "cells": [
  {
   "cell_type": "code",
   "execution_count": null,
   "metadata": {},
   "outputs": [],
   "source": [
    "imp = open('/home/lindb/pythonimports.py').read()\n",
    "exec(imp)\n",
    "from __future__ import division"
   ]
  },
  {
   "cell_type": "markdown",
   "metadata": {},
   "source": [
    "## download"
   ]
  },
  {
   "cell_type": "code",
   "execution_count": null,
   "metadata": {},
   "outputs": [],
   "source": [
    "1+1"
   ]
  },
  {
   "cell_type": "code",
   "execution_count": null,
   "metadata": {},
   "outputs": [],
   "source": [
    "# create --post-file for download\n",
    "DIR = '/scratch/lindb/testdata/readSetLinks'\n",
    "tmpfile = op.join(DIR,'.tmp.dat')\n",
    "if not op.exists(tmpfile):\n",
    "    with open(tmpfile,'w') as o:\n",
    "        o.write(\"%s\" % 'j_username=mlu1&j_password=rrgmmngu')\n",
    "    !chmod 600 $tmpfile"
   ]
  },
  {
   "cell_type": "code",
   "execution_count": null,
   "metadata": {},
   "outputs": [],
   "source": [
    "# create dirs, open file with weblinks to fastq files\n",
    "shdir = op.join(DIR,'shfiles')\n",
    "if not op.exists(shdir):\n",
    "    os.makedirs(shdir)\n",
    "links = open(op.join(DIR,'readSetLinks.txt'),'r').readlines()\n",
    "print len(links)\n",
    "# make sure file name parse is correct\n",
    "links[0].split(\"/\")[-1].replace(\"\\n\",\"\")"
   ]
  },
  {
   "cell_type": "code",
   "execution_count": null,
   "metadata": {},
   "outputs": [],
   "source": [
    "# get link dict to download both fastq and md5 file\n"
   ]
  },
  {
   "cell_type": "code",
   "execution_count": null,
   "metadata": {},
   "outputs": [],
   "source": [
    "# wget links\n",
    "files = [f for f in fs('/home/lindb/scratch/testdata') if 'fastq' in f]\n",
    "for i,link in enumerate(links):\n",
    "    link = link.replace(\"\\n\",\"\")\n",
    "    fqgz = link.split(\"/\")[-1]\n",
    "    f = op.join('/home/lindb/scratch/testdata',fqgz)\n",
    "    if not f in files: # faster to check if f in list than op.exists(f)\n",
    "        text = '''#!/bin/bash\n",
    "#SBATCH --account=def-saitken\n",
    "#SBATCH --job-name=link%s\n",
    "#SBATCH --export=all\n",
    "#SBATCH --time=00:59:00\n",
    "#SBATCH --mem=500mb\n",
    "#SBATCH --cpus-per-task=1\n",
    "\n",
    "cd /home/lindb/scratch/testdata\n",
    "wget --no-cookies --no-check-certificate -c %s --post-file %s\n",
    "''' % (str(i).zfill(3),\n",
    "       link,\n",
    "       tmpfile\n",
    "      )\n",
    "#         filE = op.join(shdir,'wget%s.sh' % str(i).zfill(3))\n",
    "        filE = op.join(shdir,'wget%s.sh' % str(i).zfill(3))        \n",
    "        with open(filE,'w') as o:\n",
    "            o.write(\"%s\" % text)"
   ]
  },
  {
   "cell_type": "code",
   "execution_count": null,
   "metadata": {},
   "outputs": [],
   "source": [
    "DIR = '/home/lindb/scratch/testdata/readSetLinks'\n",
    "shdir = op.join(DIR,'shfiles')\n",
    "fs(shdir)[0]"
   ]
  },
  {
   "cell_type": "code",
   "execution_count": null,
   "metadata": {},
   "outputs": [],
   "source": [
    "fs(shdir)[0]"
   ]
  },
  {
   "cell_type": "code",
   "execution_count": null,
   "metadata": {},
   "outputs": [],
   "source": [
    "os.getcwd()"
   ]
  },
  {
   "cell_type": "code",
   "execution_count": null,
   "metadata": {},
   "outputs": [],
   "source": [
    "for f in fs(shdir):\n",
    "    !sbatch $f"
   ]
  },
  {
   "cell_type": "code",
   "execution_count": null,
   "metadata": {},
   "outputs": [],
   "source": [
    "# or sbatch with master\n",
    "text = '''#!/bin/bash\n",
    "#SBATCH --account=def-saitken\n",
    "#SBATCH --job-name=wgetmaster\n",
    "#SBATCH --export=all\n",
    "#SBATCH --time=00:59:00\n",
    "#SBATCH --mem=1000mb\n",
    "#SBATCH --cpus-per-task=1\n",
    "\n",
    "\n",
    "'''\n",
    "for f in fs(shdir):\n",
    "    newtext = '''sbatch %s\n",
    "''' % f\n",
    "    text = text + newtext\n",
    "filE=op.join(shdir,'master.sh')\n",
    "with open(filE,'w') as o:\n",
    "    o.write(\"%s\" % text)"
   ]
  },
  {
   "cell_type": "code",
   "execution_count": null,
   "metadata": {},
   "outputs": [],
   "source": [
    "# !sbatch filE"
   ]
  },
  {
   "cell_type": "markdown",
   "metadata": {},
   "source": [
    "## check md5"
   ]
  },
  {
   "cell_type": "code",
   "execution_count": null,
   "metadata": {},
   "outputs": [],
   "source": [
    "# log to logfile\n",
    "text = '''#!/bin/bash\n",
    "#SBATCH --account=def-saitken\n",
    "#SBATCH --job-name=md5sum\n",
    "#SBATCH --export=all\n",
    "#SBATCH --time=03:00:00\n",
    "#SBATCH --mem=1000mb\n",
    "#SBATCH --cpus-per-task=1\n",
    "\n",
    "\n",
    "cd /home/lindb/scratch/testdata/\n",
    "md5sum -c *md5 > md5log.txt\n",
    "'''\n",
    "filE = op.join(shdir,'md5sumcheck.sh')\n",
    "print filE\n",
    "with open(filE,'w') as o:\n",
    "    o.write(\"%s\" % text)\n",
    "!sbatch $fiLE"
   ]
  },
  {
   "cell_type": "code",
   "execution_count": null,
   "metadata": {},
   "outputs": [],
   "source": [
    "# read the log, look for bad md5 checks\n",
    "md5 = open('/home/lindb/scratch/testdata/md5log.txt').readlines()\n",
    "for line in md5:\n",
    "    res = line.split(\" \")[1].split(\"\\n\")[0]\n",
    "    if not res == \"OK\":\n",
    "        print line\n",
    "# one res in testdata was not ok, but I had gunzip-ed it"
   ]
  },
  {
   "cell_type": "markdown",
   "metadata": {},
   "source": [
    "## split files by library"
   ]
  },
  {
   "cell_type": "code",
   "execution_count": null,
   "metadata": {},
   "outputs": [],
   "source": [
    "from Bio import SeqIO"
   ]
  },
  {
   "cell_type": "code",
   "execution_count": null,
   "metadata": {},
   "outputs": [],
   "source": [
    "# get a list of fastq R1 files\n",
    "files = sorted([f for f in fs('/scratch/lindb/testdata') if 'R1' in f and f.endswith('fastq.gz')])\n",
    "len(files)"
   ]
  },
  {
   "cell_type": "code",
   "execution_count": null,
   "metadata": {},
   "outputs": [],
   "source": [
    "# import info sheet\n",
    "summary = pd.read_csv('/scratch/lindb/testdata/1_CoAdapTree_Seq_Summary.txt',sep='\\t')\n",
    "summary.head()"
   ]
  },
  {
   "cell_type": "code",
   "execution_count": null,
   "metadata": {},
   "outputs": [],
   "source": [
    "samps = sorted(summary['Sample_name'].tolist())\n",
    "len(samps)"
   ]
  },
  {
   "cell_type": "code",
   "execution_count": null,
   "metadata": {},
   "outputs": [],
   "source": [
    "# fill in blank pool names, create dictionary for samps in pools, get a list of spp, get rg info\n",
    "sampdict = {}\n",
    "spp      = []\n",
    "for row in summary.index:\n",
    "    if type(summary.loc[row,'Pool_name']) == float:\n",
    "        summary.loc[row,'Pool_name'] = summary.loc[row,'Sample_name']\n",
    "    pool = summary.loc[row,'Pool_name']\n",
    "    samp = summary.loc[row,'Sample_name']\n",
    "    sp   = pool.split(\"_\")[0]\n",
    "    if not sp in spp:\n",
    "        spp.append(sp)\n",
    "        spp = sorted(spp)\n",
    "    sampdict[samp] = pool\n"
   ]
  },
  {
   "cell_type": "code",
   "execution_count": null,
   "metadata": {},
   "outputs": [],
   "source": [
    "# get rg info\n",
    "rg = '/scratch/lindb/mengmeng/4_addRG.sh'\n",
    "rg = open(rg,'r').readlines()\n",
    "rginfo = {}\n",
    "for line in rg:\n",
    "    if line.split(\" \")[0] == 'java':\n",
    "        splits = line.split(\" \")\n",
    "        samp = splits[12].split(\"/\")[-1].split(\".\")[0]\n",
    "        assert samp in sampdict\n",
    "        if not samp in rginfo:\n",
    "            rginfo[samp] = {}\n",
    "        else:\n",
    "            print 'duplicate samp %s' % samp\n",
    "        rginfo[samp]['rgid'] = splits[6].split(\"=\")[1]\n",
    "        rginfo[samp]['rglb'] = splits[7].split(\"=\")[1]\n",
    "        rginfo[samp]['rgpl'] = splits[9].split(\"=\")[1]\n",
    "        rginfo[samp]['rgpu'] = splits[10].split(\"=\")[1]\n",
    "        rginfo[samp]['rgsm'] = splits[11].split(\"=\")[1]\n",
    "        #print samp,rginfo[samp]"
   ]
  },
  {
   "cell_type": "code",
   "execution_count": null,
   "metadata": {},
   "outputs": [],
   "source": [
    "len(rginfo.keys()) == len(sampdict.keys())"
   ]
  },
  {
   "cell_type": "code",
   "execution_count": null,
   "metadata": {},
   "outputs": [],
   "source": [
    "pkldump(rginfo,'/scratch/lindb/testdata/rginfo.pkl')"
   ]
  },
  {
   "cell_type": "code",
   "execution_count": null,
   "metadata": {},
   "outputs": [],
   "source": [
    "# list of files by pool\n",
    "poolfdict = {}\n",
    "ftopool = {}\n",
    "for f in files:\n",
    "    samp = f.split(\"---\")[1].split(\".\")[1].replace(\"_R1\",\"\")\n",
    "    pool = sampdict[samp]\n",
    "    if not pool in poolfdict:\n",
    "        poolfdict[pool] = []\n",
    "    f2 = op.abspath(f).replace(\"_R1\",\"_R2\")\n",
    "    assert op.exists(f2)\n",
    "    [poolfdict[pool].append(x) for x in [f,f2]]\n",
    "    ftopool[f]  = pool\n",
    "    ftopool[f2] = pool\n",
    "    \n",
    "# poolfdict"
   ]
  },
  {
   "cell_type": "code",
   "execution_count": null,
   "metadata": {},
   "outputs": [],
   "source": [
    "samp = sampdict.keys()[0]\n",
    "sampdict[samp]"
   ]
  },
  {
   "cell_type": "markdown",
   "metadata": {},
   "source": [
    "# something else"
   ]
  },
  {
   "cell_type": "code",
   "execution_count": null,
   "metadata": {},
   "outputs": [],
   "source": [
    "## kick off lodgepole and jack pine\n",
    "jplp = [d for d in dirs if 'LP' in d or 'JP' in d]\n",
    "jplp"
   ]
  },
  {
   "cell_type": "code",
   "execution_count": null,
   "metadata": {},
   "outputs": [],
   "source": [
    "# get nfiles per dir\n",
    "fcount = 0\n",
    "dcount = {}\n",
    "for d in jplp:\n",
    "    fcount += len(ls(d))\n",
    "    dcount[d] = len(ls(d))\n",
    "fcount"
   ]
  },
  {
   "cell_type": "code",
   "execution_count": null,
   "metadata": {},
   "outputs": [],
   "source": [
    "# determine frac of sh files\n",
    "sums = sum(dcount.values())\n",
    "frac = {}\n",
    "for d in dcount:\n",
    "    frac[d] = dcount[d]/sums\n",
    "sum(frac.values()),frac"
   ]
  },
  {
   "cell_type": "code",
   "execution_count": null,
   "metadata": {},
   "outputs": [],
   "source": [
    "# num sh files per dir\n",
    "shfrac = {}\n",
    "for d in frac:\n",
    "    shfrac[d] = int(math.ceil(frac[d]*975))\n",
    "    print d, shfrac[d]"
   ]
  },
  {
   "cell_type": "code",
   "execution_count": null,
   "metadata": {},
   "outputs": [],
   "source": [
    "shdir = '/scratch/lindb/testdata/shfiles/start_trim'\n",
    "if not op.exists(shdir):\n",
    "    os.makedirs(shdir)\n",
    "for d in shfrac:\n",
    "    text = '''#!/bin/bash\n",
    "#SBATCH --account=def-saitken\n",
    "#SBATCH --job-name=%s\n",
    "#SBATCH --export=all\n",
    "#SBATCH --time=12:00:00\n",
    "#SBATCH --mem=1000mb\n",
    "#SBATCH --cpus-per-task=1\n",
    "#SBATCH --mail-user=brandon.lind@ubc.ca\n",
    "#SBATCH --mail-type=END\n",
    "#SBATCH --mail-type=FAIL\n",
    "\n",
    "\n",
    "source $HOME/.bashrc\n",
    "cd $HOME/pipeline\n",
    "\n",
    "python 01a_trim-fastq.py %s %s %s\n",
    "''' % (op.basename(d),\n",
    "       d,\n",
    "       '/scratch/lindb/refgenomes/LP_db/ptaeda.v1.01.reduced.pseudo.fasta',\n",
    "       str(shfrac[d])\n",
    "      )\n",
    "    filE = op.join(shdir,'start-trim_%s.sh' % op.basename(d))\n",
    "    with open(filE,'w') as o:\n",
    "        o.write(\"%s\" % text)"
   ]
  },
  {
   "cell_type": "code",
   "execution_count": null,
   "metadata": {},
   "outputs": [],
   "source": [
    "for f in fs(shdir):\n",
    "    !sbatch $f"
   ]
  },
  {
   "cell_type": "code",
   "execution_count": null,
   "metadata": {},
   "outputs": [],
   "source": []
  },
  {
   "cell_type": "code",
   "execution_count": null,
   "metadata": {},
   "outputs": [],
   "source": []
  },
  {
   "cell_type": "code",
   "execution_count": null,
   "metadata": {},
   "outputs": [],
   "source": []
  },
  {
   "cell_type": "code",
   "execution_count": null,
   "metadata": {},
   "outputs": [],
   "source": []
  },
  {
   "cell_type": "code",
   "execution_count": null,
   "metadata": {},
   "outputs": [],
   "source": []
  },
  {
   "cell_type": "code",
   "execution_count": null,
   "metadata": {},
   "outputs": [],
   "source": []
  },
  {
   "cell_type": "code",
   "execution_count": null,
   "metadata": {},
   "outputs": [],
   "source": []
  },
  {
   "cell_type": "code",
   "execution_count": null,
   "metadata": {},
   "outputs": [],
   "source": []
  },
  {
   "cell_type": "code",
   "execution_count": null,
   "metadata": {},
   "outputs": [],
   "source": []
  },
  {
   "cell_type": "code",
   "execution_count": null,
   "metadata": {},
   "outputs": [],
   "source": []
  },
  {
   "cell_type": "code",
   "execution_count": null,
   "metadata": {},
   "outputs": [],
   "source": []
  },
  {
   "cell_type": "code",
   "execution_count": null,
   "metadata": {},
   "outputs": [],
   "source": []
  },
  {
   "cell_type": "code",
   "execution_count": null,
   "metadata": {},
   "outputs": [],
   "source": []
  },
  {
   "cell_type": "code",
   "execution_count": null,
   "metadata": {},
   "outputs": [],
   "source": []
  },
  {
   "cell_type": "markdown",
   "metadata": {},
   "source": [
    "# why one command?"
   ]
  },
  {
   "cell_type": "code",
   "execution_count": null,
   "metadata": {},
   "outputs": [],
   "source": [
    "fqdir = '/scratch/lindb/testdata/JP_cap3_kit1/'"
   ]
  },
  {
   "cell_type": "code",
   "execution_count": null,
   "metadata": {},
   "outputs": [],
   "source": [
    "lensh = 92"
   ]
  },
  {
   "cell_type": "code",
   "execution_count": null,
   "metadata": {},
   "outputs": [],
   "source": [
    "gzfiles = [f for f in fs(fqdir) if 'R1' in f]\n",
    "lgz     = len(gzfiles)\n",
    "lgz"
   ]
  },
  {
   "cell_type": "code",
   "execution_count": null,
   "metadata": {},
   "outputs": [],
   "source": [
    "seq_pairs = []\n",
    "for f in gzfiles:\n",
    "    assert 'R1' in f\n",
    "    read2 = f.replace(\"_R1\",\"_R2\")\n",
    "    assert op.exists(read2)\n",
    "    if op.exists(read2):\n",
    "        seq_pairs.append((f,read2))\n",
    "#     else:\n",
    "#         !echo 'no pair for '$f >> $fqdir'/messages/msgs.txt' # #iheartjupyter\n",
    "    else:\n",
    "        text = 'no pair for %s' % f\n",
    "        with open(mfile,'a') as o:\n",
    "            o.write(\"%s\\n\" % text)\n",
    "print \"found %s R1/R2 seq pairs\" % str(len(seq_pairs))"
   ]
  },
  {
   "cell_type": "code",
   "execution_count": null,
   "metadata": {},
   "outputs": [],
   "source": [
    "if len(seq_pairs) <= lensh:\n",
    "    # one command per sh file\n",
    "    ceil = 1\n",
    "else:\n",
    "    # multiple commands per sh file\n",
    "    ceil = math.ceil(len(seq_pairs)/lensh)\n",
    "ceil"
   ]
  },
  {
   "cell_type": "code",
   "execution_count": null,
   "metadata": {},
   "outputs": [],
   "source": [
    "lensh"
   ]
  },
  {
   "cell_type": "code",
   "execution_count": null,
   "metadata": {},
   "outputs": [],
   "source": [
    "shcount = 0\n",
    "fcount  = 0\n",
    "tcount  = 0\n",
    "text = ''''''\n",
    "for s in seq_pairs:\n",
    "#     print s\n",
    "    r1    = op.abspath(s[0])\n",
    "    if r1.endswith(\"fastq\"):\n",
    "        r1out = 'hey'\n",
    "    else:\n",
    "        r1out = 'hey'\n",
    "    r2    = op.abspath(s[1])\n",
    "    if r2.endswith(\"fastq\"):\n",
    "        r2out = 'hey'\n",
    "    else:\n",
    "        r2out = 'hey'\n",
    "    html = 'hey'\n",
    "    json = 'hey'\n",
    "    cmd  = '''fastp -i %s -o %s -I %s -O %s -g --cut_window_size 5 --cut_mean_quality 30 --qualified_quality_phred 30 --unqualified_percent_limit 20 --n_base_limit 5 --length_required 75 -h %s.html --cut_by_quality3 --thread 16 --json %s.json --adapter_sequence AGATCGGAAGAGCACACGTCTGAACTCCAGTCAC --adapter_sequence_r2 AGATCGGAAGAGCGTCGTGTAGGGAAAGAGTGT\n",
    "\n",
    "\n",
    "cd $HOME/pipeline\n",
    "# once finished, map using bwa mem \n",
    "python 01b_bwa-map.py %s %s %s %s %s           \n",
    "''' % (r1  , r1out,\n",
    "       r2  , r2out,\n",
    "       html, json ,\n",
    "       'hi' , r1out,  r2out,  'shdir',  str(tcount).zfill(3)\n",
    "      )\n",
    "    text = text + cmd\n",
    "    \n",
    "    fcount += 1\n",
    "    tcount += 1\n",
    "    if fcount == ceil or tcount == len(seq_pairs):\n",
    "        shz = str(shcount).zfill(3)\n",
    "        shcount += 1\n",
    "        fcount = 0\n",
    "        text = ''''''"
   ]
  },
  {
   "cell_type": "code",
   "execution_count": null,
   "metadata": {},
   "outputs": [],
   "source": [
    "shcount"
   ]
  },
  {
   "cell_type": "code",
   "execution_count": null,
   "metadata": {},
   "outputs": [],
   "source": [
    "len([x for x in ls('/scratch/lindb/testdata/JP_cap4_kit1/shfiles/trimmed_shfiles/') if 'sh' in x])"
   ]
  },
  {
   "cell_type": "code",
   "execution_count": null,
   "metadata": {},
   "outputs": [],
   "source": [
    "DIR = '/scratch/lindb/testdata/'\n",
    "os.chdir(DIR)\n",
    "dirs = !ls -d *kit*/\n",
    "dirs = [op.abspath(d) for d in dirs if 'JP' in d or 'LP' in d]\n",
    "dirs"
   ]
  },
  {
   "cell_type": "code",
   "execution_count": null,
   "metadata": {},
   "outputs": [],
   "source": [
    "for d in dirs:\n",
    "    print d\n",
    "    os.chdir(d)\n",
    "    !rm -r -- ./*/"
   ]
  },
  {
   "cell_type": "code",
   "execution_count": null,
   "metadata": {},
   "outputs": [],
   "source": []
  }
 ],
 "metadata": {
  "kernelspec": {
   "display_name": "Python 2",
   "language": "python",
   "name": "python2"
  },
  "language_info": {
   "codemirror_mode": {
    "name": "ipython",
    "version": 2
   },
   "file_extension": ".py",
   "mimetype": "text/x-python",
   "name": "python",
   "nbconvert_exporter": "python",
   "pygments_lexer": "ipython2",
   "version": "2.7.15"
  }
 },
 "nbformat": 4,
 "nbformat_minor": 2
}
