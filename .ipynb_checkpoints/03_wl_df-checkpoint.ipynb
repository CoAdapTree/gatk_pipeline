{
 "cells": [
  {
   "cell_type": "code",
   "execution_count": null,
   "metadata": {},
   "outputs": [],
   "source": [
    "imp = open('/home/lindb/pythonimports.py').read()\n",
    "exec(imp)\n",
    "from datetime import datetime as dt\n",
    "from __future__ import division"
   ]
  },
  {
   "cell_type": "markdown",
   "metadata": {},
   "source": [
    "# edit datatable"
   ]
  },
  {
   "cell_type": "code",
   "execution_count": null,
   "metadata": {},
   "outputs": [],
   "source": [
    "datatable = '/home/lindb/scratch/wl_df/datatable.txt'\n",
    "dt = pd.read_csv(datatable,sep='\\t')\n",
    "dt.head()"
   ]
  },
  {
   "cell_type": "code",
   "execution_count": null,
   "metadata": {},
   "outputs": [],
   "source": [
    "for row in dt.index:\n",
    "    if type(dt.loc[row,'pool_name']) == float:\n",
    "        dt.loc[row,'pool_name'] = dt.loc[row,'sample_name']"
   ]
  },
  {
   "cell_type": "code",
   "execution_count": null,
   "metadata": {},
   "outputs": [],
   "source": [
    "pools = [x for x in uni(dt['pool_name']) if 'DF' in x or 'WL' in x]\n",
    "newdt = dt[dt['pool_name'].isin(pools)].copy()\n",
    "newdt.head()"
   ]
  },
  {
   "cell_type": "code",
   "execution_count": null,
   "metadata": {},
   "outputs": [],
   "source": [
    "len(newdt.index)"
   ]
  },
  {
   "cell_type": "code",
   "execution_count": null,
   "metadata": {},
   "outputs": [],
   "source": [
    "len(dt.index)"
   ]
  },
  {
   "cell_type": "code",
   "execution_count": null,
   "metadata": {},
   "outputs": [],
   "source": [
    "oldpools = [x for x in uni(dt['pool_name']) if 'LP' in x or 'JP' in x]\n",
    "olddt = dt[dt['pool_name'].isin(oldpools)].copy()\n",
    "len(olddt.index)"
   ]
  },
  {
   "cell_type": "code",
   "execution_count": null,
   "metadata": {},
   "outputs": [],
   "source": [
    "52+44==96"
   ]
  },
  {
   "cell_type": "code",
   "execution_count": null,
   "metadata": {},
   "outputs": [],
   "source": [
    "for row in newdt.index:\n",
    "    if 'WL' in newdt.loc[row,'pool_name']:\n",
    "        newdt.loc[row,'ref'] = '/scratch/lindb/refgenomes/WL_db/WL_pseudo_refgenome.fasta'\n",
    "    if 'DF' in newdt.loc[row,'pool_name']:\n",
    "        newdt.loc[row,'ref'] = '/scratch/lindb/refgenomes/DF_db/DF_pseudo_refgenome.fasta'"
   ]
  },
  {
   "cell_type": "code",
   "execution_count": null,
   "metadata": {},
   "outputs": [],
   "source": [
    "for x in uni(newdt['ref']):\n",
    "    assert op.exists(x)"
   ]
  },
  {
   "cell_type": "code",
   "execution_count": null,
   "metadata": {},
   "outputs": [],
   "source": [
    "newdt.to_csv(datatable,index=False,sep='\\t')\n",
    "newdt = pd.read_csv(datatable,sep='\\t')\n",
    "newdt.head()"
   ]
  },
  {
   "cell_type": "code",
   "execution_count": null,
   "metadata": {},
   "outputs": [],
   "source": [
    "newdt"
   ]
  },
  {
   "cell_type": "code",
   "execution_count": null,
   "metadata": {},
   "outputs": [],
   "source": [
    "DIR = '/scratch/lindb/wl_df'\n",
    "os.chdir(DIR)\n",
    "for"
   ]
  },
  {
   "cell_type": "code",
   "execution_count": null,
   "metadata": {},
   "outputs": [],
   "source": [
    "datatable = '/home/lindb/scratch/wl_df/datatable.txt'\n",
    "dt = pd.read_csv(datatable,sep='\\t')\n",
    "dt.head()"
   ]
  },
  {
   "cell_type": "code",
   "execution_count": null,
   "metadata": {},
   "outputs": [],
   "source": [
    "op.exists(dt.loc[0,'ref'])"
   ]
  },
  {
   "cell_type": "code",
   "execution_count": null,
   "metadata": {},
   "outputs": [],
   "source": [
    "DIR = '/scratch/lindb/wl_df/'\n",
    "os.chdir(DIR)\n",
    "dirs = !ls -d */\n",
    "dirs = [op.abspath(d) for d in dirs]\n",
    "dirs"
   ]
  },
  {
   "cell_type": "code",
   "execution_count": null,
   "metadata": {},
   "outputs": [],
   "source": [
    "d = '/scratch/lindb/wl_df/shfiles'\n",
    "[os.remove(f) for f in fs(d) if 'out' in f]"
   ]
  },
  {
   "cell_type": "code",
   "execution_count": null,
   "metadata": {},
   "outputs": [],
   "source": [
    "for d in dirs:\n",
    "    if not op.basename(d) == 'shfiles':\n",
    "        shdir = op.join(d,'shfiles/trimmed_shfiles')\n",
    "        [os.remove(f) for f in fs(shdir) if f.endswith('.out')]"
   ]
  },
  {
   "cell_type": "code",
   "execution_count": null,
   "metadata": {},
   "outputs": [],
   "source": [
    "print 'd = %(d)s' % locals()"
   ]
  },
  {
   "cell_type": "code",
   "execution_count": null,
   "metadata": {},
   "outputs": [],
   "source": [
    "rginfo = pickle.load(open('/home/lindb/scratch/wl_df/rginfo.pkl'))\n",
    "RG = rginfo['DF_52_20_cap3_kit1']\n",
    "RG"
   ]
  },
  {
   "cell_type": "code",
   "execution_count": null,
   "metadata": {},
   "outputs": [],
   "source": [
    "rgid = RG['rgid']\n",
    "rglb = RG['rglb']\n",
    "rgpl = RG['rgpl']\n",
    "rgpu = RG['rgpu']\n",
    "rgsm = RG['rgsm']\n",
    "print rgid\n",
    "print rglb"
   ]
  },
  {
   "cell_type": "code",
   "execution_count": null,
   "metadata": {},
   "outputs": [],
   "source": [
    "print '''%(rgid)s''' % globals()"
   ]
  },
  {
   "cell_type": "code",
   "execution_count": null,
   "metadata": {},
   "outputs": [],
   "source": [
    "RG"
   ]
  },
  {
   "cell_type": "code",
   "execution_count": null,
   "metadata": {},
   "outputs": [],
   "source": [
    "'rg = %s(RG)' % locals()"
   ]
  },
  {
   "cell_type": "code",
   "execution_count": null,
   "metadata": {},
   "outputs": [],
   "source": [
    "d in globals()"
   ]
  },
  {
   "cell_type": "code",
   "execution_count": null,
   "metadata": {},
   "outputs": [],
   "source": [
    "print '%(d)s' % locals()"
   ]
  },
  {
   "cell_type": "code",
   "execution_count": null,
   "metadata": {},
   "outputs": [],
   "source": [
    "d.isin(locals())"
   ]
  },
  {
   "cell_type": "markdown",
   "metadata": {},
   "source": [
    "# cancel old account jobs"
   ]
  },
  {
   "cell_type": "code",
   "execution_count": null,
   "metadata": {},
   "outputs": [],
   "source": [
    "sq = !squeue -u lindb | grep 'def-saitken_'"
   ]
  },
  {
   "cell_type": "code",
   "execution_count": null,
   "metadata": {},
   "outputs": [],
   "source": [
    "sq"
   ]
  },
  {
   "cell_type": "code",
   "execution_count": null,
   "metadata": {},
   "outputs": [],
   "source": [
    "for s in sq:\n",
    "    pid = s.split()[0]\n",
    "    !scancel $pid"
   ]
  },
  {
   "cell_type": "code",
   "execution_count": null,
   "metadata": {},
   "outputs": [],
   "source": []
  }
 ],
 "metadata": {
  "kernelspec": {
   "display_name": "Python 2",
   "language": "python",
   "name": "python2"
  },
  "language_info": {
   "codemirror_mode": {
    "name": "ipython",
    "version": 2
   },
   "file_extension": ".py",
   "mimetype": "text/x-python",
   "name": "python",
   "nbconvert_exporter": "python",
   "pygments_lexer": "ipython2",
   "version": "2.7.15"
  }
 },
 "nbformat": 4,
 "nbformat_minor": 2
}
