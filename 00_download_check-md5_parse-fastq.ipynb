{
 "cells": [
  {
   "cell_type": "code",
   "execution_count": 5,
   "metadata": {
    "scrolled": true
   },
   "outputs": [
    {
     "name": "stderr",
     "output_type": "stream",
     "text": [
      "/home/lindb/anaconda2/lib/python2.7/site-packages/scipy/special/__init__.py:640: RuntimeWarning: numpy.dtype size changed, may indicate binary incompatibility. Expected 96, got 88\n",
      "  from ._ufuncs import *\n",
      "/home/lindb/anaconda2/lib/python2.7/site-packages/scipy/linalg/basic.py:17: RuntimeWarning: numpy.dtype size changed, may indicate binary incompatibility. Expected 96, got 88\n",
      "  from ._solve_toeplitz import levinson\n",
      "/home/lindb/anaconda2/lib/python2.7/site-packages/scipy/linalg/__init__.py:207: RuntimeWarning: numpy.dtype size changed, may indicate binary incompatibility. Expected 96, got 88\n",
      "  from ._decomp_update import *\n",
      "/home/lindb/anaconda2/lib/python2.7/site-packages/scipy/special/_ellip_harm.py:7: RuntimeWarning: numpy.dtype size changed, may indicate binary incompatibility. Expected 96, got 88\n",
      "  from ._ellip_harm_2 import _ellipsoid, _ellipsoid_norm\n",
      "/home/lindb/anaconda2/lib/python2.7/site-packages/scipy/interpolate/_bsplines.py:10: RuntimeWarning: numpy.dtype size changed, may indicate binary incompatibility. Expected 96, got 88\n",
      "  from . import _bspl\n",
      "/home/lindb/anaconda2/lib/python2.7/site-packages/scipy/sparse/lil.py:19: RuntimeWarning: numpy.dtype size changed, may indicate binary incompatibility. Expected 96, got 88\n",
      "  from . import _csparsetools\n",
      "/home/lindb/anaconda2/lib/python2.7/site-packages/scipy/sparse/csgraph/__init__.py:165: RuntimeWarning: numpy.dtype size changed, may indicate binary incompatibility. Expected 96, got 88\n",
      "  from ._shortest_path import shortest_path, floyd_warshall, dijkstra,\\\n",
      "/home/lindb/anaconda2/lib/python2.7/site-packages/scipy/sparse/csgraph/_validation.py:5: RuntimeWarning: numpy.dtype size changed, may indicate binary incompatibility. Expected 96, got 88\n",
      "  from ._tools import csgraph_to_dense, csgraph_from_dense,\\\n",
      "/home/lindb/anaconda2/lib/python2.7/site-packages/scipy/sparse/csgraph/__init__.py:167: RuntimeWarning: numpy.dtype size changed, may indicate binary incompatibility. Expected 96, got 88\n",
      "  from ._traversal import breadth_first_order, depth_first_order, \\\n",
      "/home/lindb/anaconda2/lib/python2.7/site-packages/scipy/sparse/csgraph/__init__.py:169: RuntimeWarning: numpy.dtype size changed, may indicate binary incompatibility. Expected 96, got 88\n",
      "  from ._min_spanning_tree import minimum_spanning_tree\n",
      "/home/lindb/anaconda2/lib/python2.7/site-packages/scipy/sparse/csgraph/__init__.py:170: RuntimeWarning: numpy.dtype size changed, may indicate binary incompatibility. Expected 96, got 88\n",
      "  from ._reordering import reverse_cuthill_mckee, maximum_bipartite_matching, \\\n",
      "/home/lindb/anaconda2/lib/python2.7/site-packages/scipy/spatial/__init__.py:95: RuntimeWarning: numpy.dtype size changed, may indicate binary incompatibility. Expected 96, got 88\n",
      "  from .ckdtree import *\n",
      "/home/lindb/anaconda2/lib/python2.7/site-packages/scipy/spatial/__init__.py:96: RuntimeWarning: numpy.dtype size changed, may indicate binary incompatibility. Expected 96, got 88\n",
      "  from .qhull import *\n",
      "/home/lindb/anaconda2/lib/python2.7/site-packages/scipy/spatial/_spherical_voronoi.py:18: RuntimeWarning: numpy.dtype size changed, may indicate binary incompatibility. Expected 96, got 88\n",
      "  from . import _voronoi\n",
      "/home/lindb/anaconda2/lib/python2.7/site-packages/scipy/spatial/distance.py:122: RuntimeWarning: numpy.dtype size changed, may indicate binary incompatibility. Expected 96, got 88\n",
      "  from . import _hausdorff\n",
      "/home/lindb/anaconda2/lib/python2.7/site-packages/scipy/optimize/_trlib/__init__.py:1: RuntimeWarning: numpy.dtype size changed, may indicate binary incompatibility. Expected 96, got 88\n",
      "  from ._trlib import TRLIBQuadraticSubproblem\n",
      "/home/lindb/anaconda2/lib/python2.7/site-packages/scipy/optimize/_numdiff.py:10: RuntimeWarning: numpy.dtype size changed, may indicate binary incompatibility. Expected 96, got 88\n",
      "  from ._group_columns import group_dense, group_sparse\n",
      "/home/lindb/anaconda2/lib/python2.7/site-packages/scipy/stats/_continuous_distns.py:18: RuntimeWarning: numpy.dtype size changed, may indicate binary incompatibility. Expected 96, got 88\n",
      "  from . import _stats\n"
     ]
    }
   ],
   "source": [
    "imp = open('/home/lindb/pythonimports.py').read()\n",
    "exec(imp)\n",
    "from __future__ import division"
   ]
  },
  {
   "cell_type": "markdown",
   "metadata": {},
   "source": [
    "## download"
   ]
  },
  {
   "cell_type": "code",
   "execution_count": 9,
   "metadata": {},
   "outputs": [],
   "source": [
    "# create --post-file for download\n",
    "DIR = '/home/lindb/scratch/testdata/readSetLinks'\n",
    "tmpfile = op.join(DIR,'.tmp.dat')\n",
    "if not op.exists(tmpfile):\n",
    "    with open(tmpfile,'w') as o:\n",
    "        o.write(\"%s\" % 'j_username=mlu1&j_password=rrgmmngu')\n",
    "    !chmod 600 $tmpfile"
   ]
  },
  {
   "cell_type": "code",
   "execution_count": 6,
   "metadata": {},
   "outputs": [
    {
     "name": "stdout",
     "output_type": "stream",
     "text": [
      "384\n"
     ]
    },
    {
     "data": {
      "text/plain": [
       "'HI.4779.005.D704---D504.LP_mg10_cap2_kit1_R2.fastq.gz'"
      ]
     },
     "execution_count": 6,
     "metadata": {},
     "output_type": "execute_result"
    }
   ],
   "source": [
    "# create dirs, open file with weblinks to fastq files\n",
    "shdir = op.join(DIR,'shfiles')\n",
    "if not op.exists(shdir):\n",
    "    os.makedirs(shdir)\n",
    "links = open(op.join(DIR,'readSetLinks.txt'),'r').readlines()\n",
    "print len(links)\n",
    "# make sure file name parse is correct\n",
    "links[0].split(\"/\")[-1].replace(\"\\n\",\"\")"
   ]
  },
  {
   "cell_type": "code",
   "execution_count": 16,
   "metadata": {},
   "outputs": [],
   "source": [
    "# wget links\n",
    "files = [f for f in fs('/home/lindb/scratch/testdata') if 'fastq' in f]\n",
    "for i,link in enumerate(links):\n",
    "    link = link.replace(\"\\n\",\"\")\n",
    "    fqgz = link.split(\"/\")[-1]\n",
    "    f = op.join('/home/lindb/scratch/testdata',fqgz)\n",
    "    if not f in files: # faster to check if f in list than op.exists(f)\n",
    "        text = '''#!/bin/bash\n",
    "#SBATCH --account=def-saitken\n",
    "#SBATCH --job-name=link%s\n",
    "#SBATCH --export=all\n",
    "#SBATCH --time=00:59:00\n",
    "#SBATCH --mem=1000mb\n",
    "#SBATCH --cpus-per-task=1\n",
    "\n",
    "cd /home/lindb/scratch/testdata\n",
    "wget --no-cookies --no-check-certificate -c %s --post-file %s\n",
    "''' % (str(i).zfill(3),\n",
    "       link,\n",
    "       tmpfile\n",
    "      )\n",
    "#         filE = op.join(shdir,'wget%s.sh' % str(i).zfill(3))\n",
    "        filE = op.join(shdir,'wgetfinish%s.sh' % str(i).zfill(3))        \n",
    "        with open(filE,'w') as o:\n",
    "            o.write(\"%s\" % text)"
   ]
  },
  {
   "cell_type": "code",
   "execution_count": 2,
   "metadata": {},
   "outputs": [
    {
     "data": {
      "text/plain": [
       "'/home/lindb/scratch/testdata/readSetLinks/shfiles/wget000.sh'"
      ]
     },
     "execution_count": 2,
     "metadata": {},
     "output_type": "execute_result"
    }
   ],
   "source": [
    "DIR = '/home/lindb/scratch/testdata/readSetLinks'\n",
    "shdir = op.join(DIR,'shfiles')\n",
    "fs(shdir)[0]"
   ]
  },
  {
   "cell_type": "code",
   "execution_count": 3,
   "metadata": {},
   "outputs": [],
   "source": [
    "# sbatch with master\n",
    "text = '''#!/bin/bash\n",
    "#SBATCH --account=def-saitken\n",
    "#SBATCH --job-name=wgetmaster\n",
    "#SBATCH --export=all\n",
    "#SBATCH --time=00:59:00\n",
    "#SBATCH --mem=1000mb\n",
    "#SBATCH --cpus-per-task=1\n",
    "\n",
    "\n",
    "'''\n",
    "for f in fs(shdir):\n",
    "    newtext = '''sbatch %s\n",
    "''' % f\n",
    "    text = text + newtext\n",
    "filE=op.join(shdir,'master.sh')\n",
    "with open(filE,'w') as o:\n",
    "    o.write(\"%s\" % text)"
   ]
  },
  {
   "cell_type": "markdown",
   "metadata": {},
   "source": [
    "## check md5"
   ]
  },
  {
   "cell_type": "code",
   "execution_count": 20,
   "metadata": {},
   "outputs": [
    {
     "name": "stdout",
     "output_type": "stream",
     "text": [
      "/home/lindb/scratch/testdata/readSetLinks/shfiles/md5sumcheck.sh\n",
      "^C\n"
     ]
    }
   ],
   "source": [
    "# log to logfile\n",
    "text = '''#!/bin/bash\n",
    "#SBATCH --account=def-saitken\n",
    "#SBATCH --job-name=md5sum\n",
    "#SBATCH --export=all\n",
    "#SBATCH --time=03:00:00\n",
    "#SBATCH --mem=1000mb\n",
    "#SBATCH --cpus-per-task=1\n",
    "\n",
    "\n",
    "cd /home/lindb/scratch/testdata/\n",
    "md5sum -c *md5 > md5log.txt\n",
    "'''\n",
    "filE = op.join(shdir,'md5sumcheck.sh')\n",
    "print filE\n",
    "with open(filE,'w') as o:\n",
    "    o.write(\"%s\" % text)\n",
    "!sbatch $fiLE"
   ]
  },
  {
   "cell_type": "code",
   "execution_count": 7,
   "metadata": {},
   "outputs": [
    {
     "name": "stdout",
     "output_type": "stream",
     "text": [
      "HI.4779.007.D704---D507.JP_101_2_cap3_kit1_R1.fastq.gz: FAILED open or read\n",
      "\n"
     ]
    }
   ],
   "source": [
    "# read the log, look for bad md5 checks\n",
    "md5 = open('/home/lindb/scratch/testdata/md5log.txt').readlines()\n",
    "for line in md5:\n",
    "    res = line.split(\" \")[1].split(\"\\n\")[0]\n",
    "    if not res == \"OK\":\n",
    "        print line\n",
    "# one res in testdata was not ok, but I had gunzip-ed it"
   ]
  },
  {
   "cell_type": "markdown",
   "metadata": {},
   "source": [
    "## split files by library"
   ]
  },
  {
   "cell_type": "code",
   "execution_count": 8,
   "metadata": {},
   "outputs": [],
   "source": [
    "from Bio import SeqIO"
   ]
  },
  {
   "cell_type": "code",
   "execution_count": 14,
   "metadata": {},
   "outputs": [
    {
     "data": {
      "text/plain": [
       "96"
      ]
     },
     "execution_count": 14,
     "metadata": {},
     "output_type": "execute_result"
    }
   ],
   "source": [
    "# get a list of fastq R1 files\n",
    "files = sorted([f for f in fs('/scratch/lindb/testdata') if 'R1' in f and f.endswith('fastq.gz')])\n",
    "len(files)"
   ]
  },
  {
   "cell_type": "code",
   "execution_count": 10,
   "metadata": {},
   "outputs": [
    {
     "data": {
      "text/html": [
       "<div>\n",
       "<style scoped>\n",
       "    .dataframe tbody tr th:only-of-type {\n",
       "        vertical-align: middle;\n",
       "    }\n",
       "\n",
       "    .dataframe tbody tr th {\n",
       "        vertical-align: top;\n",
       "    }\n",
       "\n",
       "    .dataframe thead th {\n",
       "        text-align: right;\n",
       "    }\n",
       "</style>\n",
       "<table border=\"1\" class=\"dataframe\">\n",
       "  <thead>\n",
       "    <tr style=\"text-align: right;\">\n",
       "      <th></th>\n",
       "      <th>Read_group_header_line</th>\n",
       "      <th>Pool_name</th>\n",
       "      <th>Sample_name</th>\n",
       "      <th>Ploidy</th>\n",
       "      <th>Index1</th>\n",
       "      <th>Index2</th>\n",
       "      <th>Adaptor_1</th>\n",
       "      <th>Adaptor_2</th>\n",
       "    </tr>\n",
       "  </thead>\n",
       "  <tbody>\n",
       "    <tr>\n",
       "      <th>0</th>\n",
       "      <td>@RG\\tID:mg8\\tLB:LPcap2\\tSM:mg8</td>\n",
       "      <td>LP_mg_cap2_kit1</td>\n",
       "      <td>LP_mg8_cap2_kit1</td>\n",
       "      <td>1</td>\n",
       "      <td>ATTACTCG</td>\n",
       "      <td>GGCTCTGA</td>\n",
       "      <td>AGATCGGAAGAGCACACGTCTGAACTCCAGTCAC</td>\n",
       "      <td>AGATCGGAAGAGCGTCGTGTAGGGAAAGAGTGT</td>\n",
       "    </tr>\n",
       "    <tr>\n",
       "      <th>1</th>\n",
       "      <td>@RG\\tID:mg22\\tLB:LPcap2\\tSM:mg22</td>\n",
       "      <td>LP_mg_cap2_kit1</td>\n",
       "      <td>LP_mg22_cap2_kit1</td>\n",
       "      <td>1</td>\n",
       "      <td>TCCGGAG</td>\n",
       "      <td>GGCTCTGA</td>\n",
       "      <td>AGATCGGAAGAGCACACGTCTGAACTCCAGTCAC</td>\n",
       "      <td>AGATCGGAAGAGCGTCGTGTAGGGAAAGAGTGT</td>\n",
       "    </tr>\n",
       "    <tr>\n",
       "      <th>2</th>\n",
       "      <td>@RG\\tID:mg64\\tLB:LPcap2\\tSM:mg64</td>\n",
       "      <td>LP_mg_cap2_kit1</td>\n",
       "      <td>LP_mg64_cap2_kit1</td>\n",
       "      <td>1</td>\n",
       "      <td>GAATTCGT</td>\n",
       "      <td>GGCTCTGA</td>\n",
       "      <td>AGATCGGAAGAGCACACGTCTGAACTCCAGTCAC</td>\n",
       "      <td>AGATCGGAAGAGCGTCGTGTAGGGAAAGAGTGT</td>\n",
       "    </tr>\n",
       "    <tr>\n",
       "      <th>3</th>\n",
       "      <td>@RG\\tID:mg9\\tLB:LPcap2\\tSM:mg9</td>\n",
       "      <td>LP_mg_cap2_kit1</td>\n",
       "      <td>LP_mg9_cap2_kit1</td>\n",
       "      <td>1</td>\n",
       "      <td>CGCTCATT</td>\n",
       "      <td>GGCTCTGA</td>\n",
       "      <td>AGATCGGAAGAGCACACGTCTGAACTCCAGTCAC</td>\n",
       "      <td>AGATCGGAAGAGCGTCGTGTAGGGAAAGAGTGT</td>\n",
       "    </tr>\n",
       "    <tr>\n",
       "      <th>4</th>\n",
       "      <td>@RG\\tID:mg10\\tLB:LPcap2\\tSM:mg10</td>\n",
       "      <td>LP_mg_cap2_kit1</td>\n",
       "      <td>LP_mg10_cap2_kit1</td>\n",
       "      <td>1</td>\n",
       "      <td>GAGATTCC</td>\n",
       "      <td>GGCTCTGA</td>\n",
       "      <td>AGATCGGAAGAGCACACGTCTGAACTCCAGTCAC</td>\n",
       "      <td>AGATCGGAAGAGCGTCGTGTAGGGAAAGAGTGT</td>\n",
       "    </tr>\n",
       "  </tbody>\n",
       "</table>\n",
       "</div>"
      ],
      "text/plain": [
       "             Read_group_header_line        Pool_name        Sample_name  \\\n",
       "0    @RG\\tID:mg8\\tLB:LPcap2\\tSM:mg8  LP_mg_cap2_kit1   LP_mg8_cap2_kit1   \n",
       "1  @RG\\tID:mg22\\tLB:LPcap2\\tSM:mg22  LP_mg_cap2_kit1  LP_mg22_cap2_kit1   \n",
       "2  @RG\\tID:mg64\\tLB:LPcap2\\tSM:mg64  LP_mg_cap2_kit1  LP_mg64_cap2_kit1   \n",
       "3    @RG\\tID:mg9\\tLB:LPcap2\\tSM:mg9  LP_mg_cap2_kit1   LP_mg9_cap2_kit1   \n",
       "4  @RG\\tID:mg10\\tLB:LPcap2\\tSM:mg10  LP_mg_cap2_kit1  LP_mg10_cap2_kit1   \n",
       "\n",
       "   Ploidy    Index1       Index2                           Adaptor_1  \\\n",
       "0       1  ATTACTCG  GGCTCTGA     AGATCGGAAGAGCACACGTCTGAACTCCAGTCAC   \n",
       "1       1   TCCGGAG     GGCTCTGA  AGATCGGAAGAGCACACGTCTGAACTCCAGTCAC   \n",
       "2       1  GAATTCGT     GGCTCTGA  AGATCGGAAGAGCACACGTCTGAACTCCAGTCAC   \n",
       "3       1  CGCTCATT     GGCTCTGA  AGATCGGAAGAGCACACGTCTGAACTCCAGTCAC   \n",
       "4       1  GAGATTCC     GGCTCTGA  AGATCGGAAGAGCACACGTCTGAACTCCAGTCAC   \n",
       "\n",
       "                           Adaptor_2  \n",
       "0  AGATCGGAAGAGCGTCGTGTAGGGAAAGAGTGT  \n",
       "1  AGATCGGAAGAGCGTCGTGTAGGGAAAGAGTGT  \n",
       "2  AGATCGGAAGAGCGTCGTGTAGGGAAAGAGTGT  \n",
       "3  AGATCGGAAGAGCGTCGTGTAGGGAAAGAGTGT  \n",
       "4  AGATCGGAAGAGCGTCGTGTAGGGAAAGAGTGT  "
      ]
     },
     "execution_count": 10,
     "metadata": {},
     "output_type": "execute_result"
    }
   ],
   "source": [
    "# import info sheet\n",
    "summary = pd.read_csv('/scratch/lindb/testdata/1_CoAdapTree_Seq_summary.txt',sep='\\t')\n",
    "summary.head()"
   ]
  },
  {
   "cell_type": "code",
   "execution_count": 11,
   "metadata": {},
   "outputs": [
    {
     "data": {
      "text/plain": [
       "96"
      ]
     },
     "execution_count": 11,
     "metadata": {},
     "output_type": "execute_result"
    }
   ],
   "source": [
    "samps = sorted(summary['Sample_name'].tolist())\n",
    "len(samps)"
   ]
  },
  {
   "cell_type": "code",
   "execution_count": 39,
   "metadata": {},
   "outputs": [],
   "source": [
    "# fill in blank pool names, create dictionary for samps in pools, get a list of spp, get rg info\n",
    "sampdict = {}\n",
    "spp      = []\n",
    "rg       = {}\n",
    "for row in summary.index:\n",
    "    if type(summary.loc[row,'Pool_name']) == float:\n",
    "        summary.loc[row,'Pool_name'] = summary.loc[row,'Sample_name']\n",
    "    pool = summary.loc[row,'Pool_name']\n",
    "    samp = summary.loc[row,'Sample_name']\n",
    "    sp   = pool.split(\"_\")[0]\n",
    "    if not sp in spp:\n",
    "        spp.append(sp)\n",
    "        spp = sorted(spp)\n",
    "    sampdict[samp] = pool\n",
    "    rg[samp]       = summary.loc[row,'Read_group_header_line']\n"
   ]
  },
  {
   "cell_type": "code",
   "execution_count": 40,
   "metadata": {},
   "outputs": [
    {
     "data": {
      "text/plain": [
       "'@RG\\\\tID:p27\\\\tLB:DFcap2\\\\tSM:p27'"
      ]
     },
     "execution_count": 40,
     "metadata": {},
     "output_type": "execute_result"
    }
   ],
   "source": [
    "rg[samp]"
   ]
  },
  {
   "cell_type": "code",
   "execution_count": 43,
   "metadata": {},
   "outputs": [],
   "source": [
    "pkldump(rg,'/scratch/lindb/testdata/rginfo.pkl')"
   ]
  },
  {
   "cell_type": "code",
   "execution_count": 44,
   "metadata": {},
   "outputs": [],
   "source": [
    "# list of files by pool\n",
    "poolfdict = {}\n",
    "ftopool = {}\n",
    "for f in files:\n",
    "    samp = f.split(\"---\")[1].split(\".\")[1].replace(\"_R1\",\"\")\n",
    "    pool = sampdict[samp]\n",
    "    if not pool in poolfdict:\n",
    "        poolfdict[pool] = []\n",
    "    f2 = op.abspath(f).replace(\"_R1\",\"_R2\")\n",
    "    assert op.exists(f2)\n",
    "    [poolfdict[pool].append(x) for x in [f,f2]]\n",
    "    ftopool[f]  = pool\n",
    "    ftopool[f2] = pool\n",
    "    \n",
    "# poolfdict"
   ]
  },
  {
   "cell_type": "code",
   "execution_count": 17,
   "metadata": {},
   "outputs": [
    {
     "data": {
      "text/plain": [
       "'JP_cap4_kit1'"
      ]
     },
     "execution_count": 17,
     "metadata": {},
     "output_type": "execute_result"
    }
   ],
   "source": [
    "samp = sampdict.keys()[0]\n",
    "sampdict[samp]"
   ]
  },
  {
   "cell_type": "markdown",
   "metadata": {},
   "source": [
    "## parse fastq files for efficiency"
   ]
  },
  {
   "cell_type": "code",
   "execution_count": 3,
   "metadata": {},
   "outputs": [
    {
     "data": {
      "text/plain": [
       "200"
      ]
     },
     "execution_count": 3,
     "metadata": {},
     "output_type": "execute_result"
    }
   ],
   "source": [
    "# multiprocess count files \n",
    "rc = Client(profile=\"job_10804682\")\n",
    "dview = rc[:]\n",
    "lview = rc.load_balanced_view()\n",
    "len(lview)"
   ]
  },
  {
   "cell_type": "code",
   "execution_count": 57,
   "metadata": {},
   "outputs": [],
   "source": [
    "def countreads(f):\n",
    "    linecount = !zcat $f | wc -l | bc\n",
    "    readcount = int(linecount[0]) / 4\n",
    "    return (f,readcount)\n",
    "dview['countreads'] = countreads"
   ]
  },
  {
   "cell_type": "code",
   "execution_count": 103,
   "metadata": {},
   "outputs": [
    {
     "data": {
      "text/plain": [
       "192"
      ]
     },
     "execution_count": 103,
     "metadata": {},
     "output_type": "execute_result"
    }
   ],
   "source": [
    "allfiles = []\n",
    "for f in files:\n",
    "    f2 = f.replace(\"_R1\",\"_R2\")\n",
    "    assert op.exists(f2)\n",
    "    [allfiles.append(x) for x in [f,f2]]\n",
    "counts = dview.map(countreads,allfiles)\n",
    "len(counts)"
   ]
  },
  {
   "cell_type": "code",
   "execution_count": 129,
   "metadata": {},
   "outputs": [
    {
     "data": {
      "text/plain": [
       "{'DF_cap3_kit1': 133352664.0,\n",
       " 'DF_cap4_kit1': 127930938.0,\n",
       " 'DF_cap5_kit1': 158503122.0,\n",
       " 'DF_p27_cap2_kit2': 154428352.0,\n",
       " 'DF_p52_cap1_kit2': 109897366.0,\n",
       " 'JP_cap3_kit1': 125895818.0,\n",
       " 'JP_cap4_kit1': 127292702.0,\n",
       " 'JP_cap5_kit1': 139053014.0,\n",
       " 'JP_p101_cap1_kit1': 152988120.0,\n",
       " 'JP_p102_cap2_kit1': 128065604.0,\n",
       " 'LP_mg_cap2_kit1': 133595514.0,\n",
       " 'LP_mg_cap3_kit1': 122122024.0,\n",
       " 'LP_mg_cap4_kit1': 97997102.0,\n",
       " 'LP_mg_cap5_kit1': 89972752.0,\n",
       " 'LP_mg_cap6_kit1': 104349450.0,\n",
       " 'LP_pmg40_cap1_kit1': 126757062.0,\n",
       " 'WL_cap3_kit1': 109160064.0,\n",
       " 'WL_cap4_kit1': 107461138.0,\n",
       " 'WL_cap5_kit1': 160162326.0,\n",
       " 'WL_p404_cap1_kit1': 141502964.0,\n",
       " 'WL_p406_cap2_kit1': 158937502.0}"
      ]
     },
     "execution_count": 129,
     "metadata": {},
     "output_type": "execute_result"
    }
   ],
   "source": [
    "poolreads = {}\n",
    "freads = {}\n",
    "for c in counts:\n",
    "    f = c[0]\n",
    "    freads[f] = c[1]\n",
    "    pool = ftopool[f]\n",
    "    if not pool in poolreads:\n",
    "        poolreads[pool] = 0\n",
    "    poolreads[pool] += c[1]\n",
    "poolreads"
   ]
  },
  {
   "cell_type": "code",
   "execution_count": 98,
   "metadata": {
    "collapsed": true
   },
   "outputs": [
    {
     "name": "stdout",
     "output_type": "stream",
     "text": [
      "WL_cap5_kit1 80081163.0\n",
      "WL_p406_cap2_kit1 79468751.0\n",
      "DF_cap5_kit1 79251561.0\n",
      "DF_p27_cap2_kit2 77214176.0\n",
      "JP_p101_cap1_kit1 76494060.0\n",
      "WL_p404_cap1_kit1 70751482.0\n",
      "JP_cap5_kit1 69526507.0\n",
      "LP_mg_cap2_kit1 66797757.0\n",
      "DF_cap3_kit1 66676332.0\n",
      "JP_p102_cap2_kit1 64032802.0\n",
      "DF_cap4_kit1 63965469.0\n",
      "JP_cap4_kit1 63646351.0\n",
      "LP_pmg40_cap1_kit1 63378531.0\n",
      "JP_cap3_kit1 62947909.0\n",
      "LP_mg_cap3_kit1 61061012.0\n",
      "DF_p52_cap1_kit2 54948683.0\n",
      "WL_cap3_kit1 54580032.0\n",
      "WL_cap4_kit1 53730569.0\n",
      "LP_mg_cap6_kit1 52174725.0\n",
      "LP_mg_cap4_kit1 48998551.0\n",
      "LP_mg_cap5_kit1 44986376.0\n"
     ]
    },
    {
     "data": {
      "text/plain": [
       "1354712799.0"
      ]
     },
     "execution_count": 98,
     "metadata": {},
     "output_type": "execute_result"
    }
   ],
   "source": [
    "readsums = 0\n",
    "for pool in sorted(poolreads,key=poolreads.get,reverse=True):\n",
    "    print pool,poolreads[pool]\n",
    "    readsums += poolreads[pool]\n",
    "readsums"
   ]
  },
  {
   "cell_type": "code",
   "execution_count": 252,
   "metadata": {},
   "outputs": [],
   "source": [
    "DIR = '/scratch/lindb/testdata/'\n",
    "shdir = op.join(DIR,'shfiles/parse')\n",
    "if not op.exists(shdir):\n",
    "    os.makedirs(shdir)\n",
    "count = 0\n",
    "for f in ftopool.keys():\n",
    "    pool = ftopool[f]\n",
    "    pooldir = op.join(DIR,pool)\n",
    "    if not op.exists(pooldir):\n",
    "        os.makedirs(pooldir)\n",
    "    text = '''#!/bin/bash\n",
    "#SBATCH --account=def-saitken\n",
    "#SBATCH --job-name=parse%s\n",
    "#SBATCH --export=all\n",
    "#SBATCH --time=08:00:00\n",
    "#SBATCH --mem=1000mb\n",
    "#SBATCH --cpus-per-task=1\n",
    "\n",
    "source $HOME/.bashrc\n",
    "cd $HOME/pipeline\n",
    "\n",
    "python 00_parse_fastq.py %s %s\n",
    "''' % (str(count).zfill(3),\n",
    "       f,\n",
    "       pooldir\n",
    "      )\n",
    "    filE = op.join(shdir,'parse_%s.sh' % str(count).zfill(3))\n",
    "    with open(filE,'w') as o:\n",
    "        o.write(\"%s\" % text)\n",
    "    count += 1"
   ]
  },
  {
   "cell_type": "code",
   "execution_count": 171,
   "metadata": {},
   "outputs": [
    {
     "name": "stdout",
     "output_type": "stream",
     "text": [
      "Submitted batch job 10807029\n",
      "Submitted batch job 10807030\n",
      "Submitted batch job 10807032\n",
      "Submitted batch job 10807033\n",
      "Submitted batch job 10807034\n",
      "Submitted batch job 10807035\n",
      "Submitted batch job 10807036\n",
      "Submitted batch job 10807037\n",
      "Submitted batch job 10807038\n",
      "Submitted batch job 10807039\n",
      "Submitted batch job 10807040\n",
      "Submitted batch job 10807041\n",
      "Submitted batch job 10807042\n",
      "Submitted batch job 10807043\n",
      "Submitted batch job 10807044\n",
      "Submitted batch job 10807045\n",
      "Submitted batch job 10807046\n",
      "Submitted batch job 10807047\n",
      "Submitted batch job 10807048\n",
      "Submitted batch job 10807049\n",
      "Submitted batch job 10807050\n",
      "Submitted batch job 10807051\n",
      "Submitted batch job 10807052\n",
      "Submitted batch job 10807053\n",
      "Submitted batch job 10807054\n",
      "Submitted batch job 10807055\n",
      "Submitted batch job 10807056\n",
      "Submitted batch job 10807057\n",
      "Submitted batch job 10807058\n",
      "Submitted batch job 10807059\n",
      "Submitted batch job 10807060\n",
      "Submitted batch job 10807061\n",
      "Submitted batch job 10807062\n",
      "Submitted batch job 10807063\n",
      "Submitted batch job 10807064\n",
      "Submitted batch job 10807065\n",
      "Submitted batch job 10807066\n",
      "Submitted batch job 10807067\n",
      "Submitted batch job 10807068\n",
      "Submitted batch job 10807069\n",
      "Submitted batch job 10807070\n",
      "Submitted batch job 10807071\n",
      "Submitted batch job 10807073\n",
      "Submitted batch job 10807074\n",
      "Submitted batch job 10807075\n",
      "Submitted batch job 10807076\n",
      "Submitted batch job 10807078\n",
      "Submitted batch job 10807079\n",
      "Submitted batch job 10807080\n",
      "Submitted batch job 10807082\n",
      "Submitted batch job 10807083\n",
      "Submitted batch job 10807085\n",
      "Submitted batch job 10807086\n",
      "Submitted batch job 10807087\n",
      "Submitted batch job 10807089\n",
      "Submitted batch job 10807091\n",
      "Submitted batch job 10807093\n",
      "Submitted batch job 10807095\n",
      "Submitted batch job 10807098\n",
      "Submitted batch job 10807100\n",
      "Submitted batch job 10807101\n",
      "Submitted batch job 10807102\n",
      "Submitted batch job 10807104\n",
      "Submitted batch job 10807106\n",
      "Submitted batch job 10807107\n",
      "Submitted batch job 10807108\n",
      "Submitted batch job 10807109\n",
      "Submitted batch job 10807110\n",
      "Submitted batch job 10807111\n",
      "Submitted batch job 10807112\n",
      "Submitted batch job 10807113\n",
      "Submitted batch job 10807114\n",
      "Submitted batch job 10807115\n",
      "Submitted batch job 10807116\n",
      "Submitted batch job 10807117\n",
      "Submitted batch job 10807118\n",
      "Submitted batch job 10807120\n",
      "Submitted batch job 10807121\n",
      "Submitted batch job 10807122\n",
      "Submitted batch job 10807124\n",
      "Submitted batch job 10807126\n",
      "Submitted batch job 10807127\n",
      "Submitted batch job 10807128\n",
      "Submitted batch job 10807129\n",
      "Submitted batch job 10807130\n",
      "Submitted batch job 10807131\n",
      "Submitted batch job 10807132\n",
      "Submitted batch job 10807133\n",
      "Submitted batch job 10807134\n",
      "Submitted batch job 10807135\n",
      "Submitted batch job 10807136\n",
      "Submitted batch job 10807137\n",
      "Submitted batch job 10807138\n",
      "Submitted batch job 10807139\n",
      "Submitted batch job 10807141\n",
      "Submitted batch job 10807142\n",
      "Submitted batch job 10807143\n",
      "Submitted batch job 10807147\n",
      "Submitted batch job 10807150\n",
      "Submitted batch job 10807151\n",
      "Submitted batch job 10807152\n",
      "Submitted batch job 10807155\n",
      "Submitted batch job 10807156\n",
      "Submitted batch job 10807157\n",
      "Submitted batch job 10807158\n",
      "Submitted batch job 10807159\n",
      "Submitted batch job 10807160\n",
      "Submitted batch job 10807161\n",
      "Submitted batch job 10807163\n",
      "Submitted batch job 10807164\n",
      "Submitted batch job 10807166\n",
      "Submitted batch job 10807201\n",
      "Submitted batch job 10807206\n",
      "Submitted batch job 10807208\n",
      "Submitted batch job 10807209\n",
      "Submitted batch job 10807210\n",
      "Submitted batch job 10807211\n",
      "Submitted batch job 10807212\n",
      "Submitted batch job 10807213\n",
      "Submitted batch job 10807214\n",
      "Submitted batch job 10807215\n",
      "Submitted batch job 10807216\n",
      "Submitted batch job 10807217\n",
      "Submitted batch job 10807218\n",
      "Submitted batch job 10807219\n",
      "Submitted batch job 10807220\n",
      "Submitted batch job 10807221\n",
      "Submitted batch job 10807222\n",
      "Submitted batch job 10807223\n",
      "Submitted batch job 10807224\n",
      "Submitted batch job 10807225\n",
      "Submitted batch job 10807226\n",
      "Submitted batch job 10807227\n",
      "Submitted batch job 10807228\n",
      "Submitted batch job 10807229\n",
      "Submitted batch job 10807230\n",
      "Submitted batch job 10807231\n",
      "Submitted batch job 10807232\n",
      "Submitted batch job 10807233\n",
      "Submitted batch job 10807235\n",
      "Submitted batch job 10807236\n",
      "Submitted batch job 10807237\n",
      "Submitted batch job 10807238\n",
      "Submitted batch job 10807239\n",
      "Submitted batch job 10807241\n",
      "Submitted batch job 10807244\n",
      "Submitted batch job 10807249\n",
      "Submitted batch job 10807253\n",
      "Submitted batch job 10807258\n",
      "Submitted batch job 10807260\n",
      "Submitted batch job 10807262\n",
      "Submitted batch job 10807266\n",
      "Submitted batch job 10807281\n",
      "Submitted batch job 10807290\n",
      "Submitted batch job 10807293\n",
      "Submitted batch job 10807296\n",
      "Submitted batch job 10807298\n",
      "Submitted batch job 10807310\n",
      "Submitted batch job 10807331\n",
      "Submitted batch job 10807333\n",
      "Submitted batch job 10807334\n",
      "Submitted batch job 10807335\n",
      "Submitted batch job 10807336\n",
      "Submitted batch job 10807337\n",
      "Submitted batch job 10807338\n",
      "Submitted batch job 10807339\n",
      "Submitted batch job 10807340\n",
      "Submitted batch job 10807341\n",
      "Submitted batch job 10807342\n",
      "Submitted batch job 10807343\n",
      "Submitted batch job 10807344\n",
      "Submitted batch job 10807345\n",
      "Submitted batch job 10807346\n",
      "Submitted batch job 10807347\n",
      "Submitted batch job 10807348\n",
      "Submitted batch job 10807349\n",
      "Submitted batch job 10807350\n",
      "Submitted batch job 10807351\n",
      "Submitted batch job 10807352\n",
      "Submitted batch job 10807353\n",
      "Submitted batch job 10807354\n",
      "Submitted batch job 10807355\n",
      "Submitted batch job 10807356\n",
      "Submitted batch job 10807357\n",
      "Submitted batch job 10807358\n",
      "Submitted batch job 10807359\n",
      "Submitted batch job 10807360\n",
      "Submitted batch job 10807361\n",
      "Submitted batch job 10807362\n"
     ]
    }
   ],
   "source": [
    "os.chdir(shdir)\n",
    "for f in fs(shdir):\n",
    "    !sbatch $f"
   ]
  },
  {
   "cell_type": "code",
   "execution_count": 175,
   "metadata": {
    "scrolled": true
   },
   "outputs": [
    {
     "name": "stdout",
     "output_type": "stream",
     "text": [
      "DF_cap3_kit1\n",
      "1089\n",
      "DF_cap3_kit1\n",
      "6643\n",
      "DF_cap3_kit1\n",
      "6230\n",
      "DF_cap3_kit1\n",
      "6002\n",
      "DF_cap3_kit1\n",
      "1678\n",
      "DF_cap3_kit1\n",
      "1029\n",
      "DF_cap3_kit1\n",
      "6390\n",
      "DF_cap3_kit1\n",
      "7440\n",
      "DF_cap3_kit1\n",
      "5014\n",
      "DF_cap3_kit1\n",
      "4038\n",
      "DF_cap3_kit1\n",
      "4067\n",
      "DF_cap3_kit1\n",
      "5476\n",
      "DF_cap3_kit1\n",
      "4164\n",
      "DF_cap3_kit1\n",
      "1159\n",
      "DF_cap3_kit1\n",
      "805\n",
      "DF_cap3_kit1\n",
      "1784\n",
      "DF_cap3_kit1\n",
      "6461\n",
      "DF_cap3_kit1\n",
      "902\n",
      "DF_cap3_kit1\n",
      "6339\n",
      "DF_cap3_kit1\n",
      "7519\n",
      "DF_cap3_kit1\n",
      "5801\n"
     ]
    }
   ],
   "source": [
    "for p in poolreads:\n",
    "    print pool\n",
    "    pdir = op.join(DIR,p)\n",
    "    print len(ls(pdir))"
   ]
  },
  {
   "cell_type": "markdown",
   "metadata": {},
   "source": [
    "## count files to decide lensh for 01a_trim-fastq"
   ]
  },
  {
   "cell_type": "code",
   "execution_count": null,
   "metadata": {},
   "outputs": [],
   "source": [
    "1+1"
   ]
  },
  {
   "cell_type": "code",
   "execution_count": 3,
   "metadata": {},
   "outputs": [
    {
     "data": {
      "text/plain": [
       "271036"
      ]
     },
     "execution_count": 3,
     "metadata": {},
     "output_type": "execute_result"
    }
   ],
   "source": [
    "# get nfiles per dir\n",
    "os.chdir('/scratch/lindb/testdata/')\n",
    "dirs = !ls -d */\n",
    "dirs = [op.abspath(d) for d in dirs if 'kit' in d]\n",
    "\n",
    "fcount = 0\n",
    "dcount = {}\n",
    "for d in dirs:\n",
    "    fcount += len(ls(d))\n",
    "    dcount[d] = len(ls(d))\n",
    "fcount"
   ]
  },
  {
   "cell_type": "code",
   "execution_count": 4,
   "metadata": {
    "scrolled": true
   },
   "outputs": [
    {
     "data": {
      "text/plain": [
       "(0.9999999999999999,\n",
       " {'/scratch/lindb/testdata/DF_cap3_kit1': 0.04921855399282752,\n",
       "  '/scratch/lindb/testdata/DF_cap4_kit1': 0.0472188196401954,\n",
       "  '/scratch/lindb/testdata/DF_cap5_kit1': 0.058501453681429776,\n",
       "  '/scratch/lindb/testdata/DF_p27_cap2_kit2': 0.05698136040968727,\n",
       "  '/scratch/lindb/testdata/DF_p52_cap1_kit2': 0.040548119069053555,\n",
       "  '/scratch/lindb/testdata/JP_cap3_kit1': 0.046466152097876294,\n",
       "  '/scratch/lindb/testdata/JP_cap4_kit1': 0.046997446833630954,\n",
       "  '/scratch/lindb/testdata/JP_cap5_kit1': 0.05132897474874187,\n",
       "  '/scratch/lindb/testdata/JP_p101_cap1_kit1': 0.05645006567393261,\n",
       "  '/scratch/lindb/testdata/JP_p102_cap2_kit1': 0.04725571510795614,\n",
       "  '/scratch/lindb/testdata/LP_mg_cap2_kit1': 0.0493071031154533,\n",
       "  '/scratch/lindb/testdata/LP_mg_cap3_kit1': 0.045078882510072464,\n",
       "  '/scratch/lindb/testdata/LP_mg_cap4_kit1': 0.03617969568618191,\n",
       "  '/scratch/lindb/testdata/LP_mg_cap5_kit1': 0.03322067917177054,\n",
       "  '/scratch/lindb/testdata/LP_mg_cap6_kit1': 0.03852624743576499,\n",
       "  '/scratch/lindb/testdata/LP_pmg40_cap1_kit1': 0.04676869493351437,\n",
       "  '/scratch/lindb/testdata/WL_cap3_kit1': 0.04030460898183267,\n",
       "  '/scratch/lindb/testdata/WL_cap4_kit1': 0.03967000693634794,\n",
       "  '/scratch/lindb/testdata/WL_cap5_kit1': 0.05912129753981021,\n",
       "  '/scratch/lindb/testdata/WL_p404_cap1_kit1': 0.05221446597499963,\n",
       "  '/scratch/lindb/testdata/WL_p406_cap2_kit1': 0.05864165645892059})"
      ]
     },
     "execution_count": 4,
     "metadata": {},
     "output_type": "execute_result"
    }
   ],
   "source": [
    "# determine frac of sh files\n",
    "sums = sum(dcount.values())\n",
    "frac = {}\n",
    "for d in dcount:\n",
    "    frac[d] = dcount[d]/sums\n",
    "sum(frac.values()),frac"
   ]
  },
  {
   "cell_type": "code",
   "execution_count": 5,
   "metadata": {},
   "outputs": [
    {
     "name": "stdout",
     "output_type": "stream",
     "text": [
      "/scratch/lindb/testdata/LP_mg_cap5_kit1 33\n",
      "/scratch/lindb/testdata/WL_cap5_kit1 58\n",
      "/scratch/lindb/testdata/WL_p406_cap2_kit1 58\n",
      "/scratch/lindb/testdata/WL_cap3_kit1 40\n",
      "/scratch/lindb/testdata/WL_cap4_kit1 39\n",
      "/scratch/lindb/testdata/LP_mg_cap4_kit1 36\n",
      "/scratch/lindb/testdata/JP_cap3_kit1 46\n",
      "/scratch/lindb/testdata/LP_mg_cap6_kit1 38\n",
      "/scratch/lindb/testdata/LP_mg_cap3_kit1 44\n",
      "/scratch/lindb/testdata/LP_mg_cap2_kit1 49\n",
      "/scratch/lindb/testdata/LP_pmg40_cap1_kit1 46\n",
      "/scratch/lindb/testdata/WL_p404_cap1_kit1 51\n",
      "/scratch/lindb/testdata/DF_cap4_kit1 47\n",
      "/scratch/lindb/testdata/JP_p102_cap2_kit1 47\n",
      "/scratch/lindb/testdata/DF_cap5_kit1 58\n",
      "/scratch/lindb/testdata/JP_p101_cap1_kit1 56\n",
      "/scratch/lindb/testdata/JP_cap4_kit1 46\n",
      "/scratch/lindb/testdata/DF_p27_cap2_kit2 56\n",
      "/scratch/lindb/testdata/JP_cap5_kit1 51\n",
      "/scratch/lindb/testdata/DF_p52_cap1_kit2 40\n",
      "/scratch/lindb/testdata/DF_cap3_kit1 48\n"
     ]
    }
   ],
   "source": [
    "# num sh files per dir\n",
    "shfrac = {}\n",
    "for d in frac:\n",
    "    shfrac[d] = int(math.ceil(frac[d]*975))\n",
    "    print d, shfrac[d]"
   ]
  },
  {
   "cell_type": "code",
   "execution_count": 46,
   "metadata": {},
   "outputs": [],
   "source": [
    "shdir = '/scratch/lindb/testdata/shfiles/start_trim'\n",
    "if not op.exists(shdir):\n",
    "    os.makedirs(shdir)\n",
    "for d in shfrac:\n",
    "    text = '''#!/bin/bash\n",
    "#SBATCH --account=def-saitken\n",
    "#SBATCH --job-name=%s\n",
    "#SBATCH --export=all\n",
    "#SBATCH --time=12:00:00\n",
    "#SBATCH --mem=1000mb\n",
    "#SBATCH --cpus-per-task=1\n",
    "#SBATCH --mail-user=brandon.lind@ubc.ca\n",
    "#SBATCH --mail-type=END\n",
    "#SBATCH --mail-type=FAIL\n",
    "\n",
    "\n",
    "source $HOME/.bashrc\n",
    "cd $HOME/pipeline\n",
    "\n",
    "python 01a_trim-fastq.py %s %s %s\n",
    "''' % (op.basename(d),\n",
    "       d,\n",
    "       '/home/lindb/scratch/ptaeda.v1.01.reduced.pseudo.fasta',\n",
    "       str(shfrac[d])\n",
    "      )\n",
    "    filE = op.join(shdir,'start-trim_%s.sh' % op.basename(d))\n",
    "    with open(filE,'w') as o:\n",
    "        o.write(\"%s\" % text)"
   ]
  },
  {
   "cell_type": "code",
   "execution_count": 48,
   "metadata": {},
   "outputs": [
    {
     "name": "stdout",
     "output_type": "stream",
     "text": [
      "Submitted batch job 10822585\n",
      "Submitted batch job 10822587\n",
      "Submitted batch job 10822590\n",
      "Submitted batch job 10822592\n",
      "Submitted batch job 10822594\n",
      "Submitted batch job 10822597\n",
      "Submitted batch job 10822599\n",
      "Submitted batch job 10822603\n",
      "Submitted batch job 10822606\n",
      "Submitted batch job 10822608\n",
      "Submitted batch job 10822612\n",
      "Submitted batch job 10822614\n",
      "Submitted batch job 10822617\n",
      "Submitted batch job 10822619\n",
      "Submitted batch job 10822621\n",
      "Submitted batch job 10822623\n",
      "Submitted batch job 10822628\n",
      "Submitted batch job 10822631\n",
      "Submitted batch job 10822633\n",
      "Submitted batch job 10822635\n",
      "Submitted batch job 10822638\n"
     ]
    }
   ],
   "source": [
    "for f in fs(shdir):\n",
    "    !sbatch $f"
   ]
  },
  {
   "cell_type": "code",
   "execution_count": 50,
   "metadata": {},
   "outputs": [
    {
     "data": {
      "text/plain": [
       "'/scratch/lindb/testdata'"
      ]
     },
     "execution_count": 50,
     "metadata": {},
     "output_type": "execute_result"
    }
   ],
   "source": [
    "os.getcwd()"
   ]
  },
  {
   "cell_type": "code",
   "execution_count": 1,
   "metadata": {},
   "outputs": [],
   "source": [
    "text = !squeue -u lindb"
   ]
  },
  {
   "cell_type": "code",
   "execution_count": 2,
   "metadata": {},
   "outputs": [
    {
     "data": {
      "text/plain": [
       "['10823132',\n",
       " '10823133',\n",
       " '10823135',\n",
       " '10823136',\n",
       " '10823138',\n",
       " '10823140',\n",
       " '10823142',\n",
       " '10823143',\n",
       " '10823144',\n",
       " '10823145',\n",
       " '10823146',\n",
       " '10823148',\n",
       " '10823149',\n",
       " '10823150',\n",
       " '10823151',\n",
       " '10823152',\n",
       " '10823153',\n",
       " '10823155',\n",
       " '10823158',\n",
       " '10823159',\n",
       " '10823162',\n",
       " '10823164',\n",
       " '10823165',\n",
       " '10823167',\n",
       " '10823169',\n",
       " '10823170',\n",
       " '10823174',\n",
       " '10823176',\n",
       " '10823178',\n",
       " '10823179',\n",
       " '10823180',\n",
       " '10823183',\n",
       " '10823186',\n",
       " '10823189',\n",
       " '10823191',\n",
       " '10823193',\n",
       " '10823195',\n",
       " '10823196',\n",
       " '10823198',\n",
       " '10823200',\n",
       " '10823201',\n",
       " '10823207',\n",
       " '10823208',\n",
       " '10823210',\n",
       " '10823211',\n",
       " '10823214',\n",
       " '10823216',\n",
       " '10823217',\n",
       " '10823218',\n",
       " '10823221',\n",
       " '10823222',\n",
       " '10823224',\n",
       " '10823228',\n",
       " '10823231',\n",
       " '10823232',\n",
       " '10823235',\n",
       " '10823236',\n",
       " '10823237',\n",
       " '10823239',\n",
       " '10823240',\n",
       " '10823245',\n",
       " '10823246',\n",
       " '10823249',\n",
       " '10823258',\n",
       " '10823259',\n",
       " '10823260',\n",
       " '10823263',\n",
       " '10823266',\n",
       " '10823267',\n",
       " '10823269',\n",
       " '10823270',\n",
       " '10823271',\n",
       " '10823273',\n",
       " '10823276',\n",
       " '10823277',\n",
       " '10823279',\n",
       " '10823281',\n",
       " '10823282',\n",
       " '10823283',\n",
       " '10823284',\n",
       " '10823286',\n",
       " '10823290',\n",
       " '10823291',\n",
       " '10823292',\n",
       " '10823296',\n",
       " '10823302',\n",
       " '10823310',\n",
       " '10823312',\n",
       " '10823316',\n",
       " '10823317',\n",
       " '10823319',\n",
       " '10823321',\n",
       " '10823322',\n",
       " '10823323',\n",
       " '10823324',\n",
       " '10823325',\n",
       " '10823327',\n",
       " '10823330',\n",
       " '10823331',\n",
       " '10823332',\n",
       " '10823333',\n",
       " '10823334',\n",
       " '10823336',\n",
       " '10823337',\n",
       " '10823338',\n",
       " '10823339',\n",
       " '10823342',\n",
       " '10823344',\n",
       " '10823349',\n",
       " '10823350',\n",
       " '10823351',\n",
       " '10823352',\n",
       " '10823353',\n",
       " '10823354',\n",
       " '10823357',\n",
       " '10823358',\n",
       " '10823360',\n",
       " '10823362',\n",
       " '10823363',\n",
       " '10823364',\n",
       " '10823365',\n",
       " '10823366',\n",
       " '10823367',\n",
       " '10823368',\n",
       " '10823369',\n",
       " '10823370',\n",
       " '10823372',\n",
       " '10823373',\n",
       " '10823374',\n",
       " '10823376',\n",
       " '10823377',\n",
       " '10823378',\n",
       " '10823379',\n",
       " '10823380',\n",
       " '10823381',\n",
       " '10823382',\n",
       " '10823384',\n",
       " '10823385',\n",
       " '10823386',\n",
       " '10823387',\n",
       " '10823391',\n",
       " '10823393',\n",
       " '10823395',\n",
       " '10823396',\n",
       " '10823397',\n",
       " '10823398',\n",
       " '10823399',\n",
       " '10823400',\n",
       " '10823401',\n",
       " '10823402',\n",
       " '10823403',\n",
       " '10823405',\n",
       " '10823406',\n",
       " '10823407',\n",
       " '10823408',\n",
       " '10823410',\n",
       " '10823411',\n",
       " '10823413',\n",
       " '10823417',\n",
       " '10823418',\n",
       " '10823419',\n",
       " '10823423',\n",
       " '10823425',\n",
       " '10823426',\n",
       " '10823427',\n",
       " '10823429',\n",
       " '10823430',\n",
       " '10823431',\n",
       " '10823433',\n",
       " '10823435',\n",
       " '10823436',\n",
       " '10823438',\n",
       " '10823439',\n",
       " '10823440',\n",
       " '10823441',\n",
       " '10823443',\n",
       " '10823444',\n",
       " '10823446',\n",
       " '10823447',\n",
       " '10823448',\n",
       " '10823450',\n",
       " '10823451',\n",
       " '10823452',\n",
       " '10823453',\n",
       " '10823454',\n",
       " '10823456',\n",
       " '10823457',\n",
       " '10823460',\n",
       " '10823461',\n",
       " '10823462',\n",
       " '10823463',\n",
       " '10823465',\n",
       " '10823466',\n",
       " '10823467',\n",
       " '10823468',\n",
       " '10823469',\n",
       " '10823470',\n",
       " '10823472',\n",
       " '10823473',\n",
       " '10823477',\n",
       " '10823480',\n",
       " '10823481',\n",
       " '10823482',\n",
       " '10823484',\n",
       " '10823486',\n",
       " '10823487',\n",
       " '10823488',\n",
       " '10823490',\n",
       " '10823492',\n",
       " '10823499',\n",
       " '10823503',\n",
       " '10823504',\n",
       " '10823505',\n",
       " '10823509',\n",
       " '10823511',\n",
       " '10823514',\n",
       " '10823515',\n",
       " '10823516',\n",
       " '10823519',\n",
       " '10823520',\n",
       " '10823522',\n",
       " '10823523',\n",
       " '10823524',\n",
       " '10823527',\n",
       " '10823529',\n",
       " '10823530',\n",
       " '10823531',\n",
       " '10823532',\n",
       " '10823533',\n",
       " '10823535',\n",
       " '10823536',\n",
       " '10823538',\n",
       " '10823541',\n",
       " '10823542',\n",
       " '10823543',\n",
       " '10823544',\n",
       " '10823545',\n",
       " '10823546',\n",
       " '10823547',\n",
       " '10823548',\n",
       " '10823549',\n",
       " '10823551',\n",
       " '10823554',\n",
       " '10823557',\n",
       " '10823558',\n",
       " '10823559',\n",
       " '10823564',\n",
       " '10823567',\n",
       " '10823569',\n",
       " '10823570',\n",
       " '10823572',\n",
       " '10823573',\n",
       " '10823576',\n",
       " '10823577',\n",
       " '10823580',\n",
       " '10823581',\n",
       " '10823582',\n",
       " '10823585',\n",
       " '10823586',\n",
       " '10823587',\n",
       " '10823588',\n",
       " '10823591',\n",
       " '10823592',\n",
       " '10823593',\n",
       " '10823596',\n",
       " '10823599',\n",
       " '10823601',\n",
       " '10823604',\n",
       " '10823605',\n",
       " '10823606',\n",
       " '10823607',\n",
       " '10823609',\n",
       " '10823610',\n",
       " '10823612',\n",
       " '10823614',\n",
       " '10823615',\n",
       " '10823616',\n",
       " '10823617',\n",
       " '10823618',\n",
       " '10823620',\n",
       " '10823622',\n",
       " '10823623',\n",
       " '10823626',\n",
       " '10823627',\n",
       " '10823628',\n",
       " '10823630',\n",
       " '10823631',\n",
       " '10822585',\n",
       " '10822592',\n",
       " '10822587',\n",
       " '10822590',\n",
       " '10822594',\n",
       " '10822597']"
      ]
     },
     "execution_count": 2,
     "metadata": {},
     "output_type": "execute_result"
    }
   ],
   "source": [
    "count = 0\n",
    "pids = []\n",
    "for line in text[1:]:\n",
    "#     print line.split(\" \")[0]\n",
    "    pids.append(line.split(\" \")[0])\n",
    "pids"
   ]
  },
  {
   "cell_type": "code",
   "execution_count": 4,
   "metadata": {},
   "outputs": [],
   "source": [
    "filE = '/home/lindb/scancel.txt'\n",
    "with open(filE,'w') as o:\n",
    "    for p in pids:\n",
    "        p = int(p)\n",
    "        o.write(\"scancel %i\\n\" % p)"
   ]
  },
  {
   "cell_type": "code",
   "execution_count": null,
   "metadata": {},
   "outputs": [],
   "source": [
    "!cat /home/lindb/scancel.txt | parallel"
   ]
  },
  {
   "cell_type": "code",
   "execution_count": null,
   "metadata": {},
   "outputs": [],
   "source": []
  },
  {
   "cell_type": "code",
   "execution_count": null,
   "metadata": {},
   "outputs": [],
   "source": []
  },
  {
   "cell_type": "code",
   "execution_count": null,
   "metadata": {},
   "outputs": [],
   "source": []
  }
 ],
 "metadata": {
  "kernelspec": {
   "display_name": "Python 2",
   "language": "python",
   "name": "python2"
  },
  "language_info": {
   "codemirror_mode": {
    "name": "ipython",
    "version": 2
   },
   "file_extension": ".py",
   "mimetype": "text/x-python",
   "name": "python",
   "nbconvert_exporter": "python",
   "pygments_lexer": "ipython2",
   "version": "2.7.15"
  }
 },
 "nbformat": 4,
 "nbformat_minor": 2
}
