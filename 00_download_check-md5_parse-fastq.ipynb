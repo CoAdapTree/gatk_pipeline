{
 "cells": [
  {
   "cell_type": "code",
   "execution_count": 1,
   "metadata": {},
   "outputs": [],
   "source": [
    "imp = open('/home/lindb/pythonimports.py').read()\n",
    "exec(imp)\n",
    "from __future__ import division"
   ]
  },
  {
   "cell_type": "markdown",
   "metadata": {},
   "source": [
    "## download"
   ]
  },
  {
   "cell_type": "code",
   "execution_count": 2,
   "metadata": {},
   "outputs": [],
   "source": [
    "# create --post-file for download\n",
    "DIR = '/scratch/lindb/testdata/readSetLinks'\n",
    "tmpfile = op.join(DIR,'.tmp.dat')\n",
    "if not op.exists(tmpfile):\n",
    "    with open(tmpfile,'w') as o:\n",
    "        o.write(\"%s\" % 'j_username=mlu1&j_password=rrgmmngu')\n",
    "    !chmod 600 $tmpfile"
   ]
  },
  {
   "cell_type": "code",
   "execution_count": 3,
   "metadata": {},
   "outputs": [
    {
     "name": "stdout",
     "output_type": "stream",
     "text": [
      "384\n"
     ]
    },
    {
     "data": {
      "text/plain": [
       "'HI.4779.007.D707---D508.JP_101_14_cap5_kit1_R1.fastq.gz'"
      ]
     },
     "execution_count": 3,
     "metadata": {},
     "output_type": "execute_result"
    }
   ],
   "source": [
    "# create dirs, open file with weblinks to fastq files\n",
    "shdir = op.join(DIR,'shfiles')\n",
    "if not op.exists(shdir):\n",
    "    os.makedirs(shdir)\n",
    "links = open(op.join(DIR,'readSetLinks.txt'),'r').readlines()\n",
    "print len(links)\n",
    "# make sure file name parse is correct\n",
    "links[0].split(\"/\")[-1].replace(\"\\n\",\"\")"
   ]
  },
  {
   "cell_type": "code",
   "execution_count": null,
   "metadata": {},
   "outputs": [],
   "source": [
    "# get link dict to download both fastq and md5 file\n"
   ]
  },
  {
   "cell_type": "code",
   "execution_count": 6,
   "metadata": {},
   "outputs": [],
   "source": [
    "# wget links\n",
    "files = [f for f in fs('/home/lindb/scratch/testdata') if 'fastq' in f]\n",
    "for i,link in enumerate(links):\n",
    "    link = link.replace(\"\\n\",\"\")\n",
    "    fqgz = link.split(\"/\")[-1]\n",
    "    f = op.join('/home/lindb/scratch/testdata',fqgz)\n",
    "    if not f in files: # faster to check if f in list than op.exists(f)\n",
    "        text = '''#!/bin/bash\n",
    "#SBATCH --account=def-saitken\n",
    "#SBATCH --job-name=link%s\n",
    "#SBATCH --export=all\n",
    "#SBATCH --time=00:59:00\n",
    "#SBATCH --mem=500mb\n",
    "#SBATCH --cpus-per-task=1\n",
    "\n",
    "cd /home/lindb/scratch/testdata\n",
    "wget --no-cookies --no-check-certificate -c %s --post-file %s\n",
    "''' % (str(i).zfill(3),\n",
    "       link,\n",
    "       tmpfile\n",
    "      )\n",
    "#         filE = op.join(shdir,'wget%s.sh' % str(i).zfill(3))\n",
    "        filE = op.join(shdir,'wget%s.sh' % str(i).zfill(3))        \n",
    "        with open(filE,'w') as o:\n",
    "            o.write(\"%s\" % text)"
   ]
  },
  {
   "cell_type": "code",
   "execution_count": 7,
   "metadata": {},
   "outputs": [
    {
     "data": {
      "text/plain": [
       "'/home/lindb/scratch/testdata/readSetLinks/shfiles/wget000.sh'"
      ]
     },
     "execution_count": 7,
     "metadata": {},
     "output_type": "execute_result"
    }
   ],
   "source": [
    "DIR = '/home/lindb/scratch/testdata/readSetLinks'\n",
    "shdir = op.join(DIR,'shfiles')\n",
    "fs(shdir)[0]"
   ]
  },
  {
   "cell_type": "code",
   "execution_count": 22,
   "metadata": {},
   "outputs": [
    {
     "data": {
      "text/plain": [
       "'/home/lindb/scratch/testdata/readSetLinks/shfiles/wget000.sh'"
      ]
     },
     "execution_count": 22,
     "metadata": {},
     "output_type": "execute_result"
    }
   ],
   "source": [
    "fs(shdir)[0]"
   ]
  },
  {
   "cell_type": "code",
   "execution_count": 3,
   "metadata": {},
   "outputs": [
    {
     "data": {
      "text/plain": [
       "'/home/lindb/scripts/coadaptree'"
      ]
     },
     "execution_count": 3,
     "metadata": {},
     "output_type": "execute_result"
    }
   ],
   "source": [
    "os.getcwd()"
   ]
  },
  {
   "cell_type": "code",
   "execution_count": 23,
   "metadata": {},
   "outputs": [
    {
     "name": "stdout",
     "output_type": "stream",
     "text": [
      "Submitted batch job 11049502\n",
      "Submitted batch job 11049505\n",
      "Submitted batch job 11049507\n",
      "Submitted batch job 11049509\n",
      "Submitted batch job 11049511\n",
      "Submitted batch job 11049513\n",
      "Submitted batch job 11049514\n",
      "Submitted batch job 11049516\n",
      "Submitted batch job 11049517\n",
      "Submitted batch job 11049518\n",
      "Submitted batch job 11049519\n",
      "Submitted batch job 11049520\n",
      "Submitted batch job 11049521\n",
      "Submitted batch job 11049522\n",
      "Submitted batch job 11049523\n",
      "Submitted batch job 11049524\n",
      "Submitted batch job 11049525\n",
      "Submitted batch job 11049526\n",
      "Submitted batch job 11049527\n",
      "Submitted batch job 11049528\n",
      "Submitted batch job 11049529\n",
      "Submitted batch job 11049530\n",
      "Submitted batch job 11049531\n",
      "Submitted batch job 11049533\n",
      "Submitted batch job 11049534\n",
      "Submitted batch job 11049535\n",
      "Submitted batch job 11049536\n",
      "Submitted batch job 11049537\n",
      "Submitted batch job 11049538\n",
      "Submitted batch job 11049540\n",
      "Submitted batch job 11049541\n",
      "Submitted batch job 11049542\n",
      "Submitted batch job 11049546\n",
      "Submitted batch job 11049547\n",
      "Submitted batch job 11049549\n",
      "Submitted batch job 11049550\n",
      "Submitted batch job 11049552\n",
      "Submitted batch job 11049553\n",
      "Submitted batch job 11049554\n",
      "Submitted batch job 11049556\n",
      "Submitted batch job 11049557\n",
      "Submitted batch job 11049559\n",
      "Submitted batch job 11049560\n",
      "Submitted batch job 11049561\n",
      "Submitted batch job 11049562\n",
      "Submitted batch job 11049563\n",
      "Submitted batch job 11049564\n",
      "Submitted batch job 11049565\n",
      "Submitted batch job 11049577\n",
      "Submitted batch job 11049578\n",
      "Submitted batch job 11049579\n",
      "Submitted batch job 11049580\n",
      "Submitted batch job 11049581\n",
      "Submitted batch job 11049583\n",
      "Submitted batch job 11049584\n",
      "Submitted batch job 11049586\n",
      "Submitted batch job 11049588\n",
      "Submitted batch job 11049589\n",
      "Submitted batch job 11049590\n",
      "Submitted batch job 11049591\n",
      "Submitted batch job 11049592\n",
      "Submitted batch job 11049593\n",
      "Submitted batch job 11049594\n",
      "Submitted batch job 11049595\n",
      "Submitted batch job 11049596\n",
      "Submitted batch job 11049597\n",
      "Submitted batch job 11049598\n",
      "Submitted batch job 11049599\n",
      "Submitted batch job 11049600\n",
      "Submitted batch job 11049601\n",
      "Submitted batch job 11049605\n",
      "Submitted batch job 11049613\n",
      "Submitted batch job 11049622\n",
      "Submitted batch job 11049636\n",
      "Submitted batch job 11049645\n",
      "Submitted batch job 11049649\n",
      "Submitted batch job 11049651\n",
      "Submitted batch job 11049654\n",
      "Submitted batch job 11049656\n",
      "Submitted batch job 11049658\n",
      "Submitted batch job 11049661\n",
      "Submitted batch job 11049662\n",
      "Submitted batch job 11049664\n",
      "Submitted batch job 11049667\n",
      "Submitted batch job 11049669\n",
      "Submitted batch job 11049671\n",
      "Submitted batch job 11049674\n",
      "Submitted batch job 11049677\n",
      "Submitted batch job 11049678\n",
      "Submitted batch job 11049679\n",
      "Submitted batch job 11049681\n",
      "Submitted batch job 11049682\n",
      "Submitted batch job 11049683\n",
      "Submitted batch job 11049684\n",
      "Submitted batch job 11049685\n",
      "Submitted batch job 11049686\n",
      "Submitted batch job 11049687\n",
      "Submitted batch job 11049688\n",
      "Submitted batch job 11049689\n",
      "Submitted batch job 11049690\n",
      "Submitted batch job 11049691\n",
      "Submitted batch job 11049693\n",
      "Submitted batch job 11049695\n",
      "Submitted batch job 11049696\n",
      "Submitted batch job 11049697\n",
      "Submitted batch job 11049698\n",
      "Submitted batch job 11049700\n",
      "Submitted batch job 11049702\n",
      "Submitted batch job 11049703\n",
      "Submitted batch job 11049704\n",
      "Submitted batch job 11049705\n",
      "Submitted batch job 11049707\n",
      "Submitted batch job 11049710\n",
      "Submitted batch job 11049712\n",
      "Submitted batch job 11049713\n",
      "Submitted batch job 11049714\n",
      "Submitted batch job 11049715\n",
      "Submitted batch job 11049718\n",
      "Submitted batch job 11049720\n",
      "Submitted batch job 11049721\n",
      "Submitted batch job 11049722\n",
      "Submitted batch job 11049724\n",
      "Submitted batch job 11049725\n",
      "Submitted batch job 11049726\n",
      "Submitted batch job 11049727\n",
      "Submitted batch job 11049728\n",
      "Submitted batch job 11049729\n",
      "Submitted batch job 11049731\n",
      "Submitted batch job 11049733\n",
      "Submitted batch job 11049734\n",
      "Submitted batch job 11049735\n",
      "Submitted batch job 11049736\n",
      "Submitted batch job 11049737\n",
      "Submitted batch job 11049738\n",
      "Submitted batch job 11049739\n",
      "Submitted batch job 11049740\n",
      "Submitted batch job 11049741\n",
      "Submitted batch job 11049742\n",
      "Submitted batch job 11049743\n",
      "Submitted batch job 11049744\n",
      "Submitted batch job 11049746\n",
      "Submitted batch job 11049747\n",
      "Submitted batch job 11049748\n",
      "Submitted batch job 11049749\n",
      "Submitted batch job 11049750\n",
      "Submitted batch job 11049752\n",
      "Submitted batch job 11049753\n",
      "Submitted batch job 11049754\n",
      "Submitted batch job 11049755\n",
      "Submitted batch job 11049756\n",
      "Submitted batch job 11049757\n",
      "Submitted batch job 11049758\n",
      "Submitted batch job 11049760\n",
      "Submitted batch job 11049761\n",
      "Submitted batch job 11049762\n",
      "Submitted batch job 11049763\n",
      "Submitted batch job 11049765\n",
      "Submitted batch job 11049766\n",
      "Submitted batch job 11049767\n",
      "Submitted batch job 11049768\n",
      "Submitted batch job 11049771\n",
      "Submitted batch job 11049774\n",
      "Submitted batch job 11049785\n",
      "Submitted batch job 11049786\n",
      "Submitted batch job 11049788\n",
      "Submitted batch job 11049790\n",
      "Submitted batch job 11049791\n",
      "Submitted batch job 11049793\n",
      "Submitted batch job 11049800\n",
      "Submitted batch job 11049803\n",
      "Submitted batch job 11049807\n",
      "Submitted batch job 11049808\n",
      "Submitted batch job 11049814\n",
      "Submitted batch job 11049819\n",
      "Submitted batch job 11049822\n",
      "Submitted batch job 11049824\n",
      "Submitted batch job 11049826\n",
      "Submitted batch job 11049827\n",
      "Submitted batch job 11049829\n",
      "Submitted batch job 11049830\n",
      "Submitted batch job 11049833\n",
      "Submitted batch job 11049837\n",
      "Submitted batch job 11049839\n",
      "Submitted batch job 11049841\n",
      "Submitted batch job 11049843\n",
      "Submitted batch job 11049845\n",
      "Submitted batch job 11049848\n",
      "Submitted batch job 11049850\n",
      "Submitted batch job 11049852\n",
      "Submitted batch job 11049854\n",
      "Submitted batch job 11049856\n",
      "Submitted batch job 11049858\n",
      "Submitted batch job 11049860\n",
      "Submitted batch job 11049863\n",
      "Submitted batch job 11049865\n",
      "Submitted batch job 11049868\n",
      "Submitted batch job 11049871\n",
      "Submitted batch job 11049874\n",
      "Submitted batch job 11049876\n",
      "Submitted batch job 11049879\n",
      "Submitted batch job 11049880\n",
      "Submitted batch job 11049882\n",
      "Submitted batch job 11049884\n",
      "Submitted batch job 11049885\n",
      "Submitted batch job 11049886\n",
      "Submitted batch job 11049888\n",
      "Submitted batch job 11049889\n",
      "Submitted batch job 11049891\n",
      "Submitted batch job 11049892\n",
      "Submitted batch job 11049893\n",
      "Submitted batch job 11049894\n",
      "Submitted batch job 11049895\n",
      "Submitted batch job 11049897\n",
      "Submitted batch job 11049898\n",
      "Submitted batch job 11049900\n",
      "Submitted batch job 11049901\n",
      "Submitted batch job 11049902\n",
      "Submitted batch job 11049904\n",
      "Submitted batch job 11049908\n",
      "Submitted batch job 11049919\n",
      "Submitted batch job 11049921\n",
      "Submitted batch job 11049922\n",
      "Submitted batch job 11049923\n",
      "Submitted batch job 11049924\n",
      "Submitted batch job 11049925\n",
      "Submitted batch job 11049926\n",
      "Submitted batch job 11049928\n",
      "Submitted batch job 11049929\n",
      "Submitted batch job 11049930\n",
      "Submitted batch job 11049931\n",
      "Submitted batch job 11049932\n",
      "Submitted batch job 11049944\n",
      "Submitted batch job 11049946\n",
      "Submitted batch job 11049948\n",
      "Submitted batch job 11049949\n",
      "Submitted batch job 11049950\n",
      "Submitted batch job 11049951\n",
      "Submitted batch job 11049953\n",
      "Submitted batch job 11049954\n",
      "Submitted batch job 11049956\n",
      "Submitted batch job 11049957\n",
      "Submitted batch job 11049959\n",
      "Submitted batch job 11049960\n",
      "Submitted batch job 11049961\n",
      "Submitted batch job 11049963\n",
      "Submitted batch job 11049964\n",
      "Submitted batch job 11049965\n",
      "Submitted batch job 11049967\n",
      "Submitted batch job 11049973\n",
      "Submitted batch job 11049975\n",
      "Submitted batch job 11049976\n",
      "Submitted batch job 11049977\n",
      "Submitted batch job 11049978\n",
      "Submitted batch job 11049979\n",
      "Submitted batch job 11049980\n",
      "Submitted batch job 11049981\n",
      "Submitted batch job 11049984\n",
      "Submitted batch job 11049986\n",
      "Submitted batch job 11049987\n",
      "Submitted batch job 11049988\n",
      "Submitted batch job 11049990\n",
      "Submitted batch job 11049992\n",
      "Submitted batch job 11049993\n",
      "Submitted batch job 11049994\n",
      "Submitted batch job 11049995\n",
      "Submitted batch job 11049996\n",
      "Submitted batch job 11049997\n",
      "Submitted batch job 11049999\n",
      "Submitted batch job 11050001\n",
      "Submitted batch job 11050003\n",
      "Submitted batch job 11050005\n",
      "Submitted batch job 11050006\n",
      "Submitted batch job 11050007\n",
      "Submitted batch job 11050008\n",
      "Submitted batch job 11050009\n",
      "Submitted batch job 11050010\n",
      "Submitted batch job 11050011\n",
      "Submitted batch job 11050014\n",
      "Submitted batch job 11050015\n",
      "Submitted batch job 11050016\n",
      "Submitted batch job 11050029\n",
      "Submitted batch job 11050031\n",
      "Submitted batch job 11050032\n"
     ]
    },
    {
     "name": "stdout",
     "output_type": "stream",
     "text": [
      "Submitted batch job 11050033\n",
      "Submitted batch job 11050034\n",
      "Submitted batch job 11050036\n",
      "Submitted batch job 11050037\n",
      "Submitted batch job 11050038\n",
      "Submitted batch job 11050040\n",
      "Submitted batch job 11050042\n",
      "Submitted batch job 11050043\n",
      "Submitted batch job 11050045\n",
      "Submitted batch job 11050046\n",
      "Submitted batch job 11050047\n",
      "Submitted batch job 11050049\n",
      "Submitted batch job 11050050\n",
      "Submitted batch job 11050055\n",
      "Submitted batch job 11050062\n",
      "Submitted batch job 11050065\n",
      "Submitted batch job 11050069\n",
      "Submitted batch job 11050073\n",
      "Submitted batch job 11050074\n",
      "Submitted batch job 11050075\n",
      "Submitted batch job 11050079\n",
      "Submitted batch job 11050082\n",
      "Submitted batch job 11050084\n",
      "Submitted batch job 11050086\n",
      "Submitted batch job 11050089\n",
      "Submitted batch job 11050091\n",
      "Submitted batch job 11050092\n",
      "Submitted batch job 11050096\n",
      "Submitted batch job 11050098\n",
      "Submitted batch job 11050100\n",
      "Submitted batch job 11050101\n",
      "Submitted batch job 11050104\n",
      "Submitted batch job 11050106\n",
      "Submitted batch job 11050109\n",
      "Submitted batch job 11050111\n",
      "Submitted batch job 11050114\n",
      "Submitted batch job 11050116\n",
      "Submitted batch job 11050118\n",
      "Submitted batch job 11050120\n",
      "Submitted batch job 11050124\n",
      "Submitted batch job 11050129\n",
      "Submitted batch job 11050131\n",
      "Submitted batch job 11050134\n",
      "Submitted batch job 11050136\n",
      "Submitted batch job 11050138\n",
      "Submitted batch job 11050140\n",
      "Submitted batch job 11050143\n",
      "Submitted batch job 11050146\n",
      "Submitted batch job 11050148\n",
      "Submitted batch job 11050150\n",
      "Submitted batch job 11050152\n",
      "Submitted batch job 11050153\n",
      "Submitted batch job 11050156\n",
      "Submitted batch job 11050158\n",
      "Submitted batch job 11050161\n",
      "Submitted batch job 11050162\n",
      "Submitted batch job 11050163\n",
      "Submitted batch job 11050165\n",
      "Submitted batch job 11050167\n",
      "Submitted batch job 11050169\n",
      "Submitted batch job 11050170\n",
      "Submitted batch job 11050171\n",
      "Submitted batch job 11050173\n",
      "Submitted batch job 11050175\n",
      "Submitted batch job 11050186\n",
      "Submitted batch job 11050190\n",
      "Submitted batch job 11050191\n",
      "Submitted batch job 11050193\n",
      "Submitted batch job 11050196\n",
      "Submitted batch job 11050199\n",
      "Submitted batch job 11050202\n",
      "Submitted batch job 11050205\n",
      "Submitted batch job 11050210\n",
      "Submitted batch job 11050212\n",
      "Submitted batch job 11050215\n",
      "Submitted batch job 11050217\n",
      "Submitted batch job 11050219\n",
      "Submitted batch job 11050222\n",
      "Submitted batch job 11050226\n",
      "Submitted batch job 11050229\n",
      "Submitted batch job 11050233\n",
      "Submitted batch job 11050239\n",
      "Submitted batch job 11050257\n",
      "Submitted batch job 11050285\n",
      "Submitted batch job 11050302\n",
      "Submitted batch job 11050335\n",
      "Submitted batch job 11050340\n",
      "Submitted batch job 11050343\n",
      "Submitted batch job 11050346\n",
      "Submitted batch job 11050348\n",
      "Submitted batch job 11050362\n",
      "Submitted batch job 11050365\n",
      "Submitted batch job 11050366\n",
      "Submitted batch job 11050370\n",
      "Submitted batch job 11050375\n"
     ]
    }
   ],
   "source": [
    "for f in fs(shdir):\n",
    "    !sbatch $f"
   ]
  },
  {
   "cell_type": "code",
   "execution_count": 8,
   "metadata": {},
   "outputs": [],
   "source": [
    "# or sbatch with master\n",
    "text = '''#!/bin/bash\n",
    "#SBATCH --account=def-saitken\n",
    "#SBATCH --job-name=wgetmaster\n",
    "#SBATCH --export=all\n",
    "#SBATCH --time=00:59:00\n",
    "#SBATCH --mem=1000mb\n",
    "#SBATCH --cpus-per-task=1\n",
    "\n",
    "\n",
    "'''\n",
    "for f in fs(shdir):\n",
    "    newtext = '''sbatch %s\n",
    "''' % f\n",
    "    text = text + newtext\n",
    "filE=op.join(shdir,'master.sh')\n",
    "with open(filE,'w') as o:\n",
    "    o.write(\"%s\" % text)"
   ]
  },
  {
   "cell_type": "code",
   "execution_count": 9,
   "metadata": {},
   "outputs": [
    {
     "name": "stdout",
     "output_type": "stream",
     "text": [
      "Submitted batch job 11049217\n"
     ]
    }
   ],
   "source": [
    "# !sbatch filE"
   ]
  },
  {
   "cell_type": "markdown",
   "metadata": {},
   "source": [
    "## check md5"
   ]
  },
  {
   "cell_type": "code",
   "execution_count": 20,
   "metadata": {},
   "outputs": [
    {
     "name": "stdout",
     "output_type": "stream",
     "text": [
      "/home/lindb/scratch/testdata/readSetLinks/shfiles/md5sumcheck.sh\n",
      "^C\n"
     ]
    }
   ],
   "source": [
    "# log to logfile\n",
    "text = '''#!/bin/bash\n",
    "#SBATCH --account=def-saitken\n",
    "#SBATCH --job-name=md5sum\n",
    "#SBATCH --export=all\n",
    "#SBATCH --time=03:00:00\n",
    "#SBATCH --mem=1000mb\n",
    "#SBATCH --cpus-per-task=1\n",
    "\n",
    "\n",
    "cd /home/lindb/scratch/testdata/\n",
    "md5sum -c *md5 > md5log.txt\n",
    "'''\n",
    "filE = op.join(shdir,'md5sumcheck.sh')\n",
    "print filE\n",
    "with open(filE,'w') as o:\n",
    "    o.write(\"%s\" % text)\n",
    "!sbatch $fiLE"
   ]
  },
  {
   "cell_type": "code",
   "execution_count": 1,
   "metadata": {},
   "outputs": [
    {
     "name": "stdout",
     "output_type": "stream",
     "text": [
      "HI.4779.005.D708---D504.LP_mg13_cap3_kit1_R1.fastq.gz: FAILED\n",
      "\n"
     ]
    }
   ],
   "source": [
    "# read the log, look for bad md5 checks\n",
    "md5 = open('/home/lindb/scratch/testdata/md5log.txt').readlines()\n",
    "for line in md5:\n",
    "    res = line.split(\" \")[1].split(\"\\n\")[0]\n",
    "    if not res == \"OK\":\n",
    "        print line\n",
    "# one res in testdata was not ok, but I had gunzip-ed it"
   ]
  },
  {
   "cell_type": "markdown",
   "metadata": {},
   "source": [
    "## split files by library"
   ]
  },
  {
   "cell_type": "code",
   "execution_count": 8,
   "metadata": {},
   "outputs": [],
   "source": [
    "from Bio import SeqIO"
   ]
  },
  {
   "cell_type": "code",
   "execution_count": 16,
   "metadata": {},
   "outputs": [
    {
     "data": {
      "text/plain": [
       "96"
      ]
     },
     "execution_count": 16,
     "metadata": {},
     "output_type": "execute_result"
    }
   ],
   "source": [
    "# get a list of fastq R1 files\n",
    "files = sorted([f for f in fs('/scratch/lindb/testdata') if 'R1' in f and f.endswith('fastq.gz')])\n",
    "len(files)"
   ]
  },
  {
   "cell_type": "code",
   "execution_count": 12,
   "metadata": {},
   "outputs": [
    {
     "data": {
      "text/html": [
       "<div>\n",
       "<style scoped>\n",
       "    .dataframe tbody tr th:only-of-type {\n",
       "        vertical-align: middle;\n",
       "    }\n",
       "\n",
       "    .dataframe tbody tr th {\n",
       "        vertical-align: top;\n",
       "    }\n",
       "\n",
       "    .dataframe thead th {\n",
       "        text-align: right;\n",
       "    }\n",
       "</style>\n",
       "<table border=\"1\" class=\"dataframe\">\n",
       "  <thead>\n",
       "    <tr style=\"text-align: right;\">\n",
       "      <th></th>\n",
       "      <th>Pool_name</th>\n",
       "      <th>Sample_name</th>\n",
       "      <th>Ploidy</th>\n",
       "      <th>Index1</th>\n",
       "      <th>Index2</th>\n",
       "      <th>Adaptor_1</th>\n",
       "      <th>Adaptor_2</th>\n",
       "    </tr>\n",
       "  </thead>\n",
       "  <tbody>\n",
       "    <tr>\n",
       "      <th>0</th>\n",
       "      <td>LP_mg_cap2_kit1</td>\n",
       "      <td>LP_mg8_cap2_kit1</td>\n",
       "      <td>1</td>\n",
       "      <td>ATTACTCG</td>\n",
       "      <td>GGCTCTGA</td>\n",
       "      <td>AGATCGGAAGAGCACACGTCTGAACTCCAGTCAC</td>\n",
       "      <td>AGATCGGAAGAGCGTCGTGTAGGGAAAGAGTGT</td>\n",
       "    </tr>\n",
       "    <tr>\n",
       "      <th>1</th>\n",
       "      <td>LP_mg_cap2_kit1</td>\n",
       "      <td>LP_mg22_cap2_kit1</td>\n",
       "      <td>1</td>\n",
       "      <td>TCCGGAG</td>\n",
       "      <td>GGCTCTGA</td>\n",
       "      <td>AGATCGGAAGAGCACACGTCTGAACTCCAGTCAC</td>\n",
       "      <td>AGATCGGAAGAGCGTCGTGTAGGGAAAGAGTGT</td>\n",
       "    </tr>\n",
       "    <tr>\n",
       "      <th>2</th>\n",
       "      <td>LP_mg_cap2_kit1</td>\n",
       "      <td>LP_mg64_cap2_kit1</td>\n",
       "      <td>1</td>\n",
       "      <td>GAATTCGT</td>\n",
       "      <td>GGCTCTGA</td>\n",
       "      <td>AGATCGGAAGAGCACACGTCTGAACTCCAGTCAC</td>\n",
       "      <td>AGATCGGAAGAGCGTCGTGTAGGGAAAGAGTGT</td>\n",
       "    </tr>\n",
       "    <tr>\n",
       "      <th>3</th>\n",
       "      <td>LP_mg_cap2_kit1</td>\n",
       "      <td>LP_mg9_cap2_kit1</td>\n",
       "      <td>1</td>\n",
       "      <td>CGCTCATT</td>\n",
       "      <td>GGCTCTGA</td>\n",
       "      <td>AGATCGGAAGAGCACACGTCTGAACTCCAGTCAC</td>\n",
       "      <td>AGATCGGAAGAGCGTCGTGTAGGGAAAGAGTGT</td>\n",
       "    </tr>\n",
       "    <tr>\n",
       "      <th>4</th>\n",
       "      <td>LP_mg_cap2_kit1</td>\n",
       "      <td>LP_mg10_cap2_kit1</td>\n",
       "      <td>1</td>\n",
       "      <td>GAGATTCC</td>\n",
       "      <td>GGCTCTGA</td>\n",
       "      <td>AGATCGGAAGAGCACACGTCTGAACTCCAGTCAC</td>\n",
       "      <td>AGATCGGAAGAGCGTCGTGTAGGGAAAGAGTGT</td>\n",
       "    </tr>\n",
       "  </tbody>\n",
       "</table>\n",
       "</div>"
      ],
      "text/plain": [
       "         Pool_name        Sample_name  Ploidy    Index1       Index2  \\\n",
       "0  LP_mg_cap2_kit1   LP_mg8_cap2_kit1       1  ATTACTCG  GGCTCTGA      \n",
       "1  LP_mg_cap2_kit1  LP_mg22_cap2_kit1       1   TCCGGAG     GGCTCTGA   \n",
       "2  LP_mg_cap2_kit1  LP_mg64_cap2_kit1       1  GAATTCGT     GGCTCTGA   \n",
       "3  LP_mg_cap2_kit1   LP_mg9_cap2_kit1       1  CGCTCATT     GGCTCTGA   \n",
       "4  LP_mg_cap2_kit1  LP_mg10_cap2_kit1       1  GAGATTCC     GGCTCTGA   \n",
       "\n",
       "                            Adaptor_1                          Adaptor_2  \n",
       "0  AGATCGGAAGAGCACACGTCTGAACTCCAGTCAC  AGATCGGAAGAGCGTCGTGTAGGGAAAGAGTGT  \n",
       "1  AGATCGGAAGAGCACACGTCTGAACTCCAGTCAC  AGATCGGAAGAGCGTCGTGTAGGGAAAGAGTGT  \n",
       "2  AGATCGGAAGAGCACACGTCTGAACTCCAGTCAC  AGATCGGAAGAGCGTCGTGTAGGGAAAGAGTGT  \n",
       "3  AGATCGGAAGAGCACACGTCTGAACTCCAGTCAC  AGATCGGAAGAGCGTCGTGTAGGGAAAGAGTGT  \n",
       "4  AGATCGGAAGAGCACACGTCTGAACTCCAGTCAC  AGATCGGAAGAGCGTCGTGTAGGGAAAGAGTGT  "
      ]
     },
     "execution_count": 12,
     "metadata": {},
     "output_type": "execute_result"
    }
   ],
   "source": [
    "# import info sheet\n",
    "summary = pd.read_csv('/scratch/lindb/testdata/1_CoAdapTree_Seq_Summary.txt',sep='\\t')\n",
    "summary.head()"
   ]
  },
  {
   "cell_type": "code",
   "execution_count": 13,
   "metadata": {},
   "outputs": [
    {
     "data": {
      "text/plain": [
       "96"
      ]
     },
     "execution_count": 13,
     "metadata": {},
     "output_type": "execute_result"
    }
   ],
   "source": [
    "samps = sorted(summary['Sample_name'].tolist())\n",
    "len(samps)"
   ]
  },
  {
   "cell_type": "code",
   "execution_count": 14,
   "metadata": {},
   "outputs": [],
   "source": [
    "# fill in blank pool names, create dictionary for samps in pools, get a list of spp, get rg info\n",
    "sampdict = {}\n",
    "spp      = []\n",
    "for row in summary.index:\n",
    "    if type(summary.loc[row,'Pool_name']) == float:\n",
    "        summary.loc[row,'Pool_name'] = summary.loc[row,'Sample_name']\n",
    "    pool = summary.loc[row,'Pool_name']\n",
    "    samp = summary.loc[row,'Sample_name']\n",
    "    sp   = pool.split(\"_\")[0]\n",
    "    if not sp in spp:\n",
    "        spp.append(sp)\n",
    "        spp = sorted(spp)\n",
    "    sampdict[samp] = pool\n"
   ]
  },
  {
   "cell_type": "code",
   "execution_count": 15,
   "metadata": {},
   "outputs": [],
   "source": [
    "# get rg info\n",
    "rg = '/scratch/lindb/mengmeng/4_addRG.sh'\n",
    "rg = open(rg,'r').readlines()\n",
    "rginfo = {}\n",
    "for line in rg:\n",
    "    if line.split(\" \")[0] == 'java':\n",
    "        splits = line.split(\" \")\n",
    "        samp = splits[12].split(\"/\")[-1].split(\".\")[0]\n",
    "        assert samp in sampdict\n",
    "        if not samp in rginfo:\n",
    "            rginfo[samp] = {}\n",
    "        else:\n",
    "            print 'duplicate samp %s' % samp\n",
    "        rginfo[samp]['rgid'] = splits[6].split(\"=\")[1]\n",
    "        rginfo[samp]['rglb'] = splits[7].split(\"=\")[1]\n",
    "        rginfo[samp]['rgpl'] = splits[9].split(\"=\")[1]\n",
    "        rginfo[samp]['rgpu'] = splits[10].split(\"=\")[1]\n",
    "        rginfo[samp]['rgsm'] = splits[11].split(\"=\")[1]\n",
    "        #print samp,rginfo[samp]"
   ]
  },
  {
   "cell_type": "code",
   "execution_count": 16,
   "metadata": {},
   "outputs": [
    {
     "data": {
      "text/plain": [
       "True"
      ]
     },
     "execution_count": 16,
     "metadata": {},
     "output_type": "execute_result"
    }
   ],
   "source": [
    "len(rginfo.keys()) == len(sampdict.keys())"
   ]
  },
  {
   "cell_type": "code",
   "execution_count": 17,
   "metadata": {},
   "outputs": [],
   "source": [
    "pkldump(rginfo,'/scratch/lindb/testdata/rginfo.pkl')"
   ]
  },
  {
   "cell_type": "code",
   "execution_count": 18,
   "metadata": {},
   "outputs": [],
   "source": [
    "# list of files by pool\n",
    "poolfdict = {}\n",
    "ftopool = {}\n",
    "for f in files:\n",
    "    samp = f.split(\"---\")[1].split(\".\")[1].replace(\"_R1\",\"\")\n",
    "    pool = sampdict[samp]\n",
    "    if not pool in poolfdict:\n",
    "        poolfdict[pool] = []\n",
    "    f2 = op.abspath(f).replace(\"_R1\",\"_R2\")\n",
    "    assert op.exists(f2)\n",
    "    [poolfdict[pool].append(x) for x in [f,f2]]\n",
    "    ftopool[f]  = pool\n",
    "    ftopool[f2] = pool\n",
    "    \n",
    "# poolfdict"
   ]
  },
  {
   "cell_type": "code",
   "execution_count": 19,
   "metadata": {},
   "outputs": [
    {
     "data": {
      "text/plain": [
       "'JP_cap4_kit1'"
      ]
     },
     "execution_count": 19,
     "metadata": {},
     "output_type": "execute_result"
    }
   ],
   "source": [
    "samp = sampdict.keys()[0]\n",
    "sampdict[samp]"
   ]
  },
  {
   "cell_type": "markdown",
   "metadata": {},
   "source": [
    "# something else"
   ]
  },
  {
   "cell_type": "code",
   "execution_count": 22,
   "metadata": {},
   "outputs": [
    {
     "data": {
      "text/plain": [
       "['/scratch/lindb/testdata/JP_cap3_kit1',\n",
       " '/scratch/lindb/testdata/JP_cap4_kit1',\n",
       " '/scratch/lindb/testdata/JP_cap5_kit1',\n",
       " '/scratch/lindb/testdata/JP_p101_cap1_kit1',\n",
       " '/scratch/lindb/testdata/JP_p102_cap2_kit1',\n",
       " '/scratch/lindb/testdata/LP_mg_cap2_kit1',\n",
       " '/scratch/lindb/testdata/LP_mg_cap3_kit1',\n",
       " '/scratch/lindb/testdata/LP_mg_cap4_kit1',\n",
       " '/scratch/lindb/testdata/LP_mg_cap5_kit1',\n",
       " '/scratch/lindb/testdata/LP_mg_cap6_kit1',\n",
       " '/scratch/lindb/testdata/LP_pmg40_cap1_kit1']"
      ]
     },
     "execution_count": 22,
     "metadata": {},
     "output_type": "execute_result"
    }
   ],
   "source": [
    "## kick off lodgepole and jack pine\n",
    "jplp = [d for d in dirs if 'LP' in d or 'JP' in d]\n",
    "jplp"
   ]
  },
  {
   "cell_type": "code",
   "execution_count": 23,
   "metadata": {},
   "outputs": [
    {
     "data": {
      "text/plain": [
       "134865"
      ]
     },
     "execution_count": 23,
     "metadata": {},
     "output_type": "execute_result"
    }
   ],
   "source": [
    "# get nfiles per dir\n",
    "fcount = 0\n",
    "dcount = {}\n",
    "for d in jplp:\n",
    "    fcount += len(ls(d))\n",
    "    dcount[d] = len(ls(d))\n",
    "fcount"
   ]
  },
  {
   "cell_type": "code",
   "execution_count": 24,
   "metadata": {},
   "outputs": [
    {
     "data": {
      "text/plain": [
       "(1.0,\n",
       " {'/scratch/lindb/testdata/JP_cap3_kit1': 0.09340451562673785,\n",
       "  '/scratch/lindb/testdata/JP_cap4_kit1': 0.09445000556111667,\n",
       "  '/scratch/lindb/testdata/JP_cap5_kit1': 0.10315500685871057,\n",
       "  '/scratch/lindb/testdata/JP_p101_cap1_kit1': 0.11344678011344678,\n",
       "  '/scratch/lindb/testdata/JP_p102_cap2_kit1': 0.09496904311719126,\n",
       "  '/scratch/lindb/testdata/LP_mg_cap2_kit1': 0.09909168427686946,\n",
       "  '/scratch/lindb/testdata/LP_mg_cap3_kit1': 0.0905942980017054,\n",
       "  '/scratch/lindb/testdata/LP_mg_cap4_kit1': 0.07270974678382086,\n",
       "  '/scratch/lindb/testdata/LP_mg_cap5_kit1': 0.06676305935565195,\n",
       "  '/scratch/lindb/testdata/LP_mg_cap6_kit1': 0.07742557372187002,\n",
       "  '/scratch/lindb/testdata/LP_pmg40_cap1_kit1': 0.09399028658287918})"
      ]
     },
     "execution_count": 24,
     "metadata": {},
     "output_type": "execute_result"
    }
   ],
   "source": [
    "# determine frac of sh files\n",
    "sums = sum(dcount.values())\n",
    "frac = {}\n",
    "for d in dcount:\n",
    "    frac[d] = dcount[d]/sums\n",
    "sum(frac.values()),frac"
   ]
  },
  {
   "cell_type": "code",
   "execution_count": 25,
   "metadata": {},
   "outputs": [
    {
     "name": "stdout",
     "output_type": "stream",
     "text": [
      "/scratch/lindb/testdata/LP_mg_cap5_kit1 66\n",
      "/scratch/lindb/testdata/LP_mg_cap4_kit1 71\n",
      "/scratch/lindb/testdata/LP_mg_cap3_kit1 89\n",
      "/scratch/lindb/testdata/LP_mg_cap6_kit1 76\n",
      "/scratch/lindb/testdata/JP_cap3_kit1 92\n",
      "/scratch/lindb/testdata/LP_mg_cap2_kit1 97\n",
      "/scratch/lindb/testdata/LP_pmg40_cap1_kit1 92\n",
      "/scratch/lindb/testdata/JP_p101_cap1_kit1 111\n",
      "/scratch/lindb/testdata/JP_p102_cap2_kit1 93\n",
      "/scratch/lindb/testdata/JP_cap4_kit1 93\n",
      "/scratch/lindb/testdata/JP_cap5_kit1 101\n"
     ]
    }
   ],
   "source": [
    "# num sh files per dir\n",
    "shfrac = {}\n",
    "for d in frac:\n",
    "    shfrac[d] = int(math.ceil(frac[d]*975))\n",
    "    print d, shfrac[d]"
   ]
  },
  {
   "cell_type": "code",
   "execution_count": 27,
   "metadata": {},
   "outputs": [],
   "source": [
    "shdir = '/scratch/lindb/testdata/shfiles/start_trim'\n",
    "if not op.exists(shdir):\n",
    "    os.makedirs(shdir)\n",
    "for d in shfrac:\n",
    "    text = '''#!/bin/bash\n",
    "#SBATCH --account=def-saitken\n",
    "#SBATCH --job-name=%s\n",
    "#SBATCH --export=all\n",
    "#SBATCH --time=12:00:00\n",
    "#SBATCH --mem=1000mb\n",
    "#SBATCH --cpus-per-task=1\n",
    "#SBATCH --mail-user=brandon.lind@ubc.ca\n",
    "#SBATCH --mail-type=END\n",
    "#SBATCH --mail-type=FAIL\n",
    "\n",
    "\n",
    "source $HOME/.bashrc\n",
    "cd $HOME/pipeline\n",
    "\n",
    "python 01a_trim-fastq.py %s %s %s\n",
    "''' % (op.basename(d),\n",
    "       d,\n",
    "       '/scratch/lindb/refgenomes/LP_db/ptaeda.v1.01.reduced.pseudo.fasta',\n",
    "       str(shfrac[d])\n",
    "      )\n",
    "    filE = op.join(shdir,'start-trim_%s.sh' % op.basename(d))\n",
    "    with open(filE,'w') as o:\n",
    "        o.write(\"%s\" % text)"
   ]
  },
  {
   "cell_type": "code",
   "execution_count": 30,
   "metadata": {},
   "outputs": [
    {
     "name": "stdout",
     "output_type": "stream",
     "text": [
      "Submitted batch job 10834343\n",
      "Submitted batch job 10834344\n",
      "Submitted batch job 10834345\n",
      "Submitted batch job 10834346\n",
      "Submitted batch job 10834348\n",
      "Submitted batch job 10834349\n",
      "Submitted batch job 10834350\n",
      "Submitted batch job 10834351\n",
      "Submitted batch job 10834352\n",
      "Submitted batch job 10834353\n"
     ]
    }
   ],
   "source": [
    "for f in fs(shdir):\n",
    "    !sbatch $f"
   ]
  },
  {
   "cell_type": "code",
   "execution_count": null,
   "metadata": {},
   "outputs": [],
   "source": []
  },
  {
   "cell_type": "code",
   "execution_count": null,
   "metadata": {},
   "outputs": [],
   "source": []
  },
  {
   "cell_type": "code",
   "execution_count": null,
   "metadata": {},
   "outputs": [],
   "source": []
  },
  {
   "cell_type": "code",
   "execution_count": null,
   "metadata": {},
   "outputs": [],
   "source": []
  },
  {
   "cell_type": "code",
   "execution_count": null,
   "metadata": {},
   "outputs": [],
   "source": []
  },
  {
   "cell_type": "code",
   "execution_count": null,
   "metadata": {},
   "outputs": [],
   "source": []
  },
  {
   "cell_type": "code",
   "execution_count": null,
   "metadata": {},
   "outputs": [],
   "source": []
  },
  {
   "cell_type": "code",
   "execution_count": null,
   "metadata": {},
   "outputs": [],
   "source": []
  },
  {
   "cell_type": "code",
   "execution_count": null,
   "metadata": {},
   "outputs": [],
   "source": []
  },
  {
   "cell_type": "code",
   "execution_count": null,
   "metadata": {},
   "outputs": [],
   "source": []
  },
  {
   "cell_type": "code",
   "execution_count": null,
   "metadata": {},
   "outputs": [],
   "source": []
  },
  {
   "cell_type": "code",
   "execution_count": null,
   "metadata": {},
   "outputs": [],
   "source": []
  },
  {
   "cell_type": "code",
   "execution_count": null,
   "metadata": {},
   "outputs": [],
   "source": []
  },
  {
   "cell_type": "code",
   "execution_count": null,
   "metadata": {},
   "outputs": [],
   "source": []
  },
  {
   "cell_type": "markdown",
   "metadata": {},
   "source": [
    "# why one command?"
   ]
  },
  {
   "cell_type": "code",
   "execution_count": 3,
   "metadata": {},
   "outputs": [],
   "source": [
    "fqdir = '/scratch/lindb/testdata/JP_cap3_kit1/'"
   ]
  },
  {
   "cell_type": "code",
   "execution_count": 4,
   "metadata": {},
   "outputs": [],
   "source": [
    "lensh = 92"
   ]
  },
  {
   "cell_type": "code",
   "execution_count": 5,
   "metadata": {},
   "outputs": [
    {
     "data": {
      "text/plain": [
       "6297"
      ]
     },
     "execution_count": 5,
     "metadata": {},
     "output_type": "execute_result"
    }
   ],
   "source": [
    "gzfiles = [f for f in fs(fqdir) if 'R1' in f]\n",
    "lgz     = len(gzfiles)\n",
    "lgz"
   ]
  },
  {
   "cell_type": "code",
   "execution_count": 32,
   "metadata": {},
   "outputs": [
    {
     "name": "stdout",
     "output_type": "stream",
     "text": [
      "found 6297 R1/R2 seq pairs\n"
     ]
    }
   ],
   "source": [
    "seq_pairs = []\n",
    "for f in gzfiles:\n",
    "    assert 'R1' in f\n",
    "    read2 = f.replace(\"_R1\",\"_R2\")\n",
    "    assert op.exists(read2)\n",
    "    if op.exists(read2):\n",
    "        seq_pairs.append((f,read2))\n",
    "#     else:\n",
    "#         !echo 'no pair for '$f >> $fqdir'/messages/msgs.txt' # #iheartjupyter\n",
    "    else:\n",
    "        text = 'no pair for %s' % f\n",
    "        with open(mfile,'a') as o:\n",
    "            o.write(\"%s\\n\" % text)\n",
    "print \"found %s R1/R2 seq pairs\" % str(len(seq_pairs))"
   ]
  },
  {
   "cell_type": "code",
   "execution_count": 7,
   "metadata": {},
   "outputs": [
    {
     "data": {
      "text/plain": [
       "69.0"
      ]
     },
     "execution_count": 7,
     "metadata": {},
     "output_type": "execute_result"
    }
   ],
   "source": [
    "if len(seq_pairs) <= lensh:\n",
    "    # one command per sh file\n",
    "    ceil = 1\n",
    "else:\n",
    "    # multiple commands per sh file\n",
    "    ceil = math.ceil(len(seq_pairs)/lensh)\n",
    "ceil"
   ]
  },
  {
   "cell_type": "code",
   "execution_count": 17,
   "metadata": {},
   "outputs": [
    {
     "data": {
      "text/plain": [
       "92"
      ]
     },
     "execution_count": 17,
     "metadata": {},
     "output_type": "execute_result"
    }
   ],
   "source": [
    "lensh"
   ]
  },
  {
   "cell_type": "code",
   "execution_count": 12,
   "metadata": {},
   "outputs": [],
   "source": [
    "shcount = 0\n",
    "fcount  = 0\n",
    "tcount  = 0\n",
    "text = ''''''\n",
    "for s in seq_pairs:\n",
    "#     print s\n",
    "    r1    = op.abspath(s[0])\n",
    "    if r1.endswith(\"fastq\"):\n",
    "        r1out = 'hey'\n",
    "    else:\n",
    "        r1out = 'hey'\n",
    "    r2    = op.abspath(s[1])\n",
    "    if r2.endswith(\"fastq\"):\n",
    "        r2out = 'hey'\n",
    "    else:\n",
    "        r2out = 'hey'\n",
    "    html = 'hey'\n",
    "    json = 'hey'\n",
    "    cmd  = '''fastp -i %s -o %s -I %s -O %s -g --cut_window_size 5 --cut_mean_quality 30 --qualified_quality_phred 30 --unqualified_percent_limit 20 --n_base_limit 5 --length_required 75 -h %s.html --cut_by_quality3 --thread 16 --json %s.json --adapter_sequence AGATCGGAAGAGCACACGTCTGAACTCCAGTCAC --adapter_sequence_r2 AGATCGGAAGAGCGTCGTGTAGGGAAAGAGTGT\n",
    "\n",
    "\n",
    "cd $HOME/pipeline\n",
    "# once finished, map using bwa mem \n",
    "python 01b_bwa-map.py %s %s %s %s %s           \n",
    "''' % (r1  , r1out,\n",
    "       r2  , r2out,\n",
    "       html, json ,\n",
    "       'hi' , r1out,  r2out,  'shdir',  str(tcount).zfill(3)\n",
    "      )\n",
    "    text = text + cmd\n",
    "    \n",
    "    fcount += 1\n",
    "    tcount += 1\n",
    "    if fcount == ceil or tcount == len(seq_pairs):\n",
    "        shz = str(shcount).zfill(3)\n",
    "        shcount += 1\n",
    "        fcount = 0\n",
    "        text = ''''''"
   ]
  },
  {
   "cell_type": "code",
   "execution_count": 13,
   "metadata": {},
   "outputs": [
    {
     "data": {
      "text/plain": [
       "92"
      ]
     },
     "execution_count": 13,
     "metadata": {},
     "output_type": "execute_result"
    }
   ],
   "source": [
    "shcount"
   ]
  },
  {
   "cell_type": "code",
   "execution_count": 20,
   "metadata": {},
   "outputs": [
    {
     "data": {
      "text/plain": [
       "6369"
      ]
     },
     "execution_count": 20,
     "metadata": {},
     "output_type": "execute_result"
    }
   ],
   "source": [
    "len([x for x in ls('/scratch/lindb/testdata/JP_cap4_kit1/shfiles/trimmed_shfiles/') if 'sh' in x])"
   ]
  },
  {
   "cell_type": "code",
   "execution_count": 45,
   "metadata": {},
   "outputs": [
    {
     "data": {
      "text/plain": [
       "['/scratch/lindb/testdata/JP_cap3_kit1',\n",
       " '/scratch/lindb/testdata/JP_cap4_kit1',\n",
       " '/scratch/lindb/testdata/JP_cap5_kit1',\n",
       " '/scratch/lindb/testdata/JP_p101_cap1_kit1',\n",
       " '/scratch/lindb/testdata/JP_p102_cap2_kit1',\n",
       " '/scratch/lindb/testdata/LP_mg_cap2_kit1',\n",
       " '/scratch/lindb/testdata/LP_mg_cap3_kit1',\n",
       " '/scratch/lindb/testdata/LP_mg_cap4_kit1',\n",
       " '/scratch/lindb/testdata/LP_mg_cap5_kit1',\n",
       " '/scratch/lindb/testdata/LP_mg_cap6_kit1',\n",
       " '/scratch/lindb/testdata/LP_pmg40_cap1_kit1']"
      ]
     },
     "execution_count": 45,
     "metadata": {},
     "output_type": "execute_result"
    }
   ],
   "source": [
    "DIR = '/scratch/lindb/testdata/'\n",
    "os.chdir(DIR)\n",
    "dirs = !ls -d *kit*/\n",
    "dirs = [op.abspath(d) for d in dirs if 'JP' in d or 'LP' in d]\n",
    "dirs"
   ]
  },
  {
   "cell_type": "code",
   "execution_count": 49,
   "metadata": {},
   "outputs": [
    {
     "name": "stdout",
     "output_type": "stream",
     "text": [
      "/scratch/lindb/testdata/JP_cap3_kit1\n",
      "rm: cannot remove './*/': No such file or directory\n",
      "/scratch/lindb/testdata/JP_cap4_kit1\n",
      "rm: cannot remove './*/': No such file or directory\n",
      "/scratch/lindb/testdata/JP_cap5_kit1\n",
      "rm: cannot remove './*/': No such file or directory\n",
      "/scratch/lindb/testdata/JP_p101_cap1_kit1\n",
      "rm: cannot remove './*/': No such file or directory\n",
      "/scratch/lindb/testdata/JP_p102_cap2_kit1\n",
      "rm: cannot remove './*/': No such file or directory\n",
      "/scratch/lindb/testdata/LP_mg_cap2_kit1\n",
      "rm: cannot remove './*/': No such file or directory\n",
      "/scratch/lindb/testdata/LP_mg_cap3_kit1\n",
      "rm: cannot remove './*/': No such file or directory\n",
      "/scratch/lindb/testdata/LP_mg_cap4_kit1\n",
      "rm: cannot remove './*/': No such file or directory\n",
      "/scratch/lindb/testdata/LP_mg_cap5_kit1\n",
      "rm: cannot remove './*/': No such file or directory\n",
      "/scratch/lindb/testdata/LP_mg_cap6_kit1\n",
      "rm: cannot remove './*/': No such file or directory\n",
      "/scratch/lindb/testdata/LP_pmg40_cap1_kit1\n",
      "rm: cannot remove './*/': No such file or directory\n"
     ]
    }
   ],
   "source": [
    "for d in dirs:\n",
    "    print d\n",
    "    os.chdir(d)\n",
    "    !rm -r -- ./*/"
   ]
  },
  {
   "cell_type": "code",
   "execution_count": null,
   "metadata": {},
   "outputs": [],
   "source": []
  }
 ],
 "metadata": {
  "kernelspec": {
   "display_name": "Python 2",
   "language": "python",
   "name": "python2"
  },
  "language_info": {
   "codemirror_mode": {
    "name": "ipython",
    "version": 2
   },
   "file_extension": ".py",
   "mimetype": "text/x-python",
   "name": "python",
   "nbconvert_exporter": "python",
   "pygments_lexer": "ipython2",
   "version": "2.7.15"
  }
 },
 "nbformat": 4,
 "nbformat_minor": 2
}
