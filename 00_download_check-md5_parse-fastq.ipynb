{
 "cells": [
  {
   "cell_type": "code",
   "execution_count": 2,
   "metadata": {
    "scrolled": true
   },
   "outputs": [],
   "source": [
    "imp = open('/home/lindb/pythonimports.py').read()\n",
    "exec(imp)\n",
    "from __future__ import division"
   ]
  },
  {
   "cell_type": "markdown",
   "metadata": {},
   "source": [
    "## download"
   ]
  },
  {
   "cell_type": "code",
   "execution_count": 9,
   "metadata": {},
   "outputs": [],
   "source": [
    "# create --post-file for download\n",
    "DIR = '/home/lindb/scratch/testdata/readSetLinks'\n",
    "tmpfile = op.join(DIR,'.tmp.dat')\n",
    "if not op.exists(tmpfile):\n",
    "    with open(tmpfile,'w') as o:\n",
    "        o.write(\"%s\" % 'j_username=mlu1&j_password=rrgmmngu')\n",
    "    !chmod 600 $tmpfile"
   ]
  },
  {
   "cell_type": "code",
   "execution_count": 6,
   "metadata": {},
   "outputs": [
    {
     "name": "stdout",
     "output_type": "stream",
     "text": [
      "384\n"
     ]
    },
    {
     "data": {
      "text/plain": [
       "'HI.4779.005.D704---D504.LP_mg10_cap2_kit1_R2.fastq.gz'"
      ]
     },
     "execution_count": 6,
     "metadata": {},
     "output_type": "execute_result"
    }
   ],
   "source": [
    "# create dirs, open file with weblinks to fastq files\n",
    "shdir = op.join(DIR,'shfiles')\n",
    "if not op.exists(shdir):\n",
    "    os.makedirs(shdir)\n",
    "links = open(op.join(DIR,'readSetLinks.txt'),'r').readlines()\n",
    "print len(links)\n",
    "# make sure file name parse is correct\n",
    "links[0].split(\"/\")[-1].replace(\"\\n\",\"\")"
   ]
  },
  {
   "cell_type": "code",
   "execution_count": 16,
   "metadata": {},
   "outputs": [],
   "source": [
    "# wget links\n",
    "files = [f for f in fs('/home/lindb/scratch/testdata') if 'fastq' in f]\n",
    "for i,link in enumerate(links):\n",
    "    link = link.replace(\"\\n\",\"\")\n",
    "    fqgz = link.split(\"/\")[-1]\n",
    "    f = op.join('/home/lindb/scratch/testdata',fqgz)\n",
    "    if not f in files: # faster to check if f in list than op.exists(f)\n",
    "        text = '''#!/bin/bash\n",
    "#SBATCH --account=def-saitken\n",
    "#SBATCH --job-name=link%s\n",
    "#SBATCH --export=all\n",
    "#SBATCH --time=00:59:00\n",
    "#SBATCH --mem=1000mb\n",
    "#SBATCH --cpus-per-task=1\n",
    "\n",
    "cd /home/lindb/scratch/testdata\n",
    "wget --no-cookies --no-check-certificate -c %s --post-file %s\n",
    "''' % (str(i).zfill(3),\n",
    "       link,\n",
    "       tmpfile\n",
    "      )\n",
    "#         filE = op.join(shdir,'wget%s.sh' % str(i).zfill(3))\n",
    "        filE = op.join(shdir,'wgetfinish%s.sh' % str(i).zfill(3))        \n",
    "        with open(filE,'w') as o:\n",
    "            o.write(\"%s\" % text)"
   ]
  },
  {
   "cell_type": "code",
   "execution_count": 2,
   "metadata": {},
   "outputs": [
    {
     "data": {
      "text/plain": [
       "'/home/lindb/scratch/testdata/readSetLinks/shfiles/wget000.sh'"
      ]
     },
     "execution_count": 2,
     "metadata": {},
     "output_type": "execute_result"
    }
   ],
   "source": [
    "DIR = '/home/lindb/scratch/testdata/readSetLinks'\n",
    "shdir = op.join(DIR,'shfiles')\n",
    "fs(shdir)[0]"
   ]
  },
  {
   "cell_type": "code",
   "execution_count": 3,
   "metadata": {},
   "outputs": [],
   "source": [
    "# sbatch with master\n",
    "text = '''#!/bin/bash\n",
    "#SBATCH --account=def-saitken\n",
    "#SBATCH --job-name=wgetmaster\n",
    "#SBATCH --export=all\n",
    "#SBATCH --time=00:59:00\n",
    "#SBATCH --mem=1000mb\n",
    "#SBATCH --cpus-per-task=1\n",
    "\n",
    "\n",
    "'''\n",
    "for f in fs(shdir):\n",
    "    newtext = '''sbatch %s\n",
    "''' % f\n",
    "    text = text + newtext\n",
    "filE=op.join(shdir,'master.sh')\n",
    "with open(filE,'w') as o:\n",
    "    o.write(\"%s\" % text)"
   ]
  },
  {
   "cell_type": "markdown",
   "metadata": {},
   "source": [
    "## check md5"
   ]
  },
  {
   "cell_type": "code",
   "execution_count": 20,
   "metadata": {},
   "outputs": [
    {
     "name": "stdout",
     "output_type": "stream",
     "text": [
      "/home/lindb/scratch/testdata/readSetLinks/shfiles/md5sumcheck.sh\n",
      "^C\n"
     ]
    }
   ],
   "source": [
    "# log to logfile\n",
    "text = '''#!/bin/bash\n",
    "#SBATCH --account=def-saitken\n",
    "#SBATCH --job-name=md5sum\n",
    "#SBATCH --export=all\n",
    "#SBATCH --time=03:00:00\n",
    "#SBATCH --mem=1000mb\n",
    "#SBATCH --cpus-per-task=1\n",
    "\n",
    "\n",
    "cd /home/lindb/scratch/testdata/\n",
    "md5sum -c *md5 > md5log.txt\n",
    "'''\n",
    "filE = op.join(shdir,'md5sumcheck.sh')\n",
    "print filE\n",
    "with open(filE,'w') as o:\n",
    "    o.write(\"%s\" % text)\n",
    "!sbatch $fiLE"
   ]
  },
  {
   "cell_type": "code",
   "execution_count": 7,
   "metadata": {},
   "outputs": [
    {
     "name": "stdout",
     "output_type": "stream",
     "text": [
      "HI.4779.007.D704---D507.JP_101_2_cap3_kit1_R1.fastq.gz: FAILED open or read\n",
      "\n"
     ]
    }
   ],
   "source": [
    "# read the log, look for bad md5 checks\n",
    "md5 = open('/home/lindb/scratch/testdata/md5log.txt').readlines()\n",
    "for line in md5:\n",
    "    res = line.split(\" \")[1].split(\"\\n\")[0]\n",
    "    if not res == \"OK\":\n",
    "        print line\n",
    "# one res in testdata was not ok, but I had gunzip-ed it"
   ]
  },
  {
   "cell_type": "markdown",
   "metadata": {},
   "source": [
    "## split files by library"
   ]
  },
  {
   "cell_type": "code",
   "execution_count": 8,
   "metadata": {},
   "outputs": [],
   "source": [
    "from Bio import SeqIO"
   ]
  },
  {
   "cell_type": "code",
   "execution_count": 9,
   "metadata": {},
   "outputs": [
    {
     "data": {
      "text/plain": [
       "96"
      ]
     },
     "execution_count": 9,
     "metadata": {},
     "output_type": "execute_result"
    }
   ],
   "source": [
    "# get a list of fastq R1 files\n",
    "files = sorted([f for f in fs('/scratch/lindb/testdata') if 'R1' in f and f.endswith('fastq.gz')])\n",
    "len(files)"
   ]
  },
  {
   "cell_type": "code",
   "execution_count": 10,
   "metadata": {},
   "outputs": [
    {
     "data": {
      "text/html": [
       "<div>\n",
       "<style scoped>\n",
       "    .dataframe tbody tr th:only-of-type {\n",
       "        vertical-align: middle;\n",
       "    }\n",
       "\n",
       "    .dataframe tbody tr th {\n",
       "        vertical-align: top;\n",
       "    }\n",
       "\n",
       "    .dataframe thead th {\n",
       "        text-align: right;\n",
       "    }\n",
       "</style>\n",
       "<table border=\"1\" class=\"dataframe\">\n",
       "  <thead>\n",
       "    <tr style=\"text-align: right;\">\n",
       "      <th></th>\n",
       "      <th>Read_group_header_line</th>\n",
       "      <th>Pool_name</th>\n",
       "      <th>Sample_name</th>\n",
       "      <th>Ploidy</th>\n",
       "      <th>Index1</th>\n",
       "      <th>Index2</th>\n",
       "      <th>Adaptor_1</th>\n",
       "      <th>Adaptor_2</th>\n",
       "    </tr>\n",
       "  </thead>\n",
       "  <tbody>\n",
       "    <tr>\n",
       "      <th>0</th>\n",
       "      <td>@RG\\tID:mg8\\tLB:LPcap2\\tSM:mg8</td>\n",
       "      <td>LP_mg_cap2_kit1</td>\n",
       "      <td>LP_mg8_cap2_kit1</td>\n",
       "      <td>1</td>\n",
       "      <td>ATTACTCG</td>\n",
       "      <td>GGCTCTGA</td>\n",
       "      <td>AGATCGGAAGAGCACACGTCTGAACTCCAGTCAC</td>\n",
       "      <td>AGATCGGAAGAGCGTCGTGTAGGGAAAGAGTGT</td>\n",
       "    </tr>\n",
       "    <tr>\n",
       "      <th>1</th>\n",
       "      <td>@RG\\tID:mg22\\tLB:LPcap2\\tSM:mg22</td>\n",
       "      <td>LP_mg_cap2_kit1</td>\n",
       "      <td>LP_mg22_cap2_kit1</td>\n",
       "      <td>1</td>\n",
       "      <td>TCCGGAG</td>\n",
       "      <td>GGCTCTGA</td>\n",
       "      <td>AGATCGGAAGAGCACACGTCTGAACTCCAGTCAC</td>\n",
       "      <td>AGATCGGAAGAGCGTCGTGTAGGGAAAGAGTGT</td>\n",
       "    </tr>\n",
       "    <tr>\n",
       "      <th>2</th>\n",
       "      <td>@RG\\tID:mg64\\tLB:LPcap2\\tSM:mg64</td>\n",
       "      <td>LP_mg_cap2_kit1</td>\n",
       "      <td>LP_mg64_cap2_kit1</td>\n",
       "      <td>1</td>\n",
       "      <td>GAATTCGT</td>\n",
       "      <td>GGCTCTGA</td>\n",
       "      <td>AGATCGGAAGAGCACACGTCTGAACTCCAGTCAC</td>\n",
       "      <td>AGATCGGAAGAGCGTCGTGTAGGGAAAGAGTGT</td>\n",
       "    </tr>\n",
       "    <tr>\n",
       "      <th>3</th>\n",
       "      <td>@RG\\tID:mg9\\tLB:LPcap2\\tSM:mg9</td>\n",
       "      <td>LP_mg_cap2_kit1</td>\n",
       "      <td>LP_mg9_cap2_kit1</td>\n",
       "      <td>1</td>\n",
       "      <td>CGCTCATT</td>\n",
       "      <td>GGCTCTGA</td>\n",
       "      <td>AGATCGGAAGAGCACACGTCTGAACTCCAGTCAC</td>\n",
       "      <td>AGATCGGAAGAGCGTCGTGTAGGGAAAGAGTGT</td>\n",
       "    </tr>\n",
       "    <tr>\n",
       "      <th>4</th>\n",
       "      <td>@RG\\tID:mg10\\tLB:LPcap2\\tSM:mg10</td>\n",
       "      <td>LP_mg_cap2_kit1</td>\n",
       "      <td>LP_mg10_cap2_kit1</td>\n",
       "      <td>1</td>\n",
       "      <td>GAGATTCC</td>\n",
       "      <td>GGCTCTGA</td>\n",
       "      <td>AGATCGGAAGAGCACACGTCTGAACTCCAGTCAC</td>\n",
       "      <td>AGATCGGAAGAGCGTCGTGTAGGGAAAGAGTGT</td>\n",
       "    </tr>\n",
       "  </tbody>\n",
       "</table>\n",
       "</div>"
      ],
      "text/plain": [
       "             Read_group_header_line        Pool_name        Sample_name  \\\n",
       "0    @RG\\tID:mg8\\tLB:LPcap2\\tSM:mg8  LP_mg_cap2_kit1   LP_mg8_cap2_kit1   \n",
       "1  @RG\\tID:mg22\\tLB:LPcap2\\tSM:mg22  LP_mg_cap2_kit1  LP_mg22_cap2_kit1   \n",
       "2  @RG\\tID:mg64\\tLB:LPcap2\\tSM:mg64  LP_mg_cap2_kit1  LP_mg64_cap2_kit1   \n",
       "3    @RG\\tID:mg9\\tLB:LPcap2\\tSM:mg9  LP_mg_cap2_kit1   LP_mg9_cap2_kit1   \n",
       "4  @RG\\tID:mg10\\tLB:LPcap2\\tSM:mg10  LP_mg_cap2_kit1  LP_mg10_cap2_kit1   \n",
       "\n",
       "   Ploidy    Index1       Index2                           Adaptor_1  \\\n",
       "0       1  ATTACTCG  GGCTCTGA     AGATCGGAAGAGCACACGTCTGAACTCCAGTCAC   \n",
       "1       1   TCCGGAG     GGCTCTGA  AGATCGGAAGAGCACACGTCTGAACTCCAGTCAC   \n",
       "2       1  GAATTCGT     GGCTCTGA  AGATCGGAAGAGCACACGTCTGAACTCCAGTCAC   \n",
       "3       1  CGCTCATT     GGCTCTGA  AGATCGGAAGAGCACACGTCTGAACTCCAGTCAC   \n",
       "4       1  GAGATTCC     GGCTCTGA  AGATCGGAAGAGCACACGTCTGAACTCCAGTCAC   \n",
       "\n",
       "                           Adaptor_2  \n",
       "0  AGATCGGAAGAGCGTCGTGTAGGGAAAGAGTGT  \n",
       "1  AGATCGGAAGAGCGTCGTGTAGGGAAAGAGTGT  \n",
       "2  AGATCGGAAGAGCGTCGTGTAGGGAAAGAGTGT  \n",
       "3  AGATCGGAAGAGCGTCGTGTAGGGAAAGAGTGT  \n",
       "4  AGATCGGAAGAGCGTCGTGTAGGGAAAGAGTGT  "
      ]
     },
     "execution_count": 10,
     "metadata": {},
     "output_type": "execute_result"
    }
   ],
   "source": [
    "# import info sheet\n",
    "summary = pd.read_csv('/scratch/lindb/testdata/1_CoAdapTree_Seq_summary.txt',sep='\\t')\n",
    "summary.head()"
   ]
  },
  {
   "cell_type": "code",
   "execution_count": 11,
   "metadata": {},
   "outputs": [
    {
     "data": {
      "text/plain": [
       "96"
      ]
     },
     "execution_count": 11,
     "metadata": {},
     "output_type": "execute_result"
    }
   ],
   "source": [
    "samps = sorted(summary['Sample_name'].tolist())\n",
    "len(samps)"
   ]
  },
  {
   "cell_type": "code",
   "execution_count": 12,
   "metadata": {},
   "outputs": [],
   "source": [
    "# fill in blank pool names, create dictionary for samps in pools, get a list of spp\n",
    "sampdict = {}\n",
    "spp      = []\n",
    "for row in summary.index:\n",
    "    if type(summary.loc[row,'Pool_name']) == float:\n",
    "        summary.loc[row,'Pool_name'] = summary.loc[row,'Sample_name']\n",
    "    pool = summary.loc[row,'Pool_name']\n",
    "    samp = summary.loc[row,'Sample_name']\n",
    "    sp   = pool.split(\"_\")[0]\n",
    "    if not sp in spp:\n",
    "        spp.append(sp)\n",
    "        spp = sorted(spp)\n",
    "    sampdict[samp] = pool"
   ]
  },
  {
   "cell_type": "code",
   "execution_count": 13,
   "metadata": {},
   "outputs": [],
   "source": [
    "# list of files by pool\n",
    "poolfdict = {}\n",
    "ftopool = {}\n",
    "for f in files:\n",
    "    samp = f.split(\"---\")[1].split(\".\")[1].replace(\"_R1\",\"\")\n",
    "    pool = sampdict[samp]\n",
    "    if not pool in poolfdict:\n",
    "        poolfdict[pool] = []\n",
    "    f2 = op.abspath(f).replace(\"_R1\",\"_R2\")\n",
    "    assert op.exists(f2)\n",
    "    [poolfdict[pool].append(x) for x in [f,f2]]\n",
    "    ftopool[f]  = pool\n",
    "    ftopool[f2] = pool\n",
    "    \n",
    "# poolfdict"
   ]
  },
  {
   "cell_type": "code",
   "execution_count": null,
   "metadata": {},
   "outputs": [],
   "source": []
  },
  {
   "cell_type": "code",
   "execution_count": null,
   "metadata": {},
   "outputs": [],
   "source": []
  },
  {
   "cell_type": "code",
   "execution_count": null,
   "metadata": {},
   "outputs": [],
   "source": []
  },
  {
   "cell_type": "code",
   "execution_count": null,
   "metadata": {},
   "outputs": [],
   "source": []
  },
  {
   "cell_type": "markdown",
   "metadata": {},
   "source": [
    "## parse fastq files for efficiency"
   ]
  },
  {
   "cell_type": "code",
   "execution_count": 3,
   "metadata": {},
   "outputs": [
    {
     "data": {
      "text/plain": [
       "200"
      ]
     },
     "execution_count": 3,
     "metadata": {},
     "output_type": "execute_result"
    }
   ],
   "source": [
    "# multiprocess count files \n",
    "rc = Client(profile=\"job_10804682\")\n",
    "dview = rc[:]\n",
    "lview = rc.load_balanced_view()\n",
    "len(lview)"
   ]
  },
  {
   "cell_type": "code",
   "execution_count": 57,
   "metadata": {},
   "outputs": [],
   "source": [
    "def countreads(f):\n",
    "    linecount = !zcat $f | wc -l | bc\n",
    "    readcount = int(linecount[0]) / 4\n",
    "    return (f,readcount)\n",
    "dview['countreads'] = countreads"
   ]
  },
  {
   "cell_type": "code",
   "execution_count": 103,
   "metadata": {},
   "outputs": [
    {
     "data": {
      "text/plain": [
       "192"
      ]
     },
     "execution_count": 103,
     "metadata": {},
     "output_type": "execute_result"
    }
   ],
   "source": [
    "allfiles = []\n",
    "for f in files:\n",
    "    f2 = f.replace(\"_R1\",\"_R2\")\n",
    "    assert op.exists(f2)\n",
    "    [allfiles.append(x) for x in [f,f2]]\n",
    "counts = dview.map(countreads,allfiles)\n",
    "len(counts)"
   ]
  },
  {
   "cell_type": "code",
   "execution_count": 129,
   "metadata": {},
   "outputs": [
    {
     "data": {
      "text/plain": [
       "{'DF_cap3_kit1': 133352664.0,\n",
       " 'DF_cap4_kit1': 127930938.0,\n",
       " 'DF_cap5_kit1': 158503122.0,\n",
       " 'DF_p27_cap2_kit2': 154428352.0,\n",
       " 'DF_p52_cap1_kit2': 109897366.0,\n",
       " 'JP_cap3_kit1': 125895818.0,\n",
       " 'JP_cap4_kit1': 127292702.0,\n",
       " 'JP_cap5_kit1': 139053014.0,\n",
       " 'JP_p101_cap1_kit1': 152988120.0,\n",
       " 'JP_p102_cap2_kit1': 128065604.0,\n",
       " 'LP_mg_cap2_kit1': 133595514.0,\n",
       " 'LP_mg_cap3_kit1': 122122024.0,\n",
       " 'LP_mg_cap4_kit1': 97997102.0,\n",
       " 'LP_mg_cap5_kit1': 89972752.0,\n",
       " 'LP_mg_cap6_kit1': 104349450.0,\n",
       " 'LP_pmg40_cap1_kit1': 126757062.0,\n",
       " 'WL_cap3_kit1': 109160064.0,\n",
       " 'WL_cap4_kit1': 107461138.0,\n",
       " 'WL_cap5_kit1': 160162326.0,\n",
       " 'WL_p404_cap1_kit1': 141502964.0,\n",
       " 'WL_p406_cap2_kit1': 158937502.0}"
      ]
     },
     "execution_count": 129,
     "metadata": {},
     "output_type": "execute_result"
    }
   ],
   "source": [
    "poolreads = {}\n",
    "freads = {}\n",
    "for c in counts:\n",
    "    f = c[0]\n",
    "    freads[f] = c[1]\n",
    "    pool = ftopool[f]\n",
    "    if not pool in poolreads:\n",
    "        poolreads[pool] = 0\n",
    "    poolreads[pool] += c[1]\n",
    "poolreads"
   ]
  },
  {
   "cell_type": "code",
   "execution_count": 98,
   "metadata": {
    "collapsed": true
   },
   "outputs": [
    {
     "name": "stdout",
     "output_type": "stream",
     "text": [
      "WL_cap5_kit1 80081163.0\n",
      "WL_p406_cap2_kit1 79468751.0\n",
      "DF_cap5_kit1 79251561.0\n",
      "DF_p27_cap2_kit2 77214176.0\n",
      "JP_p101_cap1_kit1 76494060.0\n",
      "WL_p404_cap1_kit1 70751482.0\n",
      "JP_cap5_kit1 69526507.0\n",
      "LP_mg_cap2_kit1 66797757.0\n",
      "DF_cap3_kit1 66676332.0\n",
      "JP_p102_cap2_kit1 64032802.0\n",
      "DF_cap4_kit1 63965469.0\n",
      "JP_cap4_kit1 63646351.0\n",
      "LP_pmg40_cap1_kit1 63378531.0\n",
      "JP_cap3_kit1 62947909.0\n",
      "LP_mg_cap3_kit1 61061012.0\n",
      "DF_p52_cap1_kit2 54948683.0\n",
      "WL_cap3_kit1 54580032.0\n",
      "WL_cap4_kit1 53730569.0\n",
      "LP_mg_cap6_kit1 52174725.0\n",
      "LP_mg_cap4_kit1 48998551.0\n",
      "LP_mg_cap5_kit1 44986376.0\n"
     ]
    },
    {
     "data": {
      "text/plain": [
       "1354712799.0"
      ]
     },
     "execution_count": 98,
     "metadata": {},
     "output_type": "execute_result"
    }
   ],
   "source": [
    "readsums = 0\n",
    "for pool in sorted(poolreads,key=poolreads.get,reverse=True):\n",
    "    print pool,poolreads[pool]\n",
    "    readsums += poolreads[pool]\n",
    "readsums"
   ]
  },
  {
   "cell_type": "code",
   "execution_count": 252,
   "metadata": {},
   "outputs": [],
   "source": [
    "DIR = '/scratch/lindb/testdata/'\n",
    "shdir = op.join(DIR,'shfiles/parse')\n",
    "if not op.exists(shdir):\n",
    "    os.makedirs(shdir)\n",
    "count = 0\n",
    "for f in ftopool.keys():\n",
    "    pool = ftopool[f]\n",
    "    pooldir = op.join(DIR,pool)\n",
    "    if not op.exists(pooldir):\n",
    "        os.makedirs(pooldir)\n",
    "    text = '''#!/bin/bash\n",
    "#SBATCH --account=def-saitken\n",
    "#SBATCH --job-name=parse%s\n",
    "#SBATCH --export=all\n",
    "#SBATCH --time=08:00:00\n",
    "#SBATCH --mem=1000mb\n",
    "#SBATCH --cpus-per-task=1\n",
    "\n",
    "source $HOME/.bashrc\n",
    "cd $HOME/pipeline\n",
    "\n",
    "python 00_parse_fastq.py %s %s\n",
    "''' % (str(count).zfill(3),\n",
    "       f,\n",
    "       pooldir\n",
    "      )\n",
    "    filE = op.join(shdir,'parse_%s.sh' % str(count).zfill(3))\n",
    "    with open(filE,'w') as o:\n",
    "        o.write(\"%s\" % text)\n",
    "    count += 1"
   ]
  },
  {
   "cell_type": "code",
   "execution_count": 171,
   "metadata": {},
   "outputs": [
    {
     "name": "stdout",
     "output_type": "stream",
     "text": [
      "Submitted batch job 10807029\n",
      "Submitted batch job 10807030\n",
      "Submitted batch job 10807032\n",
      "Submitted batch job 10807033\n",
      "Submitted batch job 10807034\n",
      "Submitted batch job 10807035\n",
      "Submitted batch job 10807036\n",
      "Submitted batch job 10807037\n",
      "Submitted batch job 10807038\n",
      "Submitted batch job 10807039\n",
      "Submitted batch job 10807040\n",
      "Submitted batch job 10807041\n",
      "Submitted batch job 10807042\n",
      "Submitted batch job 10807043\n",
      "Submitted batch job 10807044\n",
      "Submitted batch job 10807045\n",
      "Submitted batch job 10807046\n",
      "Submitted batch job 10807047\n",
      "Submitted batch job 10807048\n",
      "Submitted batch job 10807049\n",
      "Submitted batch job 10807050\n",
      "Submitted batch job 10807051\n",
      "Submitted batch job 10807052\n",
      "Submitted batch job 10807053\n",
      "Submitted batch job 10807054\n",
      "Submitted batch job 10807055\n",
      "Submitted batch job 10807056\n",
      "Submitted batch job 10807057\n",
      "Submitted batch job 10807058\n",
      "Submitted batch job 10807059\n",
      "Submitted batch job 10807060\n",
      "Submitted batch job 10807061\n",
      "Submitted batch job 10807062\n",
      "Submitted batch job 10807063\n",
      "Submitted batch job 10807064\n",
      "Submitted batch job 10807065\n",
      "Submitted batch job 10807066\n",
      "Submitted batch job 10807067\n",
      "Submitted batch job 10807068\n",
      "Submitted batch job 10807069\n",
      "Submitted batch job 10807070\n",
      "Submitted batch job 10807071\n",
      "Submitted batch job 10807073\n",
      "Submitted batch job 10807074\n",
      "Submitted batch job 10807075\n",
      "Submitted batch job 10807076\n",
      "Submitted batch job 10807078\n",
      "Submitted batch job 10807079\n",
      "Submitted batch job 10807080\n",
      "Submitted batch job 10807082\n",
      "Submitted batch job 10807083\n",
      "Submitted batch job 10807085\n",
      "Submitted batch job 10807086\n",
      "Submitted batch job 10807087\n",
      "Submitted batch job 10807089\n",
      "Submitted batch job 10807091\n",
      "Submitted batch job 10807093\n",
      "Submitted batch job 10807095\n",
      "Submitted batch job 10807098\n",
      "Submitted batch job 10807100\n",
      "Submitted batch job 10807101\n",
      "Submitted batch job 10807102\n",
      "Submitted batch job 10807104\n",
      "Submitted batch job 10807106\n",
      "Submitted batch job 10807107\n",
      "Submitted batch job 10807108\n",
      "Submitted batch job 10807109\n",
      "Submitted batch job 10807110\n",
      "Submitted batch job 10807111\n",
      "Submitted batch job 10807112\n",
      "Submitted batch job 10807113\n",
      "Submitted batch job 10807114\n",
      "Submitted batch job 10807115\n",
      "Submitted batch job 10807116\n",
      "Submitted batch job 10807117\n",
      "Submitted batch job 10807118\n",
      "Submitted batch job 10807120\n",
      "Submitted batch job 10807121\n",
      "Submitted batch job 10807122\n",
      "Submitted batch job 10807124\n",
      "Submitted batch job 10807126\n",
      "Submitted batch job 10807127\n",
      "Submitted batch job 10807128\n",
      "Submitted batch job 10807129\n",
      "Submitted batch job 10807130\n",
      "Submitted batch job 10807131\n",
      "Submitted batch job 10807132\n",
      "Submitted batch job 10807133\n",
      "Submitted batch job 10807134\n",
      "Submitted batch job 10807135\n",
      "Submitted batch job 10807136\n",
      "Submitted batch job 10807137\n",
      "Submitted batch job 10807138\n",
      "Submitted batch job 10807139\n",
      "Submitted batch job 10807141\n",
      "Submitted batch job 10807142\n",
      "Submitted batch job 10807143\n",
      "Submitted batch job 10807147\n",
      "Submitted batch job 10807150\n",
      "Submitted batch job 10807151\n",
      "Submitted batch job 10807152\n",
      "Submitted batch job 10807155\n",
      "Submitted batch job 10807156\n",
      "Submitted batch job 10807157\n",
      "Submitted batch job 10807158\n",
      "Submitted batch job 10807159\n",
      "Submitted batch job 10807160\n",
      "Submitted batch job 10807161\n",
      "Submitted batch job 10807163\n",
      "Submitted batch job 10807164\n",
      "Submitted batch job 10807166\n",
      "Submitted batch job 10807201\n",
      "Submitted batch job 10807206\n",
      "Submitted batch job 10807208\n",
      "Submitted batch job 10807209\n",
      "Submitted batch job 10807210\n",
      "Submitted batch job 10807211\n",
      "Submitted batch job 10807212\n",
      "Submitted batch job 10807213\n",
      "Submitted batch job 10807214\n",
      "Submitted batch job 10807215\n",
      "Submitted batch job 10807216\n",
      "Submitted batch job 10807217\n",
      "Submitted batch job 10807218\n",
      "Submitted batch job 10807219\n",
      "Submitted batch job 10807220\n",
      "Submitted batch job 10807221\n",
      "Submitted batch job 10807222\n",
      "Submitted batch job 10807223\n",
      "Submitted batch job 10807224\n",
      "Submitted batch job 10807225\n",
      "Submitted batch job 10807226\n",
      "Submitted batch job 10807227\n",
      "Submitted batch job 10807228\n",
      "Submitted batch job 10807229\n",
      "Submitted batch job 10807230\n",
      "Submitted batch job 10807231\n",
      "Submitted batch job 10807232\n",
      "Submitted batch job 10807233\n",
      "Submitted batch job 10807235\n",
      "Submitted batch job 10807236\n",
      "Submitted batch job 10807237\n",
      "Submitted batch job 10807238\n",
      "Submitted batch job 10807239\n",
      "Submitted batch job 10807241\n",
      "Submitted batch job 10807244\n",
      "Submitted batch job 10807249\n",
      "Submitted batch job 10807253\n",
      "Submitted batch job 10807258\n",
      "Submitted batch job 10807260\n",
      "Submitted batch job 10807262\n",
      "Submitted batch job 10807266\n",
      "Submitted batch job 10807281\n",
      "Submitted batch job 10807290\n",
      "Submitted batch job 10807293\n",
      "Submitted batch job 10807296\n",
      "Submitted batch job 10807298\n",
      "Submitted batch job 10807310\n",
      "Submitted batch job 10807331\n",
      "Submitted batch job 10807333\n",
      "Submitted batch job 10807334\n",
      "Submitted batch job 10807335\n",
      "Submitted batch job 10807336\n",
      "Submitted batch job 10807337\n",
      "Submitted batch job 10807338\n",
      "Submitted batch job 10807339\n",
      "Submitted batch job 10807340\n",
      "Submitted batch job 10807341\n",
      "Submitted batch job 10807342\n",
      "Submitted batch job 10807343\n",
      "Submitted batch job 10807344\n",
      "Submitted batch job 10807345\n",
      "Submitted batch job 10807346\n",
      "Submitted batch job 10807347\n",
      "Submitted batch job 10807348\n",
      "Submitted batch job 10807349\n",
      "Submitted batch job 10807350\n",
      "Submitted batch job 10807351\n",
      "Submitted batch job 10807352\n",
      "Submitted batch job 10807353\n",
      "Submitted batch job 10807354\n",
      "Submitted batch job 10807355\n",
      "Submitted batch job 10807356\n",
      "Submitted batch job 10807357\n",
      "Submitted batch job 10807358\n",
      "Submitted batch job 10807359\n",
      "Submitted batch job 10807360\n",
      "Submitted batch job 10807361\n",
      "Submitted batch job 10807362\n"
     ]
    }
   ],
   "source": [
    "os.chdir(shdir)\n",
    "for f in fs(shdir):\n",
    "    !sbatch $f"
   ]
  },
  {
   "cell_type": "code",
   "execution_count": 175,
   "metadata": {},
   "outputs": [
    {
     "name": "stdout",
     "output_type": "stream",
     "text": [
      "DF_cap3_kit1\n",
      "1089\n",
      "DF_cap3_kit1\n",
      "6643\n",
      "DF_cap3_kit1\n",
      "6230\n",
      "DF_cap3_kit1\n",
      "6002\n",
      "DF_cap3_kit1\n",
      "1678\n",
      "DF_cap3_kit1\n",
      "1029\n",
      "DF_cap3_kit1\n",
      "6390\n",
      "DF_cap3_kit1\n",
      "7440\n",
      "DF_cap3_kit1\n",
      "5014\n",
      "DF_cap3_kit1\n",
      "4038\n",
      "DF_cap3_kit1\n",
      "4067\n",
      "DF_cap3_kit1\n",
      "5476\n",
      "DF_cap3_kit1\n",
      "4164\n",
      "DF_cap3_kit1\n",
      "1159\n",
      "DF_cap3_kit1\n",
      "805\n",
      "DF_cap3_kit1\n",
      "1784\n",
      "DF_cap3_kit1\n",
      "6461\n",
      "DF_cap3_kit1\n",
      "902\n",
      "DF_cap3_kit1\n",
      "6339\n",
      "DF_cap3_kit1\n",
      "7519\n",
      "DF_cap3_kit1\n",
      "5801\n"
     ]
    }
   ],
   "source": [
    "for p in poolreads:\n",
    "    print pool\n",
    "    pdir = op.join(DIR,p)\n",
    "    print len(ls(pdir))"
   ]
  },
  {
   "cell_type": "markdown",
   "metadata": {},
   "source": [
    "## count files to decide lensh for 01a_trim-fastq"
   ]
  },
  {
   "cell_type": "code",
   "execution_count": 239,
   "metadata": {},
   "outputs": [
    {
     "data": {
      "text/plain": [
       "222559"
      ]
     },
     "execution_count": 239,
     "metadata": {},
     "output_type": "execute_result"
    }
   ],
   "source": [
    "# get nfiles per dir\n",
    "os.chdir('/scratch/lindb/testdata/')\n",
    "dirs = !ls -d */\n",
    "dirs = [op.abspath(d) for d in dirs if 'kit' in d]\n",
    "\n",
    "fcount = 0\n",
    "dcount = {}\n",
    "for d in dirs:\n",
    "    fcount += len(ls(d))\n",
    "    dcount[d] = len(ls(d))\n",
    "fcount"
   ]
  },
  {
   "cell_type": "code",
   "execution_count": 240,
   "metadata": {},
   "outputs": [
    {
     "data": {
      "text/plain": [
       "(1.0000000000000002,\n",
       " {'/scratch/lindb/testdata/DF_cap3_kit1': 0.059939162199686376,\n",
       "  '/scratch/lindb/testdata/DF_cap4_kit1': 0.05750385291091351,\n",
       "  '/scratch/lindb/testdata/DF_cap5_kit1': 0.07124402967303052,\n",
       "  '/scratch/lindb/testdata/DF_p27_cap2_kit2': 0.03189266666367121,\n",
       "  '/scratch/lindb/testdata/DF_p52_cap1_kit2': 0.03604886794063596,\n",
       "  '/scratch/lindb/testdata/JP_cap3_kit1': 0.056587242034696415,\n",
       "  '/scratch/lindb/testdata/JP_cap4_kit1': 0.05723426147673201,\n",
       "  '/scratch/lindb/testdata/JP_cap5_kit1': 0.06250926720554999,\n",
       "  '/scratch/lindb/testdata/JP_p101_cap1_kit1': 0.029160806797298693,\n",
       "  '/scratch/lindb/testdata/JP_p102_cap2_kit1': 0.02686927960675596,\n",
       "  '/scratch/lindb/testdata/LP_mg_cap2_kit1': 0.06004699877335897,\n",
       "  '/scratch/lindb/testdata/LP_mg_cap3_kit1': 0.05489780238049236,\n",
       "  '/scratch/lindb/testdata/LP_mg_cap4_kit1': 0.044060226726396146,\n",
       "  '/scratch/lindb/testdata/LP_mg_cap5_kit1': 0.040456687889503455,\n",
       "  '/scratch/lindb/testdata/LP_mg_cap6_kit1': 0.046917895928720026,\n",
       "  '/scratch/lindb/testdata/LP_pmg40_cap1_kit1': 0.035329957449485305,\n",
       "  '/scratch/lindb/testdata/WL_cap3_kit1': 0.04908361378331139,\n",
       "  '/scratch/lindb/testdata/WL_cap4_kit1': 0.04831078500532443,\n",
       "  '/scratch/lindb/testdata/WL_cap5_kit1': 0.07199888568873872,\n",
       "  '/scratch/lindb/testdata/WL_p404_cap1_kit1': 0.02834753930418451,\n",
       "  '/scratch/lindb/testdata/WL_p406_cap2_kit1': 0.03156017056151403})"
      ]
     },
     "execution_count": 240,
     "metadata": {},
     "output_type": "execute_result"
    }
   ],
   "source": [
    "# determine frac of sh files\n",
    "sums = sum(dcount.values())\n",
    "frac = {}\n",
    "for d in dcount:\n",
    "    frac[d] = dcount[d]/sums\n",
    "sum(frac.values()),frac"
   ]
  },
  {
   "cell_type": "code",
   "execution_count": 241,
   "metadata": {},
   "outputs": [
    {
     "name": "stdout",
     "output_type": "stream",
     "text": [
      "/scratch/lindb/testdata/LP_mg_cap5_kit1 39\n",
      "/scratch/lindb/testdata/WL_cap5_kit1 69\n",
      "/scratch/lindb/testdata/WL_p406_cap2_kit1 30\n",
      "/scratch/lindb/testdata/WL_cap3_kit1 47\n",
      "/scratch/lindb/testdata/WL_cap4_kit1 46\n",
      "/scratch/lindb/testdata/LP_mg_cap4_kit1 42\n",
      "/scratch/lindb/testdata/JP_cap3_kit1 54\n",
      "/scratch/lindb/testdata/LP_mg_cap6_kit1 45\n",
      "/scratch/lindb/testdata/LP_mg_cap3_kit1 53\n",
      "/scratch/lindb/testdata/LP_mg_cap2_kit1 58\n",
      "/scratch/lindb/testdata/LP_pmg40_cap1_kit1 34\n",
      "/scratch/lindb/testdata/WL_p404_cap1_kit1 27\n",
      "/scratch/lindb/testdata/DF_cap4_kit1 55\n",
      "/scratch/lindb/testdata/JP_p102_cap2_kit1 26\n",
      "/scratch/lindb/testdata/DF_cap5_kit1 68\n",
      "/scratch/lindb/testdata/JP_p101_cap1_kit1 28\n",
      "/scratch/lindb/testdata/JP_cap4_kit1 55\n",
      "/scratch/lindb/testdata/DF_p27_cap2_kit2 31\n",
      "/scratch/lindb/testdata/JP_cap5_kit1 60\n",
      "/scratch/lindb/testdata/DF_p52_cap1_kit2 35\n",
      "/scratch/lindb/testdata/DF_cap3_kit1 57\n"
     ]
    }
   ],
   "source": [
    "# num sh files per dir\n",
    "shfrac = {}\n",
    "for d in frac:\n",
    "    shfrac[d] = int(math.ceil(frac[d]*950))\n",
    "    print d, shfrac[d]"
   ]
  },
  {
   "cell_type": "code",
   "execution_count": 242,
   "metadata": {},
   "outputs": [],
   "source": [
    "shdir = op.join(DIR,'shfiles/start_trim')\n",
    "if not op.exists(shdir):\n",
    "    os.makedirs(shdir)\n",
    "for d in shfrac:\n",
    "    text = '''#!/bin/bash\n",
    "#SBATCH --account=def-saitken\n",
    "#SBATCH --job-name=parse%s\n",
    "#SBATCH --export=all\n",
    "#SBATCH --time=03:00:00\n",
    "#SBATCH --mem=1000mb\n",
    "#SBATCH --cpus-per-task=1\n",
    "\n",
    "source $HOME/.bashrc\n",
    "cd $HOME/pipeline\n",
    "\n",
    "python 01a_trim-fastq.py %s %s %s\n",
    "''' % (op.basename(d),\n",
    "       d,\n",
    "       '/home/lindb/scratch/ptaeda.v1.01.reduced.pseudo.fasta',\n",
    "       str(shfrac[d])\n",
    "      )\n",
    "    filE = op.join(shdir,'start-trim_%s.sh' % op.basename(d))\n",
    "    with open(filE,'w') as o:\n",
    "        o.write(\"%s\" % text)"
   ]
  },
  {
   "cell_type": "code",
   "execution_count": 251,
   "metadata": {},
   "outputs": [
    {
     "data": {
      "text/plain": [
       "79468751.0"
      ]
     },
     "execution_count": 251,
     "metadata": {},
     "output_type": "execute_result"
    }
   ],
   "source": [
    "freads['/scratch/lindb/testdata/HI.4779.006.D710---D502.WL_p406_cap2_kit1_R1.fastq.gz']"
   ]
  },
  {
   "cell_type": "code",
   "execution_count": 250,
   "metadata": {},
   "outputs": [
    {
     "data": {
      "text/plain": [
       "7946.8751"
      ]
     },
     "execution_count": 250,
     "metadata": {},
     "output_type": "execute_result"
    }
   ],
   "source": [
    "79468751/10000"
   ]
  },
  {
   "cell_type": "code",
   "execution_count": null,
   "metadata": {},
   "outputs": [],
   "source": []
  }
 ],
 "metadata": {
  "kernelspec": {
   "display_name": "Python 2",
   "language": "python",
   "name": "python2"
  },
  "language_info": {
   "codemirror_mode": {
    "name": "ipython",
    "version": 2
   },
   "file_extension": ".py",
   "mimetype": "text/x-python",
   "name": "python",
   "nbconvert_exporter": "python",
   "pygments_lexer": "ipython2",
   "version": "2.7.15"
  }
 },
 "nbformat": 4,
 "nbformat_minor": 2
}
