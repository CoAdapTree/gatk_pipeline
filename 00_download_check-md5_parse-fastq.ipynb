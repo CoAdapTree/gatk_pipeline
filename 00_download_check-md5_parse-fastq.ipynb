{
 "cells": [
  {
   "cell_type": "code",
   "execution_count": 2,
   "metadata": {},
   "outputs": [],
   "source": [
    "imp = open('/home/lindb/pythonimports.py').read()\n",
    "exec(imp)\n",
    "from __future__ import division"
   ]
  },
  {
   "cell_type": "markdown",
   "metadata": {},
   "source": [
    "## download"
   ]
  },
  {
   "cell_type": "code",
   "execution_count": 9,
   "metadata": {},
   "outputs": [],
   "source": [
    "# create --post-file for download\n",
    "DIR = '/home/lindb/scratch/testdata/readSetLinks'\n",
    "tmpfile = op.join(DIR,'.tmp.dat')\n",
    "if not op.exists(tmpfile):\n",
    "    with open(tmpfile,'w') as o:\n",
    "        o.write(\"%s\" % 'j_username=mlu1&j_password=rrgmmngu')\n",
    "    !chmod 600 $tmpfile"
   ]
  },
  {
   "cell_type": "code",
   "execution_count": 6,
   "metadata": {},
   "outputs": [
    {
     "name": "stdout",
     "output_type": "stream",
     "text": [
      "384\n"
     ]
    },
    {
     "data": {
      "text/plain": [
       "'HI.4779.005.D704---D504.LP_mg10_cap2_kit1_R2.fastq.gz'"
      ]
     },
     "execution_count": 6,
     "metadata": {},
     "output_type": "execute_result"
    }
   ],
   "source": [
    "# create dirs, open file with weblinks to fastq files\n",
    "shdir = op.join(DIR,'shfiles')\n",
    "if not op.exists(shdir):\n",
    "    os.makedirs(shdir)\n",
    "links = open(op.join(DIR,'readSetLinks.txt'),'r').readlines()\n",
    "print len(links)\n",
    "# make sure file name parse is correct\n",
    "links[0].split(\"/\")[-1].replace(\"\\n\",\"\")"
   ]
  },
  {
   "cell_type": "code",
   "execution_count": 16,
   "metadata": {},
   "outputs": [],
   "source": [
    "# wget links\n",
    "files = [f for f in fs('/home/lindb/scratch/testdata') if 'fastq' in f]\n",
    "for i,link in enumerate(links):\n",
    "    link = link.replace(\"\\n\",\"\")\n",
    "    fqgz = link.split(\"/\")[-1]\n",
    "    f = op.join('/home/lindb/scratch/testdata',fqgz)\n",
    "    if not f in files: # faster to check if f in list than op.exists(f)\n",
    "        text = '''#!/bin/bash\n",
    "#SBATCH --account=def-saitken\n",
    "#SBATCH --job-name=link%s\n",
    "#SBATCH --export=all\n",
    "#SBATCH --time=00:59:00\n",
    "#SBATCH --mem=1000mb\n",
    "#SBATCH --cpus-per-task=1\n",
    "\n",
    "cd /home/lindb/scratch/testdata\n",
    "wget --no-cookies --no-check-certificate -c %s --post-file %s\n",
    "''' % (str(i).zfill(3),\n",
    "       link,\n",
    "       tmpfile\n",
    "      )\n",
    "#         filE = op.join(shdir,'wget%s.sh' % str(i).zfill(3))\n",
    "        filE = op.join(shdir,'wgetfinish%s.sh' % str(i).zfill(3))        \n",
    "        with open(filE,'w') as o:\n",
    "            o.write(\"%s\" % text)"
   ]
  },
  {
   "cell_type": "code",
   "execution_count": 2,
   "metadata": {},
   "outputs": [
    {
     "data": {
      "text/plain": [
       "'/home/lindb/scratch/testdata/readSetLinks/shfiles/wget000.sh'"
      ]
     },
     "execution_count": 2,
     "metadata": {},
     "output_type": "execute_result"
    }
   ],
   "source": [
    "DIR = '/home/lindb/scratch/testdata/readSetLinks'\n",
    "shdir = op.join(DIR,'shfiles')\n",
    "fs(shdir)[0]"
   ]
  },
  {
   "cell_type": "code",
   "execution_count": 3,
   "metadata": {},
   "outputs": [],
   "source": [
    "# sbatch with master\n",
    "text = '''#!/bin/bash\n",
    "#SBATCH --account=def-saitken\n",
    "#SBATCH --job-name=wgetmaster\n",
    "#SBATCH --export=all\n",
    "#SBATCH --time=00:59:00\n",
    "#SBATCH --mem=1000mb\n",
    "#SBATCH --cpus-per-task=1\n",
    "\n",
    "\n",
    "'''\n",
    "for f in fs(shdir):\n",
    "    newtext = '''sbatch %s\n",
    "''' % f\n",
    "    text = text + newtext\n",
    "filE=op.join(shdir,'master.sh')\n",
    "with open(filE,'w') as o:\n",
    "    o.write(\"%s\" % text)"
   ]
  },
  {
   "cell_type": "markdown",
   "metadata": {},
   "source": [
    "## check md5"
   ]
  },
  {
   "cell_type": "code",
   "execution_count": 20,
   "metadata": {},
   "outputs": [
    {
     "name": "stdout",
     "output_type": "stream",
     "text": [
      "/home/lindb/scratch/testdata/readSetLinks/shfiles/md5sumcheck.sh\n",
      "^C\n"
     ]
    }
   ],
   "source": [
    "# log to logfile\n",
    "text = '''#!/bin/bash\n",
    "#SBATCH --account=def-saitken\n",
    "#SBATCH --job-name=md5sum\n",
    "#SBATCH --export=all\n",
    "#SBATCH --time=03:00:00\n",
    "#SBATCH --mem=1000mb\n",
    "#SBATCH --cpus-per-task=1\n",
    "\n",
    "\n",
    "cd /home/lindb/scratch/testdata/\n",
    "md5sum -c *md5 > md5log.txt\n",
    "'''\n",
    "filE = op.join(shdir,'md5sumcheck.sh')\n",
    "print filE\n",
    "with open(filE,'w') as o:\n",
    "    o.write(\"%s\" % text)\n",
    "!sbatch $fiLE"
   ]
  },
  {
   "cell_type": "code",
   "execution_count": 7,
   "metadata": {},
   "outputs": [
    {
     "name": "stdout",
     "output_type": "stream",
     "text": [
      "HI.4779.007.D704---D507.JP_101_2_cap3_kit1_R1.fastq.gz: FAILED open or read\n",
      "\n"
     ]
    }
   ],
   "source": [
    "# read the log, look for bad md5 checks\n",
    "md5 = open('/home/lindb/scratch/testdata/md5log.txt').readlines()\n",
    "for line in md5:\n",
    "    res = line.split(\" \")[1].split(\"\\n\")[0]\n",
    "    if not res == \"OK\":\n",
    "        print line\n",
    "# one res in testdata was not ok, but I had gunzip-ed it"
   ]
  },
  {
   "cell_type": "markdown",
   "metadata": {},
   "source": [
    "## split files by library"
   ]
  },
  {
   "cell_type": "code",
   "execution_count": 8,
   "metadata": {},
   "outputs": [],
   "source": [
    "from Bio import SeqIO"
   ]
  },
  {
   "cell_type": "code",
   "execution_count": 16,
   "metadata": {},
   "outputs": [
    {
     "data": {
      "text/plain": [
       "96"
      ]
     },
     "execution_count": 16,
     "metadata": {},
     "output_type": "execute_result"
    }
   ],
   "source": [
    "# get a list of fastq R1 files\n",
    "files = sorted([f for f in fs('/scratch/lindb/testdata') if 'R1' in f and f.endswith('fastq.gz')])\n",
    "len(files)"
   ]
  },
  {
   "cell_type": "code",
   "execution_count": 17,
   "metadata": {},
   "outputs": [
    {
     "data": {
      "text/html": [
       "<div>\n",
       "<style scoped>\n",
       "    .dataframe tbody tr th:only-of-type {\n",
       "        vertical-align: middle;\n",
       "    }\n",
       "\n",
       "    .dataframe tbody tr th {\n",
       "        vertical-align: top;\n",
       "    }\n",
       "\n",
       "    .dataframe thead th {\n",
       "        text-align: right;\n",
       "    }\n",
       "</style>\n",
       "<table border=\"1\" class=\"dataframe\">\n",
       "  <thead>\n",
       "    <tr style=\"text-align: right;\">\n",
       "      <th></th>\n",
       "      <th>Read_group_header_line</th>\n",
       "      <th>Pool_name</th>\n",
       "      <th>Sample_name</th>\n",
       "      <th>Ploidy</th>\n",
       "      <th>Index1</th>\n",
       "      <th>Index2</th>\n",
       "      <th>Adaptor_1</th>\n",
       "      <th>Adaptor_2</th>\n",
       "    </tr>\n",
       "  </thead>\n",
       "  <tbody>\n",
       "    <tr>\n",
       "      <th>0</th>\n",
       "      <td>@RG\\tID:mg8\\tLB:LPcap2\\tSM:mg8</td>\n",
       "      <td>LP_mg_cap2_kit1</td>\n",
       "      <td>LP_mg8_cap2_kit1</td>\n",
       "      <td>1</td>\n",
       "      <td>ATTACTCG</td>\n",
       "      <td>GGCTCTGA</td>\n",
       "      <td>AGATCGGAAGAGCACACGTCTGAACTCCAGTCAC</td>\n",
       "      <td>AGATCGGAAGAGCGTCGTGTAGGGAAAGAGTGT</td>\n",
       "    </tr>\n",
       "    <tr>\n",
       "      <th>1</th>\n",
       "      <td>@RG\\tID:mg22\\tLB:LPcap2\\tSM:mg22</td>\n",
       "      <td>LP_mg_cap2_kit1</td>\n",
       "      <td>LP_mg22_cap2_kit1</td>\n",
       "      <td>1</td>\n",
       "      <td>TCCGGAG</td>\n",
       "      <td>GGCTCTGA</td>\n",
       "      <td>AGATCGGAAGAGCACACGTCTGAACTCCAGTCAC</td>\n",
       "      <td>AGATCGGAAGAGCGTCGTGTAGGGAAAGAGTGT</td>\n",
       "    </tr>\n",
       "    <tr>\n",
       "      <th>2</th>\n",
       "      <td>@RG\\tID:mg64\\tLB:LPcap2\\tSM:mg64</td>\n",
       "      <td>LP_mg_cap2_kit1</td>\n",
       "      <td>LP_mg64_cap2_kit1</td>\n",
       "      <td>1</td>\n",
       "      <td>GAATTCGT</td>\n",
       "      <td>GGCTCTGA</td>\n",
       "      <td>AGATCGGAAGAGCACACGTCTGAACTCCAGTCAC</td>\n",
       "      <td>AGATCGGAAGAGCGTCGTGTAGGGAAAGAGTGT</td>\n",
       "    </tr>\n",
       "    <tr>\n",
       "      <th>3</th>\n",
       "      <td>@RG\\tID:mg9\\tLB:LPcap2\\tSM:mg9</td>\n",
       "      <td>LP_mg_cap2_kit1</td>\n",
       "      <td>LP_mg9_cap2_kit1</td>\n",
       "      <td>1</td>\n",
       "      <td>CGCTCATT</td>\n",
       "      <td>GGCTCTGA</td>\n",
       "      <td>AGATCGGAAGAGCACACGTCTGAACTCCAGTCAC</td>\n",
       "      <td>AGATCGGAAGAGCGTCGTGTAGGGAAAGAGTGT</td>\n",
       "    </tr>\n",
       "    <tr>\n",
       "      <th>4</th>\n",
       "      <td>@RG\\tID:mg10\\tLB:LPcap2\\tSM:mg10</td>\n",
       "      <td>LP_mg_cap2_kit1</td>\n",
       "      <td>LP_mg10_cap2_kit1</td>\n",
       "      <td>1</td>\n",
       "      <td>GAGATTCC</td>\n",
       "      <td>GGCTCTGA</td>\n",
       "      <td>AGATCGGAAGAGCACACGTCTGAACTCCAGTCAC</td>\n",
       "      <td>AGATCGGAAGAGCGTCGTGTAGGGAAAGAGTGT</td>\n",
       "    </tr>\n",
       "  </tbody>\n",
       "</table>\n",
       "</div>"
      ],
      "text/plain": [
       "             Read_group_header_line        Pool_name        Sample_name  \\\n",
       "0    @RG\\tID:mg8\\tLB:LPcap2\\tSM:mg8  LP_mg_cap2_kit1   LP_mg8_cap2_kit1   \n",
       "1  @RG\\tID:mg22\\tLB:LPcap2\\tSM:mg22  LP_mg_cap2_kit1  LP_mg22_cap2_kit1   \n",
       "2  @RG\\tID:mg64\\tLB:LPcap2\\tSM:mg64  LP_mg_cap2_kit1  LP_mg64_cap2_kit1   \n",
       "3    @RG\\tID:mg9\\tLB:LPcap2\\tSM:mg9  LP_mg_cap2_kit1   LP_mg9_cap2_kit1   \n",
       "4  @RG\\tID:mg10\\tLB:LPcap2\\tSM:mg10  LP_mg_cap2_kit1  LP_mg10_cap2_kit1   \n",
       "\n",
       "   Ploidy    Index1       Index2                           Adaptor_1  \\\n",
       "0       1  ATTACTCG  GGCTCTGA     AGATCGGAAGAGCACACGTCTGAACTCCAGTCAC   \n",
       "1       1   TCCGGAG     GGCTCTGA  AGATCGGAAGAGCACACGTCTGAACTCCAGTCAC   \n",
       "2       1  GAATTCGT     GGCTCTGA  AGATCGGAAGAGCACACGTCTGAACTCCAGTCAC   \n",
       "3       1  CGCTCATT     GGCTCTGA  AGATCGGAAGAGCACACGTCTGAACTCCAGTCAC   \n",
       "4       1  GAGATTCC     GGCTCTGA  AGATCGGAAGAGCACACGTCTGAACTCCAGTCAC   \n",
       "\n",
       "                           Adaptor_2  \n",
       "0  AGATCGGAAGAGCGTCGTGTAGGGAAAGAGTGT  \n",
       "1  AGATCGGAAGAGCGTCGTGTAGGGAAAGAGTGT  \n",
       "2  AGATCGGAAGAGCGTCGTGTAGGGAAAGAGTGT  \n",
       "3  AGATCGGAAGAGCGTCGTGTAGGGAAAGAGTGT  \n",
       "4  AGATCGGAAGAGCGTCGTGTAGGGAAAGAGTGT  "
      ]
     },
     "execution_count": 17,
     "metadata": {},
     "output_type": "execute_result"
    }
   ],
   "source": [
    "# import info sheet\n",
    "summary = pd.read_csv('/scratch/lindb/testdata/1_CoAdapTree_Seq_summary.txt',sep='\\t')\n",
    "summary.head()"
   ]
  },
  {
   "cell_type": "code",
   "execution_count": 18,
   "metadata": {},
   "outputs": [
    {
     "data": {
      "text/plain": [
       "96"
      ]
     },
     "execution_count": 18,
     "metadata": {},
     "output_type": "execute_result"
    }
   ],
   "source": [
    "samps = sorted(summary['Sample_name'].tolist())\n",
    "len(samps)"
   ]
  },
  {
   "cell_type": "code",
   "execution_count": 19,
   "metadata": {},
   "outputs": [],
   "source": [
    "# fill in blank pool names, create dictionary for samps in pools, get a list of spp, get rg info\n",
    "sampdict = {}\n",
    "spp      = []\n",
    "for row in summary.index:\n",
    "    if type(summary.loc[row,'Pool_name']) == float:\n",
    "        summary.loc[row,'Pool_name'] = summary.loc[row,'Sample_name']\n",
    "    pool = summary.loc[row,'Pool_name']\n",
    "    samp = summary.loc[row,'Sample_name']\n",
    "    sp   = pool.split(\"_\")[0]\n",
    "    if not sp in spp:\n",
    "        spp.append(sp)\n",
    "        spp = sorted(spp)\n",
    "    sampdict[samp] = pool\n"
   ]
  },
  {
   "cell_type": "code",
   "execution_count": 38,
   "metadata": {},
   "outputs": [],
   "source": [
    "# get rg info\n",
    "rg = '/scratch/lindb/mengmeng/4_addRG.sh'\n",
    "rg = open(rg,'r').readlines()\n",
    "rginfo = {}\n",
    "for line in rg:\n",
    "    if line.split(\" \")[0] == 'java':\n",
    "        splits = line.split(\" \")\n",
    "        samp = splits[12].split(\"/\")[-1].split(\".\")[0]\n",
    "        assert samp in sampdict\n",
    "        if not samp in rginfo:\n",
    "            rginfo[samp] = {}\n",
    "        else:\n",
    "            print 'duplicate samp %s' % samp\n",
    "        rginfo[samp]['rgid'] = splits[6].split(\"=\")[1]\n",
    "        rginfo[samp]['rglb'] = splits[7].split(\"=\")[1]\n",
    "        rginfo[samp]['rgpl'] = splits[9].split(\"=\")[1]\n",
    "        rginfo[samp]['rgpu'] = splits[10].split(\"=\")[1]\n",
    "        rginfo[samp]['rgsm'] = splits[11].split(\"=\")[1]\n",
    "        #print samp,rginfo[samp]"
   ]
  },
  {
   "cell_type": "code",
   "execution_count": 40,
   "metadata": {},
   "outputs": [
    {
     "data": {
      "text/plain": [
       "True"
      ]
     },
     "execution_count": 40,
     "metadata": {},
     "output_type": "execute_result"
    }
   ],
   "source": [
    "len(rginfo.keys()) == len(sampdict.keys())"
   ]
  },
  {
   "cell_type": "code",
   "execution_count": 41,
   "metadata": {},
   "outputs": [],
   "source": [
    "pkldump(rginfo,'/scratch/lindb/testdata/rginfo.pkl')"
   ]
  },
  {
   "cell_type": "code",
   "execution_count": 44,
   "metadata": {},
   "outputs": [],
   "source": [
    "# list of files by pool\n",
    "poolfdict = {}\n",
    "ftopool = {}\n",
    "for f in files:\n",
    "    samp = f.split(\"---\")[1].split(\".\")[1].replace(\"_R1\",\"\")\n",
    "    pool = sampdict[samp]\n",
    "    if not pool in poolfdict:\n",
    "        poolfdict[pool] = []\n",
    "    f2 = op.abspath(f).replace(\"_R1\",\"_R2\")\n",
    "    assert op.exists(f2)\n",
    "    [poolfdict[pool].append(x) for x in [f,f2]]\n",
    "    ftopool[f]  = pool\n",
    "    ftopool[f2] = pool\n",
    "    \n",
    "# poolfdict"
   ]
  },
  {
   "cell_type": "code",
   "execution_count": 17,
   "metadata": {},
   "outputs": [
    {
     "data": {
      "text/plain": [
       "'JP_cap4_kit1'"
      ]
     },
     "execution_count": 17,
     "metadata": {},
     "output_type": "execute_result"
    }
   ],
   "source": [
    "samp = sampdict.keys()[0]\n",
    "sampdict[samp]"
   ]
  },
  {
   "cell_type": "markdown",
   "metadata": {},
   "source": [
    "## parse fastq files for efficiency"
   ]
  },
  {
   "cell_type": "code",
   "execution_count": 3,
   "metadata": {},
   "outputs": [
    {
     "data": {
      "text/plain": [
       "200"
      ]
     },
     "execution_count": 3,
     "metadata": {},
     "output_type": "execute_result"
    }
   ],
   "source": [
    "# multiprocess count files \n",
    "rc = Client(profile=\"job_10804682\")\n",
    "dview = rc[:]\n",
    "lview = rc.load_balanced_view()\n",
    "len(lview)"
   ]
  },
  {
   "cell_type": "code",
   "execution_count": 57,
   "metadata": {},
   "outputs": [],
   "source": [
    "def countreads(f):\n",
    "    linecount = !zcat $f | wc -l | bc\n",
    "    readcount = int(linecount[0]) / 4\n",
    "    return (f,readcount)\n",
    "dview['countreads'] = countreads"
   ]
  },
  {
   "cell_type": "code",
   "execution_count": 103,
   "metadata": {},
   "outputs": [
    {
     "data": {
      "text/plain": [
       "192"
      ]
     },
     "execution_count": 103,
     "metadata": {},
     "output_type": "execute_result"
    }
   ],
   "source": [
    "allfiles = []\n",
    "for f in files:\n",
    "    f2 = f.replace(\"_R1\",\"_R2\")\n",
    "    assert op.exists(f2)\n",
    "    [allfiles.append(x) for x in [f,f2]]\n",
    "counts = dview.map(countreads,allfiles)\n",
    "len(counts)"
   ]
  },
  {
   "cell_type": "code",
   "execution_count": 129,
   "metadata": {},
   "outputs": [
    {
     "data": {
      "text/plain": [
       "{'DF_cap3_kit1': 133352664.0,\n",
       " 'DF_cap4_kit1': 127930938.0,\n",
       " 'DF_cap5_kit1': 158503122.0,\n",
       " 'DF_p27_cap2_kit2': 154428352.0,\n",
       " 'DF_p52_cap1_kit2': 109897366.0,\n",
       " 'JP_cap3_kit1': 125895818.0,\n",
       " 'JP_cap4_kit1': 127292702.0,\n",
       " 'JP_cap5_kit1': 139053014.0,\n",
       " 'JP_p101_cap1_kit1': 152988120.0,\n",
       " 'JP_p102_cap2_kit1': 128065604.0,\n",
       " 'LP_mg_cap2_kit1': 133595514.0,\n",
       " 'LP_mg_cap3_kit1': 122122024.0,\n",
       " 'LP_mg_cap4_kit1': 97997102.0,\n",
       " 'LP_mg_cap5_kit1': 89972752.0,\n",
       " 'LP_mg_cap6_kit1': 104349450.0,\n",
       " 'LP_pmg40_cap1_kit1': 126757062.0,\n",
       " 'WL_cap3_kit1': 109160064.0,\n",
       " 'WL_cap4_kit1': 107461138.0,\n",
       " 'WL_cap5_kit1': 160162326.0,\n",
       " 'WL_p404_cap1_kit1': 141502964.0,\n",
       " 'WL_p406_cap2_kit1': 158937502.0}"
      ]
     },
     "execution_count": 129,
     "metadata": {},
     "output_type": "execute_result"
    }
   ],
   "source": [
    "poolreads = {}\n",
    "freads = {}\n",
    "for c in counts:\n",
    "    f = c[0]\n",
    "    freads[f] = c[1]\n",
    "    pool = ftopool[f]\n",
    "    if not pool in poolreads:\n",
    "        poolreads[pool] = 0\n",
    "    poolreads[pool] += c[1]\n",
    "poolreads"
   ]
  },
  {
   "cell_type": "code",
   "execution_count": 98,
   "metadata": {
    "collapsed": true
   },
   "outputs": [
    {
     "name": "stdout",
     "output_type": "stream",
     "text": [
      "WL_cap5_kit1 80081163.0\n",
      "WL_p406_cap2_kit1 79468751.0\n",
      "DF_cap5_kit1 79251561.0\n",
      "DF_p27_cap2_kit2 77214176.0\n",
      "JP_p101_cap1_kit1 76494060.0\n",
      "WL_p404_cap1_kit1 70751482.0\n",
      "JP_cap5_kit1 69526507.0\n",
      "LP_mg_cap2_kit1 66797757.0\n",
      "DF_cap3_kit1 66676332.0\n",
      "JP_p102_cap2_kit1 64032802.0\n",
      "DF_cap4_kit1 63965469.0\n",
      "JP_cap4_kit1 63646351.0\n",
      "LP_pmg40_cap1_kit1 63378531.0\n",
      "JP_cap3_kit1 62947909.0\n",
      "LP_mg_cap3_kit1 61061012.0\n",
      "DF_p52_cap1_kit2 54948683.0\n",
      "WL_cap3_kit1 54580032.0\n",
      "WL_cap4_kit1 53730569.0\n",
      "LP_mg_cap6_kit1 52174725.0\n",
      "LP_mg_cap4_kit1 48998551.0\n",
      "LP_mg_cap5_kit1 44986376.0\n"
     ]
    },
    {
     "data": {
      "text/plain": [
       "1354712799.0"
      ]
     },
     "execution_count": 98,
     "metadata": {},
     "output_type": "execute_result"
    }
   ],
   "source": [
    "readsums = 0\n",
    "for pool in sorted(poolreads,key=poolreads.get,reverse=True):\n",
    "    print pool,poolreads[pool]\n",
    "    readsums += poolreads[pool]\n",
    "readsums"
   ]
  },
  {
   "cell_type": "code",
   "execution_count": 252,
   "metadata": {},
   "outputs": [],
   "source": [
    "DIR = '/scratch/lindb/testdata/'\n",
    "shdir = op.join(DIR,'shfiles/parse')\n",
    "if not op.exists(shdir):\n",
    "    os.makedirs(shdir)\n",
    "count = 0\n",
    "for f in ftopool.keys():\n",
    "    pool = ftopool[f]\n",
    "    pooldir = op.join(DIR,pool)\n",
    "    if not op.exists(pooldir):\n",
    "        os.makedirs(pooldir)\n",
    "    text = '''#!/bin/bash\n",
    "#SBATCH --account=def-saitken\n",
    "#SBATCH --job-name=parse%s\n",
    "#SBATCH --export=all\n",
    "#SBATCH --time=08:00:00\n",
    "#SBATCH --mem=1000mb\n",
    "#SBATCH --cpus-per-task=1\n",
    "\n",
    "source $HOME/.bashrc\n",
    "cd $HOME/pipeline\n",
    "\n",
    "python 00_parse_fastq.py %s %s\n",
    "''' % (str(count).zfill(3),\n",
    "       f,\n",
    "       pooldir\n",
    "      )\n",
    "    filE = op.join(shdir,'parse_%s.sh' % str(count).zfill(3))\n",
    "    with open(filE,'w') as o:\n",
    "        o.write(\"%s\" % text)\n",
    "    count += 1"
   ]
  },
  {
   "cell_type": "code",
   "execution_count": 171,
   "metadata": {},
   "outputs": [
    {
     "name": "stdout",
     "output_type": "stream",
     "text": [
      "Submitted batch job 10807029\n",
      "Submitted batch job 10807030\n",
      "Submitted batch job 10807032\n",
      "Submitted batch job 10807033\n",
      "Submitted batch job 10807034\n",
      "Submitted batch job 10807035\n",
      "Submitted batch job 10807036\n",
      "Submitted batch job 10807037\n",
      "Submitted batch job 10807038\n",
      "Submitted batch job 10807039\n",
      "Submitted batch job 10807040\n",
      "Submitted batch job 10807041\n",
      "Submitted batch job 10807042\n",
      "Submitted batch job 10807043\n",
      "Submitted batch job 10807044\n",
      "Submitted batch job 10807045\n",
      "Submitted batch job 10807046\n",
      "Submitted batch job 10807047\n",
      "Submitted batch job 10807048\n",
      "Submitted batch job 10807049\n",
      "Submitted batch job 10807050\n",
      "Submitted batch job 10807051\n",
      "Submitted batch job 10807052\n",
      "Submitted batch job 10807053\n",
      "Submitted batch job 10807054\n",
      "Submitted batch job 10807055\n",
      "Submitted batch job 10807056\n",
      "Submitted batch job 10807057\n",
      "Submitted batch job 10807058\n",
      "Submitted batch job 10807059\n",
      "Submitted batch job 10807060\n",
      "Submitted batch job 10807061\n",
      "Submitted batch job 10807062\n",
      "Submitted batch job 10807063\n",
      "Submitted batch job 10807064\n",
      "Submitted batch job 10807065\n",
      "Submitted batch job 10807066\n",
      "Submitted batch job 10807067\n",
      "Submitted batch job 10807068\n",
      "Submitted batch job 10807069\n",
      "Submitted batch job 10807070\n",
      "Submitted batch job 10807071\n",
      "Submitted batch job 10807073\n",
      "Submitted batch job 10807074\n",
      "Submitted batch job 10807075\n",
      "Submitted batch job 10807076\n",
      "Submitted batch job 10807078\n",
      "Submitted batch job 10807079\n",
      "Submitted batch job 10807080\n",
      "Submitted batch job 10807082\n",
      "Submitted batch job 10807083\n",
      "Submitted batch job 10807085\n",
      "Submitted batch job 10807086\n",
      "Submitted batch job 10807087\n",
      "Submitted batch job 10807089\n",
      "Submitted batch job 10807091\n",
      "Submitted batch job 10807093\n",
      "Submitted batch job 10807095\n",
      "Submitted batch job 10807098\n",
      "Submitted batch job 10807100\n",
      "Submitted batch job 10807101\n",
      "Submitted batch job 10807102\n",
      "Submitted batch job 10807104\n",
      "Submitted batch job 10807106\n",
      "Submitted batch job 10807107\n",
      "Submitted batch job 10807108\n",
      "Submitted batch job 10807109\n",
      "Submitted batch job 10807110\n",
      "Submitted batch job 10807111\n",
      "Submitted batch job 10807112\n",
      "Submitted batch job 10807113\n",
      "Submitted batch job 10807114\n",
      "Submitted batch job 10807115\n",
      "Submitted batch job 10807116\n",
      "Submitted batch job 10807117\n",
      "Submitted batch job 10807118\n",
      "Submitted batch job 10807120\n",
      "Submitted batch job 10807121\n",
      "Submitted batch job 10807122\n",
      "Submitted batch job 10807124\n",
      "Submitted batch job 10807126\n",
      "Submitted batch job 10807127\n",
      "Submitted batch job 10807128\n",
      "Submitted batch job 10807129\n",
      "Submitted batch job 10807130\n",
      "Submitted batch job 10807131\n",
      "Submitted batch job 10807132\n",
      "Submitted batch job 10807133\n",
      "Submitted batch job 10807134\n",
      "Submitted batch job 10807135\n",
      "Submitted batch job 10807136\n",
      "Submitted batch job 10807137\n",
      "Submitted batch job 10807138\n",
      "Submitted batch job 10807139\n",
      "Submitted batch job 10807141\n",
      "Submitted batch job 10807142\n",
      "Submitted batch job 10807143\n",
      "Submitted batch job 10807147\n",
      "Submitted batch job 10807150\n",
      "Submitted batch job 10807151\n",
      "Submitted batch job 10807152\n",
      "Submitted batch job 10807155\n",
      "Submitted batch job 10807156\n",
      "Submitted batch job 10807157\n",
      "Submitted batch job 10807158\n",
      "Submitted batch job 10807159\n",
      "Submitted batch job 10807160\n",
      "Submitted batch job 10807161\n",
      "Submitted batch job 10807163\n",
      "Submitted batch job 10807164\n",
      "Submitted batch job 10807166\n",
      "Submitted batch job 10807201\n",
      "Submitted batch job 10807206\n",
      "Submitted batch job 10807208\n",
      "Submitted batch job 10807209\n",
      "Submitted batch job 10807210\n",
      "Submitted batch job 10807211\n",
      "Submitted batch job 10807212\n",
      "Submitted batch job 10807213\n",
      "Submitted batch job 10807214\n",
      "Submitted batch job 10807215\n",
      "Submitted batch job 10807216\n",
      "Submitted batch job 10807217\n",
      "Submitted batch job 10807218\n",
      "Submitted batch job 10807219\n",
      "Submitted batch job 10807220\n",
      "Submitted batch job 10807221\n",
      "Submitted batch job 10807222\n",
      "Submitted batch job 10807223\n",
      "Submitted batch job 10807224\n",
      "Submitted batch job 10807225\n",
      "Submitted batch job 10807226\n",
      "Submitted batch job 10807227\n",
      "Submitted batch job 10807228\n",
      "Submitted batch job 10807229\n",
      "Submitted batch job 10807230\n",
      "Submitted batch job 10807231\n",
      "Submitted batch job 10807232\n",
      "Submitted batch job 10807233\n",
      "Submitted batch job 10807235\n",
      "Submitted batch job 10807236\n",
      "Submitted batch job 10807237\n",
      "Submitted batch job 10807238\n",
      "Submitted batch job 10807239\n",
      "Submitted batch job 10807241\n",
      "Submitted batch job 10807244\n",
      "Submitted batch job 10807249\n",
      "Submitted batch job 10807253\n",
      "Submitted batch job 10807258\n",
      "Submitted batch job 10807260\n",
      "Submitted batch job 10807262\n",
      "Submitted batch job 10807266\n",
      "Submitted batch job 10807281\n",
      "Submitted batch job 10807290\n",
      "Submitted batch job 10807293\n",
      "Submitted batch job 10807296\n",
      "Submitted batch job 10807298\n",
      "Submitted batch job 10807310\n",
      "Submitted batch job 10807331\n",
      "Submitted batch job 10807333\n",
      "Submitted batch job 10807334\n",
      "Submitted batch job 10807335\n",
      "Submitted batch job 10807336\n",
      "Submitted batch job 10807337\n",
      "Submitted batch job 10807338\n",
      "Submitted batch job 10807339\n",
      "Submitted batch job 10807340\n",
      "Submitted batch job 10807341\n",
      "Submitted batch job 10807342\n",
      "Submitted batch job 10807343\n",
      "Submitted batch job 10807344\n",
      "Submitted batch job 10807345\n",
      "Submitted batch job 10807346\n",
      "Submitted batch job 10807347\n",
      "Submitted batch job 10807348\n",
      "Submitted batch job 10807349\n",
      "Submitted batch job 10807350\n",
      "Submitted batch job 10807351\n",
      "Submitted batch job 10807352\n",
      "Submitted batch job 10807353\n",
      "Submitted batch job 10807354\n",
      "Submitted batch job 10807355\n",
      "Submitted batch job 10807356\n",
      "Submitted batch job 10807357\n",
      "Submitted batch job 10807358\n",
      "Submitted batch job 10807359\n",
      "Submitted batch job 10807360\n",
      "Submitted batch job 10807361\n",
      "Submitted batch job 10807362\n"
     ]
    }
   ],
   "source": [
    "os.chdir(shdir)\n",
    "for f in fs(shdir):\n",
    "    !sbatch $f"
   ]
  },
  {
   "cell_type": "code",
   "execution_count": 175,
   "metadata": {
    "scrolled": true
   },
   "outputs": [
    {
     "name": "stdout",
     "output_type": "stream",
     "text": [
      "DF_cap3_kit1\n",
      "1089\n",
      "DF_cap3_kit1\n",
      "6643\n",
      "DF_cap3_kit1\n",
      "6230\n",
      "DF_cap3_kit1\n",
      "6002\n",
      "DF_cap3_kit1\n",
      "1678\n",
      "DF_cap3_kit1\n",
      "1029\n",
      "DF_cap3_kit1\n",
      "6390\n",
      "DF_cap3_kit1\n",
      "7440\n",
      "DF_cap3_kit1\n",
      "5014\n",
      "DF_cap3_kit1\n",
      "4038\n",
      "DF_cap3_kit1\n",
      "4067\n",
      "DF_cap3_kit1\n",
      "5476\n",
      "DF_cap3_kit1\n",
      "4164\n",
      "DF_cap3_kit1\n",
      "1159\n",
      "DF_cap3_kit1\n",
      "805\n",
      "DF_cap3_kit1\n",
      "1784\n",
      "DF_cap3_kit1\n",
      "6461\n",
      "DF_cap3_kit1\n",
      "902\n",
      "DF_cap3_kit1\n",
      "6339\n",
      "DF_cap3_kit1\n",
      "7519\n",
      "DF_cap3_kit1\n",
      "5801\n"
     ]
    }
   ],
   "source": [
    "for p in poolreads:\n",
    "    print pool\n",
    "    pdir = op.join(DIR,p)\n",
    "    print len(ls(pdir))"
   ]
  },
  {
   "cell_type": "markdown",
   "metadata": {},
   "source": [
    "## count files to decide lensh for 01a_trim-fastq"
   ]
  },
  {
   "cell_type": "code",
   "execution_count": null,
   "metadata": {},
   "outputs": [],
   "source": [
    "1+1"
   ]
  },
  {
   "cell_type": "code",
   "execution_count": 3,
   "metadata": {},
   "outputs": [
    {
     "data": {
      "text/plain": [
       "271036"
      ]
     },
     "execution_count": 3,
     "metadata": {},
     "output_type": "execute_result"
    }
   ],
   "source": [
    "# get nfiles per dir\n",
    "os.chdir('/scratch/lindb/testdata/')\n",
    "dirs = !ls -d */\n",
    "dirs = [op.abspath(d) for d in dirs if 'kit' in d]\n",
    "\n",
    "fcount = 0\n",
    "dcount = {}\n",
    "for d in dirs:\n",
    "    fcount += len(ls(d))\n",
    "    dcount[d] = len(ls(d))\n",
    "fcount"
   ]
  },
  {
   "cell_type": "code",
   "execution_count": 4,
   "metadata": {
    "scrolled": true
   },
   "outputs": [
    {
     "data": {
      "text/plain": [
       "(0.9999999999999999,\n",
       " {'/scratch/lindb/testdata/DF_cap3_kit1': 0.04921855399282752,\n",
       "  '/scratch/lindb/testdata/DF_cap4_kit1': 0.0472188196401954,\n",
       "  '/scratch/lindb/testdata/DF_cap5_kit1': 0.058501453681429776,\n",
       "  '/scratch/lindb/testdata/DF_p27_cap2_kit2': 0.05698136040968727,\n",
       "  '/scratch/lindb/testdata/DF_p52_cap1_kit2': 0.040548119069053555,\n",
       "  '/scratch/lindb/testdata/JP_cap3_kit1': 0.046466152097876294,\n",
       "  '/scratch/lindb/testdata/JP_cap4_kit1': 0.046997446833630954,\n",
       "  '/scratch/lindb/testdata/JP_cap5_kit1': 0.05132897474874187,\n",
       "  '/scratch/lindb/testdata/JP_p101_cap1_kit1': 0.05645006567393261,\n",
       "  '/scratch/lindb/testdata/JP_p102_cap2_kit1': 0.04725571510795614,\n",
       "  '/scratch/lindb/testdata/LP_mg_cap2_kit1': 0.0493071031154533,\n",
       "  '/scratch/lindb/testdata/LP_mg_cap3_kit1': 0.045078882510072464,\n",
       "  '/scratch/lindb/testdata/LP_mg_cap4_kit1': 0.03617969568618191,\n",
       "  '/scratch/lindb/testdata/LP_mg_cap5_kit1': 0.03322067917177054,\n",
       "  '/scratch/lindb/testdata/LP_mg_cap6_kit1': 0.03852624743576499,\n",
       "  '/scratch/lindb/testdata/LP_pmg40_cap1_kit1': 0.04676869493351437,\n",
       "  '/scratch/lindb/testdata/WL_cap3_kit1': 0.04030460898183267,\n",
       "  '/scratch/lindb/testdata/WL_cap4_kit1': 0.03967000693634794,\n",
       "  '/scratch/lindb/testdata/WL_cap5_kit1': 0.05912129753981021,\n",
       "  '/scratch/lindb/testdata/WL_p404_cap1_kit1': 0.05221446597499963,\n",
       "  '/scratch/lindb/testdata/WL_p406_cap2_kit1': 0.05864165645892059})"
      ]
     },
     "execution_count": 4,
     "metadata": {},
     "output_type": "execute_result"
    }
   ],
   "source": [
    "# determine frac of sh files\n",
    "sums = sum(dcount.values())\n",
    "frac = {}\n",
    "for d in dcount:\n",
    "    frac[d] = dcount[d]/sums\n",
    "sum(frac.values()),frac"
   ]
  },
  {
   "cell_type": "code",
   "execution_count": 5,
   "metadata": {},
   "outputs": [
    {
     "name": "stdout",
     "output_type": "stream",
     "text": [
      "/scratch/lindb/testdata/LP_mg_cap5_kit1 33\n",
      "/scratch/lindb/testdata/WL_cap5_kit1 58\n",
      "/scratch/lindb/testdata/WL_p406_cap2_kit1 58\n",
      "/scratch/lindb/testdata/WL_cap3_kit1 40\n",
      "/scratch/lindb/testdata/WL_cap4_kit1 39\n",
      "/scratch/lindb/testdata/LP_mg_cap4_kit1 36\n",
      "/scratch/lindb/testdata/JP_cap3_kit1 46\n",
      "/scratch/lindb/testdata/LP_mg_cap6_kit1 38\n",
      "/scratch/lindb/testdata/LP_mg_cap3_kit1 44\n",
      "/scratch/lindb/testdata/LP_mg_cap2_kit1 49\n",
      "/scratch/lindb/testdata/LP_pmg40_cap1_kit1 46\n",
      "/scratch/lindb/testdata/WL_p404_cap1_kit1 51\n",
      "/scratch/lindb/testdata/DF_cap4_kit1 47\n",
      "/scratch/lindb/testdata/JP_p102_cap2_kit1 47\n",
      "/scratch/lindb/testdata/DF_cap5_kit1 58\n",
      "/scratch/lindb/testdata/JP_p101_cap1_kit1 56\n",
      "/scratch/lindb/testdata/JP_cap4_kit1 46\n",
      "/scratch/lindb/testdata/DF_p27_cap2_kit2 56\n",
      "/scratch/lindb/testdata/JP_cap5_kit1 51\n",
      "/scratch/lindb/testdata/DF_p52_cap1_kit2 40\n",
      "/scratch/lindb/testdata/DF_cap3_kit1 48\n"
     ]
    }
   ],
   "source": [
    "# num sh files per dir\n",
    "shfrac = {}\n",
    "for d in frac:\n",
    "    shfrac[d] = int(math.ceil(frac[d]*975))\n",
    "    print d, shfrac[d]"
   ]
  },
  {
   "cell_type": "code",
   "execution_count": 46,
   "metadata": {},
   "outputs": [],
   "source": [
    "shdir = '/scratch/lindb/testdata/shfiles/start_trim'\n",
    "if not op.exists(shdir):\n",
    "    os.makedirs(shdir)\n",
    "for d in shfrac:\n",
    "    text = '''#!/bin/bash\n",
    "#SBATCH --account=def-saitken\n",
    "#SBATCH --job-name=%s\n",
    "#SBATCH --export=all\n",
    "#SBATCH --time=12:00:00\n",
    "#SBATCH --mem=1000mb\n",
    "#SBATCH --cpus-per-task=1\n",
    "#SBATCH --mail-user=brandon.lind@ubc.ca\n",
    "#SBATCH --mail-type=END\n",
    "#SBATCH --mail-type=FAIL\n",
    "\n",
    "\n",
    "source $HOME/.bashrc\n",
    "cd $HOME/pipeline\n",
    "\n",
    "python 01a_trim-fastq.py %s %s %s\n",
    "''' % (op.basename(d),\n",
    "       d,\n",
    "       '/home/lindb/scratch/ptaeda.v1.01.reduced.pseudo.fasta',\n",
    "       str(shfrac[d])\n",
    "      )\n",
    "    filE = op.join(shdir,'start-trim_%s.sh' % op.basename(d))\n",
    "    with open(filE,'w') as o:\n",
    "        o.write(\"%s\" % text)"
   ]
  },
  {
   "cell_type": "code",
   "execution_count": 48,
   "metadata": {},
   "outputs": [
    {
     "name": "stdout",
     "output_type": "stream",
     "text": [
      "Submitted batch job 10822585\n",
      "Submitted batch job 10822587\n",
      "Submitted batch job 10822590\n",
      "Submitted batch job 10822592\n",
      "Submitted batch job 10822594\n",
      "Submitted batch job 10822597\n",
      "Submitted batch job 10822599\n",
      "Submitted batch job 10822603\n",
      "Submitted batch job 10822606\n",
      "Submitted batch job 10822608\n",
      "Submitted batch job 10822612\n",
      "Submitted batch job 10822614\n",
      "Submitted batch job 10822617\n",
      "Submitted batch job 10822619\n",
      "Submitted batch job 10822621\n",
      "Submitted batch job 10822623\n",
      "Submitted batch job 10822628\n",
      "Submitted batch job 10822631\n",
      "Submitted batch job 10822633\n",
      "Submitted batch job 10822635\n",
      "Submitted batch job 10822638\n"
     ]
    }
   ],
   "source": [
    "for f in fs(shdir):\n",
    "    !sbatch $f"
   ]
  },
  {
   "cell_type": "code",
   "execution_count": 50,
   "metadata": {},
   "outputs": [
    {
     "data": {
      "text/plain": [
       "'/scratch/lindb/testdata'"
      ]
     },
     "execution_count": 50,
     "metadata": {},
     "output_type": "execute_result"
    }
   ],
   "source": [
    "os.getcwd()"
   ]
  },
  {
   "cell_type": "code",
   "execution_count": 37,
   "metadata": {},
   "outputs": [],
   "source": [
    "text = !squeue -u lindb"
   ]
  },
  {
   "cell_type": "code",
   "execution_count": 38,
   "metadata": {},
   "outputs": [
    {
     "data": {
      "text/plain": [
       "0"
      ]
     },
     "execution_count": 38,
     "metadata": {},
     "output_type": "execute_result"
    }
   ],
   "source": [
    "count = 0\n",
    "pids = []\n",
    "for line in text[1:]:\n",
    "#     print line.split(\" \")[0]\n",
    "    pids.append(line.split(\" \")[0])\n",
    "len(pids)"
   ]
  },
  {
   "cell_type": "code",
   "execution_count": 39,
   "metadata": {},
   "outputs": [],
   "source": [
    "filE = '/home/lindb/scancel.txt'\n",
    "with open(filE,'w') as o:\n",
    "    for p in pids:\n",
    "        p = int(p)\n",
    "        o.write(\"scancel %i\\n\" % p)"
   ]
  },
  {
   "cell_type": "code",
   "execution_count": 36,
   "metadata": {},
   "outputs": [
    {
     "name": "stdout",
     "output_type": "stream",
     "text": [
      "Academic tradition requires you to cite works you base your article on.\n",
      "If you use programs that use GNU Parallel to process data for an article in a\n",
      "scientific publication, please cite:\n",
      "\n",
      "  O. Tange (2011): GNU Parallel - The Command-Line Power Tool,\n",
      "  ;login: The USENIX Magazine, February 2011:42-47.\n",
      "\n",
      "This helps funding further development; AND IT WON'T COST YOU A CENT.\n",
      "If you pay 10000 EUR you should feel free to use GNU Parallel without citing.\n",
      "\n",
      "To silence this citation notice: run 'parallel --citation' once.\n",
      "\n",
      "\n",
      "Computers / CPU cores / Max jobs to run\n",
      "1:local / 32 / 32\n",
      "\n",
      "Computer:jobs running/jobs completed/%of started jobs/Average seconds to complete\n",
      "ETA: 0s Left: 0 AVG: 0.10s  local:0/3372/100%/0.1s s     \n"
     ]
    }
   ],
   "source": [
    "!cat /home/lindb/scancel.txt | parallel --eta"
   ]
  },
  {
   "cell_type": "code",
   "execution_count": null,
   "metadata": {},
   "outputs": [],
   "source": []
  },
  {
   "cell_type": "code",
   "execution_count": 8,
   "metadata": {},
   "outputs": [
    {
     "data": {
      "text/plain": [
       "(21,\n",
       " ['/scratch/lindb/testdata/DF_cap3_kit1',\n",
       "  '/scratch/lindb/testdata/DF_cap4_kit1',\n",
       "  '/scratch/lindb/testdata/DF_cap5_kit1',\n",
       "  '/scratch/lindb/testdata/DF_p27_cap2_kit2',\n",
       "  '/scratch/lindb/testdata/DF_p52_cap1_kit2',\n",
       "  '/scratch/lindb/testdata/JP_cap3_kit1',\n",
       "  '/scratch/lindb/testdata/JP_cap4_kit1',\n",
       "  '/scratch/lindb/testdata/JP_cap5_kit1',\n",
       "  '/scratch/lindb/testdata/JP_p101_cap1_kit1',\n",
       "  '/scratch/lindb/testdata/JP_p102_cap2_kit1',\n",
       "  '/scratch/lindb/testdata/LP_mg_cap2_kit1',\n",
       "  '/scratch/lindb/testdata/LP_mg_cap3_kit1',\n",
       "  '/scratch/lindb/testdata/LP_mg_cap4_kit1',\n",
       "  '/scratch/lindb/testdata/LP_mg_cap5_kit1',\n",
       "  '/scratch/lindb/testdata/LP_mg_cap6_kit1',\n",
       "  '/scratch/lindb/testdata/LP_pmg40_cap1_kit1',\n",
       "  '/scratch/lindb/testdata/WL_cap3_kit1',\n",
       "  '/scratch/lindb/testdata/WL_cap4_kit1',\n",
       "  '/scratch/lindb/testdata/WL_cap5_kit1',\n",
       "  '/scratch/lindb/testdata/WL_p404_cap1_kit1',\n",
       "  '/scratch/lindb/testdata/WL_p406_cap2_kit1'])"
      ]
     },
     "execution_count": 8,
     "metadata": {},
     "output_type": "execute_result"
    }
   ],
   "source": [
    "## change parsed file names\n",
    "os.chdir('/home/lindb/scratch/testdata/')\n",
    "dirs = !ls -d */\n",
    "dirs = [op.abspath(d) for d in dirs if 'kit' in d]\n",
    "len(dirs),dirs"
   ]
  },
  {
   "cell_type": "code",
   "execution_count": 11,
   "metadata": {},
   "outputs": [
    {
     "data": {
      "text/plain": [
       "271036"
      ]
     },
     "execution_count": 11,
     "metadata": {},
     "output_type": "execute_result"
    }
   ],
   "source": [
    "files = []\n",
    "for d in dirs:\n",
    "    [files.append(f) for f in fs(d) if 'fastq' in f]\n",
    "len(files)"
   ]
  },
  {
   "cell_type": "code",
   "execution_count": 12,
   "metadata": {},
   "outputs": [
    {
     "data": {
      "text/plain": [
       "'/scratch/lindb/testdata/DF_cap3_kit1/HI.4779.008.D705---D505.DF_52_20_cap3_kit1_R1._0000.fastq'"
      ]
     },
     "execution_count": 12,
     "metadata": {},
     "output_type": "execute_result"
    }
   ],
   "source": [
    "files[0]"
   ]
  },
  {
   "cell_type": "code",
   "execution_count": 16,
   "metadata": {},
   "outputs": [],
   "source": [
    "def switchname(f):\n",
    "    dname = op.dirname(f)\n",
    "    bname = op.basename(f)\n",
    "    zero,one,two,three,four,parse,suf = bname.split(\".\")\n",
    "    parse = \"parse%sparse\" % parse.replace(\"_\",\"\")\n",
    "    new   = zero+'.'+one+'.'+two+'.'+three+'.'+four+parse+'.'+suf\n",
    "    newf  = op.join(dname,new)\n",
    "    return newf"
   ]
  },
  {
   "cell_type": "code",
   "execution_count": 67,
   "metadata": {},
   "outputs": [
    {
     "data": {
      "text/plain": [
       "'DF_cap3_kit1/HI.4779.008.D705---D505.DF_52_20_cap3_kit1_R1._0000.fastq'"
      ]
     },
     "execution_count": 67,
     "metadata": {},
     "output_type": "execute_result"
    }
   ],
   "source": [
    "files[0]"
   ]
  },
  {
   "cell_type": "code",
   "execution_count": 71,
   "metadata": {},
   "outputs": [
    {
     "name": "stdout",
     "output_type": "stream",
     "text": [
      "file  = DF_cap3_kit1/HI.4779.008.D705---D505.DF_52_20_cap3_kit1_R1._0000.fastq\n",
      "switc = DF_cap3_kit1/HI.4779.008.D705---D505.DF_52_20_cap3_kit1_R1parse0000parse.fastq\n",
      "r1out = DF_cap3_kit1/HI.4779.008.D705---D505.DF_52_20_cap3_kit1_R1parse0000parse_trimmed.fastq\n",
      "html  = DF_cap3_kit1/HI.4779.008.D705---D505.DF_52_20_cap3_kit1_parse0000parse_trimmed_R1_R2_stats\n",
      "json  = DF_cap3_kit1/HI.4779.008.D705---D505.DF_52_20_cap3_kit1_parse0000parse_trimmed_R1_R2\n"
     ]
    }
   ],
   "source": [
    "print 'file  =',files[0]\n",
    "switched = switchname(files[0])\n",
    "print 'switc =', switched\n",
    "r1out    = switched.replace(\".fastq\",\"_trimmed.fastq\")\n",
    "print 'r1out =', r1out\n",
    "html     = r1out.replace(\"R1\",\"\").replace(\".fastq\",\"_R1_R2_stats\")\n",
    "print 'html  =', html\n",
    "json     = r1out.replace(\"R1\",\"\").replace(\".fastq\",\"_R1_R2\")\n",
    "print 'json  =',json"
   ]
  },
  {
   "cell_type": "code",
   "execution_count": 17,
   "metadata": {},
   "outputs": [],
   "source": [
    "fcount  = 0\n",
    "tcount  = 0\n",
    "shcount = 0\n",
    "ceil = math.ceil(len(files)/300)\n",
    "text = ''''''\n",
    "for f in files:\n",
    "    new = switchname(f)\n",
    "    newtext = '''mv %s %s\n",
    "''' % (f,new)\n",
    "    text = text + newtext\n",
    "    fcount += 1\n",
    "    tcount += 1\n",
    "    if fcount == ceil or tcount == len(files):\n",
    "        shz = str(shcount).zfill(3)\n",
    "        header = '''#!/bin/bash\n",
    "#SBATCH --account=def-saitken\n",
    "#SBATCH --job-name=mvparse%s\n",
    "#SBATCH --export=all\n",
    "#SBATCH --time=02:59:00\n",
    "#SBATCH --mem=1000mb\n",
    "#SBATCH --cpus-per-task=1\n",
    "''' % (shz)\n",
    "        text = header + text\n",
    "        filE = '/scratch/lindb/changeparse/chparse_%s.sh' % shz\n",
    "        with open(filE,'w') as o:\n",
    "            o.write(\"%s\" % text)\n",
    "        shcount += 1\n",
    "        fcount = 0\n",
    "        text = ''''''"
   ]
  },
  {
   "cell_type": "code",
   "execution_count": null,
   "metadata": {
    "scrolled": true
   },
   "outputs": [
    {
     "name": "stdout",
     "output_type": "stream",
     "text": [
      "Submitted batch job 10833283\n",
      "Submitted batch job 10833285\n",
      "Submitted batch job 10833287\n",
      "Submitted batch job 10833288\n",
      "Submitted batch job 10833289\n",
      "Submitted batch job 10833290\n",
      "Submitted batch job 10833291\n",
      "Submitted batch job 10833292\n",
      "Submitted batch job 10833293\n",
      "Submitted batch job 10833294\n",
      "Submitted batch job 10833295\n",
      "Submitted batch job 10833297\n",
      "Submitted batch job 10833299\n",
      "Submitted batch job 10833300\n",
      "Submitted batch job 10833301\n",
      "Submitted batch job 10833302\n",
      "Submitted batch job 10833304\n",
      "Submitted batch job 10833305\n",
      "Submitted batch job 10833306\n",
      "Submitted batch job 10833307\n",
      "Submitted batch job 10833308\n",
      "Submitted batch job 10833309\n",
      "Submitted batch job 10833310\n",
      "Submitted batch job 10833311\n",
      "Submitted batch job 10833312\n",
      "^C\n",
      "Submitted batch job 10833314\n",
      "^C\n",
      "^C\n",
      "^C\n",
      "^C\n",
      "^C\n",
      "^C\n",
      "^C\n",
      "^C\n",
      "^C\n",
      "Submitted batch job 10833324\n",
      "Submitted batch job 10833325\n",
      "^C\n",
      "^C\n",
      "^C\n",
      "^C\n"
     ]
    },
    {
     "name": "stderr",
     "output_type": "stream",
     "text": [
      "ERROR:root:Internal Python error in the inspect module.\n",
      "Below is the traceback from this internal error.\n",
      "\n"
     ]
    },
    {
     "name": "stdout",
     "output_type": "stream",
     "text": [
      "Traceback (most recent call last):\n",
      "  File \"/home/lindb/anaconda2/lib/python2.7/site-packages/IPython/core/ultratb.py\", line 1132, in get_records\n",
      "    return _fixed_getinnerframes(etb, number_of_lines_of_context, tb_offset)\n",
      "  File \"/home/lindb/anaconda2/lib/python2.7/site-packages/IPython/core/ultratb.py\", line 313, in wrapped\n",
      "    return f(*args, **kwargs)\n",
      "  File \"/home/lindb/anaconda2/lib/python2.7/site-packages/IPython/core/ultratb.py\", line 376, in _fixed_getinnerframes\n",
      "    lines = ulinecache.getlines(file)[start:end]\n",
      "  File \"/home/lindb/anaconda2/lib/python2.7/site-packages/IPython/utils/ulinecache.py\", line 37, in getlines\n",
      "    return [l.decode(encoding, 'replace') for l in lines]\n",
      "  File \"/home/lindb/anaconda2/lib/python2.7/encodings/utf_8.py\", line 15, in decode\n",
      "    def decode(input, errors='strict'):\n",
      "KeyboardInterrupt\n"
     ]
    },
    {
     "ename": "IndexError",
     "evalue": "string index out of range",
     "output_type": "error",
     "traceback": [
      "\u001b[0;31m---------------------------------------------------------------------------\u001b[0m",
      "\u001b[0;31mIndexError\u001b[0m                                Traceback (most recent call last)",
      "\u001b[0;32m/home/lindb/anaconda2/lib/python2.7/site-packages/IPython/core/interactiveshell.pyc\u001b[0m in \u001b[0;36mrun_code\u001b[0;34m(self, code_obj, result)\u001b[0m\n\u001b[1;32m   2893\u001b[0m             \u001b[0;32mif\u001b[0m \u001b[0mresult\u001b[0m \u001b[0;32mis\u001b[0m \u001b[0;32mnot\u001b[0m \u001b[0mNone\u001b[0m\u001b[0;34m:\u001b[0m\u001b[0;34m\u001b[0m\u001b[0m\n\u001b[1;32m   2894\u001b[0m                 \u001b[0mresult\u001b[0m\u001b[0;34m.\u001b[0m\u001b[0merror_in_exec\u001b[0m \u001b[0;34m=\u001b[0m \u001b[0msys\u001b[0m\u001b[0;34m.\u001b[0m\u001b[0mexc_info\u001b[0m\u001b[0;34m(\u001b[0m\u001b[0;34m)\u001b[0m\u001b[0;34m[\u001b[0m\u001b[0;36m1\u001b[0m\u001b[0;34m]\u001b[0m\u001b[0;34m\u001b[0m\u001b[0m\n\u001b[0;32m-> 2895\u001b[0;31m             \u001b[0mself\u001b[0m\u001b[0;34m.\u001b[0m\u001b[0mshowtraceback\u001b[0m\u001b[0;34m(\u001b[0m\u001b[0;34m)\u001b[0m\u001b[0;34m\u001b[0m\u001b[0m\n\u001b[0m\u001b[1;32m   2896\u001b[0m         \u001b[0;32melse\u001b[0m\u001b[0;34m:\u001b[0m\u001b[0;34m\u001b[0m\u001b[0m\n\u001b[1;32m   2897\u001b[0m             \u001b[0moutflag\u001b[0m \u001b[0;34m=\u001b[0m \u001b[0;36m0\u001b[0m\u001b[0;34m\u001b[0m\u001b[0m\n",
      "\u001b[0;32m/home/lindb/anaconda2/lib/python2.7/site-packages/IPython/core/interactiveshell.pyc\u001b[0m in \u001b[0;36mshowtraceback\u001b[0;34m(self, exc_tuple, filename, tb_offset, exception_only)\u001b[0m\n\u001b[1;32m   1824\u001b[0m                     \u001b[0;32mexcept\u001b[0m \u001b[0mException\u001b[0m\u001b[0;34m:\u001b[0m\u001b[0;34m\u001b[0m\u001b[0m\n\u001b[1;32m   1825\u001b[0m                         stb = self.InteractiveTB.structured_traceback(etype,\n\u001b[0;32m-> 1826\u001b[0;31m                                             value, tb, tb_offset=tb_offset)\n\u001b[0m\u001b[1;32m   1827\u001b[0m \u001b[0;34m\u001b[0m\u001b[0m\n\u001b[1;32m   1828\u001b[0m                     \u001b[0mself\u001b[0m\u001b[0;34m.\u001b[0m\u001b[0m_showtraceback\u001b[0m\u001b[0;34m(\u001b[0m\u001b[0metype\u001b[0m\u001b[0;34m,\u001b[0m \u001b[0mvalue\u001b[0m\u001b[0;34m,\u001b[0m \u001b[0mstb\u001b[0m\u001b[0;34m)\u001b[0m\u001b[0;34m\u001b[0m\u001b[0m\n",
      "\u001b[0;32m/home/lindb/anaconda2/lib/python2.7/site-packages/IPython/core/ultratb.pyc\u001b[0m in \u001b[0;36mstructured_traceback\u001b[0;34m(self, etype, value, tb, tb_offset, number_of_lines_of_context)\u001b[0m\n\u001b[1;32m   1409\u001b[0m         \u001b[0mself\u001b[0m\u001b[0;34m.\u001b[0m\u001b[0mtb\u001b[0m \u001b[0;34m=\u001b[0m \u001b[0mtb\u001b[0m\u001b[0;34m\u001b[0m\u001b[0m\n\u001b[1;32m   1410\u001b[0m         return FormattedTB.structured_traceback(\n\u001b[0;32m-> 1411\u001b[0;31m             self, etype, value, tb, tb_offset, number_of_lines_of_context)\n\u001b[0m\u001b[1;32m   1412\u001b[0m \u001b[0;34m\u001b[0m\u001b[0m\n\u001b[1;32m   1413\u001b[0m \u001b[0;34m\u001b[0m\u001b[0m\n",
      "\u001b[0;32m/home/lindb/anaconda2/lib/python2.7/site-packages/IPython/core/ultratb.pyc\u001b[0m in \u001b[0;36mstructured_traceback\u001b[0;34m(self, etype, value, tb, tb_offset, number_of_lines_of_context)\u001b[0m\n\u001b[1;32m   1317\u001b[0m             \u001b[0;31m# Verbose modes need a full traceback\u001b[0m\u001b[0;34m\u001b[0m\u001b[0;34m\u001b[0m\u001b[0m\n\u001b[1;32m   1318\u001b[0m             return VerboseTB.structured_traceback(\n\u001b[0;32m-> 1319\u001b[0;31m                 \u001b[0mself\u001b[0m\u001b[0;34m,\u001b[0m \u001b[0metype\u001b[0m\u001b[0;34m,\u001b[0m \u001b[0mvalue\u001b[0m\u001b[0;34m,\u001b[0m \u001b[0mtb\u001b[0m\u001b[0;34m,\u001b[0m \u001b[0mtb_offset\u001b[0m\u001b[0;34m,\u001b[0m \u001b[0mnumber_of_lines_of_context\u001b[0m\u001b[0;34m\u001b[0m\u001b[0m\n\u001b[0m\u001b[1;32m   1320\u001b[0m             )\n\u001b[1;32m   1321\u001b[0m         \u001b[0;32melse\u001b[0m\u001b[0;34m:\u001b[0m\u001b[0;34m\u001b[0m\u001b[0m\n",
      "\u001b[0;32m/home/lindb/anaconda2/lib/python2.7/site-packages/IPython/core/ultratb.pyc\u001b[0m in \u001b[0;36mstructured_traceback\u001b[0;34m(self, etype, evalue, etb, tb_offset, number_of_lines_of_context)\u001b[0m\n\u001b[1;32m   1202\u001b[0m                 \u001b[0mstructured_traceback_parts\u001b[0m \u001b[0;34m+=\u001b[0m \u001b[0mformatted_exception\u001b[0m\u001b[0;34m\u001b[0m\u001b[0m\n\u001b[1;32m   1203\u001b[0m         \u001b[0;32melse\u001b[0m\u001b[0;34m:\u001b[0m\u001b[0;34m\u001b[0m\u001b[0m\n\u001b[0;32m-> 1204\u001b[0;31m             \u001b[0mstructured_traceback_parts\u001b[0m \u001b[0;34m+=\u001b[0m \u001b[0mformatted_exception\u001b[0m\u001b[0;34m[\u001b[0m\u001b[0;36m0\u001b[0m\u001b[0;34m]\u001b[0m\u001b[0;34m\u001b[0m\u001b[0m\n\u001b[0m\u001b[1;32m   1205\u001b[0m \u001b[0;34m\u001b[0m\u001b[0m\n\u001b[1;32m   1206\u001b[0m         \u001b[0;32mreturn\u001b[0m \u001b[0mstructured_traceback_parts\u001b[0m\u001b[0;34m\u001b[0m\u001b[0m\n",
      "\u001b[0;31mIndexError\u001b[0m: string index out of range"
     ]
    },
    {
     "name": "stderr",
     "output_type": "stream",
     "text": [
      "ERROR:tornado.general:Uncaught exception in ZMQStream callback\n",
      "Traceback (most recent call last):\n",
      "  File \"/home/lindb/anaconda2/lib/python2.7/site-packages/zmq/eventloop/zmqstream.py\", line 432, in _run_callback\n",
      "    callback(*args, **kwargs)\n",
      "  File \"/home/lindb/anaconda2/lib/python2.7/site-packages/tornado/stack_context.py\", line 276, in null_wrapper\n",
      "    return fn(*args, **kwargs)\n",
      "  File \"/home/lindb/anaconda2/lib/python2.7/site-packages/ipykernel/kernelbase.py\", line 283, in dispatcher\n",
      "    return self.dispatch_shell(stream, msg)\n",
      "  File \"/home/lindb/anaconda2/lib/python2.7/site-packages/ipykernel/kernelbase.py\", line 233, in dispatch_shell\n",
      "    handler(stream, idents, msg)\n",
      "  File \"/home/lindb/anaconda2/lib/python2.7/site-packages/ipykernel/kernelbase.py\", line 421, in execute_request\n",
      "    self._abort_queues()\n",
      "  File \"/home/lindb/anaconda2/lib/python2.7/site-packages/ipykernel/kernelbase.py\", line 636, in _abort_queues\n",
      "    self._abort_queue(stream)\n",
      "  File \"/home/lindb/anaconda2/lib/python2.7/site-packages/ipykernel/kernelbase.py\", line 661, in _abort_queue\n",
      "    poller.poll(50)\n",
      "  File \"/home/lindb/anaconda2/lib/python2.7/site-packages/zmq/sugar/poll.py\", line 99, in poll\n",
      "    return zmq_poll(self.sockets, timeout=timeout)\n",
      "  File \"zmq/backend/cython/_poll.pyx\", line 123, in zmq.backend.cython._poll.zmq_poll\n",
      "  File \"zmq/backend/cython/checkrc.pxd\", line 12, in zmq.backend.cython.checkrc._check_rc\n",
      "    PyErr_CheckSignals()\n",
      "KeyboardInterrupt\n"
     ]
    }
   ],
   "source": [
    "sbatch('/scratch/lindb/changeparse/')"
   ]
  },
  {
   "cell_type": "code",
   "execution_count": 20,
   "metadata": {},
   "outputs": [
    {
     "name": "stdout",
     "output_type": "stream",
     "text": [
      "Submitted batch job 10833447\n",
      "Submitted batch job 10833450\n",
      "Submitted batch job 10833453\n",
      "Submitted batch job 10833455\n",
      "Submitted batch job 10833456\n",
      "Submitted batch job 10833457\n",
      "Submitted batch job 10833464\n",
      "Submitted batch job 10833478\n",
      "Submitted batch job 10833487\n",
      "Submitted batch job 10833501\n",
      "Submitted batch job 10833506\n",
      "Submitted batch job 10833510\n",
      "Submitted batch job 10833512\n",
      "Submitted batch job 10833518\n",
      "Submitted batch job 10833531\n",
      "Submitted batch job 10833546\n",
      "Submitted batch job 10833559\n",
      "Submitted batch job 10833565\n",
      "Submitted batch job 10833583\n",
      "Submitted batch job 10833595\n",
      "Submitted batch job 10833602\n",
      "Submitted batch job 10833617\n",
      "Submitted batch job 10833625\n",
      "Submitted batch job 10833630\n",
      "Submitted batch job 10833637\n",
      "Submitted batch job 10833644\n",
      "Submitted batch job 10833657\n",
      "Submitted batch job 10833661\n",
      "Submitted batch job 10833665\n",
      "Submitted batch job 10833668\n",
      "Submitted batch job 10833670\n",
      "Submitted batch job 10833672\n",
      "Submitted batch job 10833674\n",
      "Submitted batch job 10833676\n",
      "Submitted batch job 10833678\n",
      "Submitted batch job 10833680\n",
      "Submitted batch job 10833682\n",
      "Submitted batch job 10833684\n",
      "Submitted batch job 10833686\n",
      "Submitted batch job 10833688\n",
      "Submitted batch job 10833695\n",
      "Submitted batch job 10833698\n",
      "Submitted batch job 10833700\n",
      "Submitted batch job 10833702\n",
      "Submitted batch job 10833704\n",
      "Submitted batch job 10833708\n",
      "Submitted batch job 10833710\n",
      "Submitted batch job 10833712\n",
      "Submitted batch job 10833714\n",
      "Submitted batch job 10833716\n",
      "Submitted batch job 10833718\n",
      "Submitted batch job 10833720\n",
      "Submitted batch job 10833723\n",
      "Submitted batch job 10833726\n",
      "Submitted batch job 10833728\n",
      "Submitted batch job 10833730\n",
      "Submitted batch job 10833732\n",
      "Submitted batch job 10833734\n",
      "Submitted batch job 10833736\n",
      "Submitted batch job 10833738\n",
      "Submitted batch job 10833740\n",
      "Submitted batch job 10833742\n",
      "Submitted batch job 10833745\n",
      "Submitted batch job 10833747\n",
      "Submitted batch job 10833749\n",
      "Submitted batch job 10833751\n",
      "Submitted batch job 10833753\n",
      "Submitted batch job 10833755\n",
      "Submitted batch job 10833757\n",
      "Submitted batch job 10833759\n",
      "Submitted batch job 10833761\n",
      "Submitted batch job 10833763\n",
      "Submitted batch job 10833764\n",
      "Submitted batch job 10833765\n",
      "Submitted batch job 10833767\n",
      "Submitted batch job 10833768\n",
      "Submitted batch job 10833770\n",
      "Submitted batch job 10833771\n",
      "Submitted batch job 10833772\n",
      "Submitted batch job 10833773\n",
      "Submitted batch job 10833774\n",
      "Submitted batch job 10833776\n",
      "Submitted batch job 10833777\n",
      "Submitted batch job 10833778\n",
      "Submitted batch job 10833779\n",
      "Submitted batch job 10833781\n",
      "Submitted batch job 10833782\n",
      "Submitted batch job 10833784\n",
      "Submitted batch job 10833785\n",
      "Submitted batch job 10833786\n",
      "Submitted batch job 10833787\n",
      "Submitted batch job 10833788\n",
      "Submitted batch job 10833789\n",
      "Submitted batch job 10833790\n",
      "Submitted batch job 10833791\n",
      "Submitted batch job 10833792\n",
      "Submitted batch job 10833793\n",
      "Submitted batch job 10833794\n",
      "Submitted batch job 10833795\n",
      "Submitted batch job 10833796\n",
      "Submitted batch job 10833797\n",
      "Submitted batch job 10833798\n",
      "Submitted batch job 10833799\n",
      "Submitted batch job 10833800\n",
      "Submitted batch job 10833801\n",
      "Submitted batch job 10833802\n",
      "Submitted batch job 10833803\n",
      "Submitted batch job 10833804\n",
      "Submitted batch job 10833805\n",
      "Submitted batch job 10833806\n",
      "Submitted batch job 10833807\n",
      "Submitted batch job 10833811\n",
      "Submitted batch job 10833813\n",
      "Submitted batch job 10833815\n",
      "Submitted batch job 10833816\n",
      "Submitted batch job 10833817\n",
      "Submitted batch job 10833818\n",
      "Submitted batch job 10833820\n",
      "Submitted batch job 10833821\n",
      "Submitted batch job 10833822\n",
      "Submitted batch job 10833824\n",
      "Submitted batch job 10833825\n",
      "Submitted batch job 10833837\n",
      "Submitted batch job 10833839\n",
      "Submitted batch job 10833841\n",
      "Submitted batch job 10833842\n",
      "Submitted batch job 10833844\n",
      "Submitted batch job 10833846\n",
      "Submitted batch job 10833848\n",
      "Submitted batch job 10833849\n",
      "Submitted batch job 10833850\n",
      "Submitted batch job 10833852\n",
      "Submitted batch job 10833853\n",
      "Submitted batch job 10833854\n",
      "Submitted batch job 10833855\n",
      "Submitted batch job 10833856\n",
      "Submitted batch job 10833857\n",
      "Submitted batch job 10833858\n",
      "Submitted batch job 10833859\n",
      "Submitted batch job 10833860\n",
      "Submitted batch job 10833861\n",
      "Submitted batch job 10833862\n",
      "Submitted batch job 10833863\n",
      "Submitted batch job 10833865\n",
      "Submitted batch job 10833866\n",
      "Submitted batch job 10833867\n",
      "Submitted batch job 10833868\n",
      "Submitted batch job 10833869\n",
      "Submitted batch job 10833870\n",
      "Submitted batch job 10833872\n",
      "Submitted batch job 10833873\n",
      "Submitted batch job 10833874\n",
      "Submitted batch job 10833875\n",
      "Submitted batch job 10833876\n",
      "Submitted batch job 10833877\n",
      "Submitted batch job 10833878\n",
      "Submitted batch job 10833879\n",
      "Submitted batch job 10833880\n",
      "Submitted batch job 10833881\n",
      "Submitted batch job 10833882\n",
      "Submitted batch job 10833883\n",
      "Submitted batch job 10833884\n",
      "Submitted batch job 10833885\n",
      "Submitted batch job 10833886\n",
      "Submitted batch job 10833887\n",
      "Submitted batch job 10833888\n",
      "Submitted batch job 10833889\n",
      "Submitted batch job 10833890\n",
      "Submitted batch job 10833892\n",
      "Submitted batch job 10833893\n",
      "Submitted batch job 10833894\n",
      "Submitted batch job 10833895\n",
      "Submitted batch job 10833896\n",
      "Submitted batch job 10833897\n",
      "Submitted batch job 10833898\n",
      "Submitted batch job 10833899\n",
      "Submitted batch job 10833900\n",
      "Submitted batch job 10833901\n",
      "Submitted batch job 10833902\n",
      "Submitted batch job 10833904\n",
      "Submitted batch job 10833906\n",
      "Submitted batch job 10833907\n",
      "Submitted batch job 10833908\n",
      "Submitted batch job 10833909\n",
      "Submitted batch job 10833911\n",
      "Submitted batch job 10833912\n",
      "Submitted batch job 10833913\n",
      "Submitted batch job 10833914\n",
      "Submitted batch job 10833915\n",
      "Submitted batch job 10833916\n",
      "Submitted batch job 10833917\n",
      "Submitted batch job 10833918\n",
      "Submitted batch job 10833919\n",
      "Submitted batch job 10833920\n",
      "Submitted batch job 10833921\n",
      "Submitted batch job 10833925\n",
      "Submitted batch job 10833926\n",
      "Submitted batch job 10833927\n",
      "Submitted batch job 10833928\n",
      "Submitted batch job 10833929\n",
      "Submitted batch job 10833930\n",
      "Submitted batch job 10833931\n",
      "Submitted batch job 10833932\n",
      "Submitted batch job 10833933\n",
      "Submitted batch job 10833935\n",
      "Submitted batch job 10833936\n",
      "Submitted batch job 10833938\n",
      "Submitted batch job 10833939\n",
      "Submitted batch job 10833940\n",
      "Submitted batch job 10833941\n",
      "Submitted batch job 10833942\n",
      "Submitted batch job 10833943\n",
      "Submitted batch job 10833944\n",
      "Submitted batch job 10833945\n",
      "Submitted batch job 10833946\n",
      "Submitted batch job 10833947\n",
      "Submitted batch job 10833948\n",
      "Submitted batch job 10833949\n",
      "Submitted batch job 10833950\n",
      "Submitted batch job 10833951\n",
      "Submitted batch job 10833953\n",
      "Submitted batch job 10833954\n",
      "Submitted batch job 10833955\n",
      "Submitted batch job 10833956\n",
      "Submitted batch job 10833957\n",
      "Submitted batch job 10833959\n",
      "Submitted batch job 10833962\n",
      "Submitted batch job 10833963\n",
      "Submitted batch job 10833964\n",
      "Submitted batch job 10833966\n",
      "Submitted batch job 10833967\n",
      "Submitted batch job 10833968\n",
      "Submitted batch job 10833969\n",
      "Submitted batch job 10833970\n",
      "Submitted batch job 10833971\n",
      "Submitted batch job 10833972\n",
      "Submitted batch job 10833974\n",
      "Submitted batch job 10833975\n",
      "Submitted batch job 10833977\n",
      "Submitted batch job 10833978\n",
      "Submitted batch job 10833979\n",
      "Submitted batch job 10833980\n",
      "Submitted batch job 10833981\n",
      "Submitted batch job 10833982\n",
      "Submitted batch job 10833983\n",
      "Submitted batch job 10833984\n",
      "Submitted batch job 10833985\n",
      "Submitted batch job 10833986\n",
      "Submitted batch job 10833987\n",
      "Submitted batch job 10833988\n",
      "Submitted batch job 10833989\n",
      "Submitted batch job 10833990\n",
      "Submitted batch job 10833991\n",
      "Submitted batch job 10833992\n",
      "Submitted batch job 10833993\n",
      "Submitted batch job 10833995\n",
      "Submitted batch job 10833996\n",
      "Submitted batch job 10833997\n",
      "Submitted batch job 10833998\n",
      "Submitted batch job 10833999\n",
      "Submitted batch job 10834000\n",
      "Submitted batch job 10834001\n",
      "Submitted batch job 10834002\n",
      "Submitted batch job 10834003\n",
      "Submitted batch job 10834005\n",
      "Submitted batch job 10834006\n",
      "Submitted batch job 10834007\n",
      "Submitted batch job 10834008\n",
      "Submitted batch job 10834009\n",
      "Submitted batch job 10834010\n",
      "Submitted batch job 10834011\n",
      "Submitted batch job 10834012\n",
      "Submitted batch job 10834013\n",
      "Submitted batch job 10834014\n",
      "Submitted batch job 10834015\n",
      "Submitted batch job 10834016\n",
      "Submitted batch job 10834017\n",
      "Submitted batch job 10834018\n",
      "Submitted batch job 10834019\n",
      "Submitted batch job 10834020\n",
      "Submitted batch job 10834021\n",
      "Submitted batch job 10834022\n",
      "Submitted batch job 10834023\n"
     ]
    },
    {
     "name": "stdout",
     "output_type": "stream",
     "text": [
      "Submitted batch job 10834024\n",
      "Submitted batch job 10834025\n",
      "Submitted batch job 10834026\n",
      "Submitted batch job 10834027\n",
      "Submitted batch job 10834028\n",
      "Submitted batch job 10834029\n",
      "Submitted batch job 10834030\n",
      "Submitted batch job 10834033\n",
      "Submitted batch job 10834034\n",
      "Submitted batch job 10834036\n",
      "Submitted batch job 10834037\n",
      "Submitted batch job 10834038\n"
     ]
    }
   ],
   "source": [
    "DIR = '/scratch/lindb/changeparse/'\n",
    "os.chdir(DIR)\n",
    "for f in fs(DIR):\n",
    "    if not '000' in f:\n",
    "        if not 'slurm' in f:\n",
    "            !sbatch $f"
   ]
  },
  {
   "cell_type": "code",
   "execution_count": null,
   "metadata": {},
   "outputs": [],
   "source": []
  },
  {
   "cell_type": "code",
   "execution_count": 22,
   "metadata": {},
   "outputs": [
    {
     "data": {
      "text/plain": [
       "['/scratch/lindb/testdata/JP_cap3_kit1',\n",
       " '/scratch/lindb/testdata/JP_cap4_kit1',\n",
       " '/scratch/lindb/testdata/JP_cap5_kit1',\n",
       " '/scratch/lindb/testdata/JP_p101_cap1_kit1',\n",
       " '/scratch/lindb/testdata/JP_p102_cap2_kit1',\n",
       " '/scratch/lindb/testdata/LP_mg_cap2_kit1',\n",
       " '/scratch/lindb/testdata/LP_mg_cap3_kit1',\n",
       " '/scratch/lindb/testdata/LP_mg_cap4_kit1',\n",
       " '/scratch/lindb/testdata/LP_mg_cap5_kit1',\n",
       " '/scratch/lindb/testdata/LP_mg_cap6_kit1',\n",
       " '/scratch/lindb/testdata/LP_pmg40_cap1_kit1']"
      ]
     },
     "execution_count": 22,
     "metadata": {},
     "output_type": "execute_result"
    }
   ],
   "source": [
    "## kick off lodgepole and jack pine\n",
    "jplp = [d for d in dirs if 'LP' in d or 'JP' in d]\n",
    "jplp"
   ]
  },
  {
   "cell_type": "code",
   "execution_count": 23,
   "metadata": {},
   "outputs": [
    {
     "data": {
      "text/plain": [
       "134865"
      ]
     },
     "execution_count": 23,
     "metadata": {},
     "output_type": "execute_result"
    }
   ],
   "source": [
    "# get nfiles per dir\n",
    "fcount = 0\n",
    "dcount = {}\n",
    "for d in jplp:\n",
    "    fcount += len(ls(d))\n",
    "    dcount[d] = len(ls(d))\n",
    "fcount"
   ]
  },
  {
   "cell_type": "code",
   "execution_count": 24,
   "metadata": {},
   "outputs": [
    {
     "data": {
      "text/plain": [
       "(1.0,\n",
       " {'/scratch/lindb/testdata/JP_cap3_kit1': 0.09340451562673785,\n",
       "  '/scratch/lindb/testdata/JP_cap4_kit1': 0.09445000556111667,\n",
       "  '/scratch/lindb/testdata/JP_cap5_kit1': 0.10315500685871057,\n",
       "  '/scratch/lindb/testdata/JP_p101_cap1_kit1': 0.11344678011344678,\n",
       "  '/scratch/lindb/testdata/JP_p102_cap2_kit1': 0.09496904311719126,\n",
       "  '/scratch/lindb/testdata/LP_mg_cap2_kit1': 0.09909168427686946,\n",
       "  '/scratch/lindb/testdata/LP_mg_cap3_kit1': 0.0905942980017054,\n",
       "  '/scratch/lindb/testdata/LP_mg_cap4_kit1': 0.07270974678382086,\n",
       "  '/scratch/lindb/testdata/LP_mg_cap5_kit1': 0.06676305935565195,\n",
       "  '/scratch/lindb/testdata/LP_mg_cap6_kit1': 0.07742557372187002,\n",
       "  '/scratch/lindb/testdata/LP_pmg40_cap1_kit1': 0.09399028658287918})"
      ]
     },
     "execution_count": 24,
     "metadata": {},
     "output_type": "execute_result"
    }
   ],
   "source": [
    "# determine frac of sh files\n",
    "sums = sum(dcount.values())\n",
    "frac = {}\n",
    "for d in dcount:\n",
    "    frac[d] = dcount[d]/sums\n",
    "sum(frac.values()),frac"
   ]
  },
  {
   "cell_type": "code",
   "execution_count": 25,
   "metadata": {},
   "outputs": [
    {
     "name": "stdout",
     "output_type": "stream",
     "text": [
      "/scratch/lindb/testdata/LP_mg_cap5_kit1 66\n",
      "/scratch/lindb/testdata/LP_mg_cap4_kit1 71\n",
      "/scratch/lindb/testdata/LP_mg_cap3_kit1 89\n",
      "/scratch/lindb/testdata/LP_mg_cap6_kit1 76\n",
      "/scratch/lindb/testdata/JP_cap3_kit1 92\n",
      "/scratch/lindb/testdata/LP_mg_cap2_kit1 97\n",
      "/scratch/lindb/testdata/LP_pmg40_cap1_kit1 92\n",
      "/scratch/lindb/testdata/JP_p101_cap1_kit1 111\n",
      "/scratch/lindb/testdata/JP_p102_cap2_kit1 93\n",
      "/scratch/lindb/testdata/JP_cap4_kit1 93\n",
      "/scratch/lindb/testdata/JP_cap5_kit1 101\n"
     ]
    }
   ],
   "source": [
    "# num sh files per dir\n",
    "shfrac = {}\n",
    "for d in frac:\n",
    "    shfrac[d] = int(math.ceil(frac[d]*975))\n",
    "    print d, shfrac[d]"
   ]
  },
  {
   "cell_type": "code",
   "execution_count": 27,
   "metadata": {},
   "outputs": [],
   "source": [
    "shdir = '/scratch/lindb/testdata/shfiles/start_trim'\n",
    "if not op.exists(shdir):\n",
    "    os.makedirs(shdir)\n",
    "for d in shfrac:\n",
    "    text = '''#!/bin/bash\n",
    "#SBATCH --account=def-saitken\n",
    "#SBATCH --job-name=%s\n",
    "#SBATCH --export=all\n",
    "#SBATCH --time=12:00:00\n",
    "#SBATCH --mem=1000mb\n",
    "#SBATCH --cpus-per-task=1\n",
    "#SBATCH --mail-user=brandon.lind@ubc.ca\n",
    "#SBATCH --mail-type=END\n",
    "#SBATCH --mail-type=FAIL\n",
    "\n",
    "\n",
    "source $HOME/.bashrc\n",
    "cd $HOME/pipeline\n",
    "\n",
    "python 01a_trim-fastq.py %s %s %s\n",
    "''' % (op.basename(d),\n",
    "       d,\n",
    "       '/scratch/lindb/refgenomes/LP_db/ptaeda.v1.01.reduced.pseudo.fasta',\n",
    "       str(shfrac[d])\n",
    "      )\n",
    "    filE = op.join(shdir,'start-trim_%s.sh' % op.basename(d))\n",
    "    with open(filE,'w') as o:\n",
    "        o.write(\"%s\" % text)"
   ]
  },
  {
   "cell_type": "code",
   "execution_count": 30,
   "metadata": {},
   "outputs": [
    {
     "name": "stdout",
     "output_type": "stream",
     "text": [
      "Submitted batch job 10834343\n",
      "Submitted batch job 10834344\n",
      "Submitted batch job 10834345\n",
      "Submitted batch job 10834346\n",
      "Submitted batch job 10834348\n",
      "Submitted batch job 10834349\n",
      "Submitted batch job 10834350\n",
      "Submitted batch job 10834351\n",
      "Submitted batch job 10834352\n",
      "Submitted batch job 10834353\n"
     ]
    }
   ],
   "source": [
    "for f in fs(shdir):\n",
    "    !sbatch $f"
   ]
  },
  {
   "cell_type": "code",
   "execution_count": null,
   "metadata": {},
   "outputs": [],
   "source": []
  },
  {
   "cell_type": "code",
   "execution_count": null,
   "metadata": {},
   "outputs": [],
   "source": []
  },
  {
   "cell_type": "code",
   "execution_count": null,
   "metadata": {},
   "outputs": [],
   "source": []
  },
  {
   "cell_type": "code",
   "execution_count": null,
   "metadata": {},
   "outputs": [],
   "source": []
  },
  {
   "cell_type": "code",
   "execution_count": null,
   "metadata": {},
   "outputs": [],
   "source": []
  },
  {
   "cell_type": "code",
   "execution_count": null,
   "metadata": {},
   "outputs": [],
   "source": []
  },
  {
   "cell_type": "code",
   "execution_count": null,
   "metadata": {},
   "outputs": [],
   "source": []
  },
  {
   "cell_type": "code",
   "execution_count": null,
   "metadata": {},
   "outputs": [],
   "source": []
  },
  {
   "cell_type": "code",
   "execution_count": null,
   "metadata": {},
   "outputs": [],
   "source": []
  },
  {
   "cell_type": "code",
   "execution_count": null,
   "metadata": {},
   "outputs": [],
   "source": []
  },
  {
   "cell_type": "code",
   "execution_count": null,
   "metadata": {},
   "outputs": [],
   "source": []
  },
  {
   "cell_type": "code",
   "execution_count": null,
   "metadata": {},
   "outputs": [],
   "source": []
  },
  {
   "cell_type": "code",
   "execution_count": null,
   "metadata": {},
   "outputs": [],
   "source": []
  },
  {
   "cell_type": "code",
   "execution_count": null,
   "metadata": {},
   "outputs": [],
   "source": []
  },
  {
   "cell_type": "markdown",
   "metadata": {},
   "source": [
    "# why one command?"
   ]
  },
  {
   "cell_type": "code",
   "execution_count": 3,
   "metadata": {},
   "outputs": [],
   "source": [
    "fqdir = '/scratch/lindb/testdata/JP_cap3_kit1/'"
   ]
  },
  {
   "cell_type": "code",
   "execution_count": 4,
   "metadata": {},
   "outputs": [],
   "source": [
    "lensh = 92"
   ]
  },
  {
   "cell_type": "code",
   "execution_count": 5,
   "metadata": {},
   "outputs": [
    {
     "data": {
      "text/plain": [
       "6297"
      ]
     },
     "execution_count": 5,
     "metadata": {},
     "output_type": "execute_result"
    }
   ],
   "source": [
    "gzfiles = [f for f in fs(fqdir) if 'R1' in f]\n",
    "lgz     = len(gzfiles)\n",
    "lgz"
   ]
  },
  {
   "cell_type": "code",
   "execution_count": 32,
   "metadata": {},
   "outputs": [
    {
     "name": "stdout",
     "output_type": "stream",
     "text": [
      "found 6297 R1/R2 seq pairs\n"
     ]
    }
   ],
   "source": [
    "seq_pairs = []\n",
    "for f in gzfiles:\n",
    "    assert 'R1' in f\n",
    "    read2 = f.replace(\"_R1\",\"_R2\")\n",
    "    assert op.exists(read2)\n",
    "    if op.exists(read2):\n",
    "        seq_pairs.append((f,read2))\n",
    "#     else:\n",
    "#         !echo 'no pair for '$f >> $fqdir'/messages/msgs.txt' # #iheartjupyter\n",
    "    else:\n",
    "        text = 'no pair for %s' % f\n",
    "        with open(mfile,'a') as o:\n",
    "            o.write(\"%s\\n\" % text)\n",
    "print \"found %s R1/R2 seq pairs\" % str(len(seq_pairs))"
   ]
  },
  {
   "cell_type": "code",
   "execution_count": 7,
   "metadata": {},
   "outputs": [
    {
     "data": {
      "text/plain": [
       "69.0"
      ]
     },
     "execution_count": 7,
     "metadata": {},
     "output_type": "execute_result"
    }
   ],
   "source": [
    "if len(seq_pairs) <= lensh:\n",
    "    # one command per sh file\n",
    "    ceil = 1\n",
    "else:\n",
    "    # multiple commands per sh file\n",
    "    ceil = math.ceil(len(seq_pairs)/lensh)\n",
    "ceil"
   ]
  },
  {
   "cell_type": "code",
   "execution_count": 17,
   "metadata": {},
   "outputs": [
    {
     "data": {
      "text/plain": [
       "92"
      ]
     },
     "execution_count": 17,
     "metadata": {},
     "output_type": "execute_result"
    }
   ],
   "source": [
    "lensh"
   ]
  },
  {
   "cell_type": "code",
   "execution_count": 12,
   "metadata": {},
   "outputs": [],
   "source": [
    "shcount = 0\n",
    "fcount  = 0\n",
    "tcount  = 0\n",
    "text = ''''''\n",
    "for s in seq_pairs:\n",
    "#     print s\n",
    "    r1    = op.abspath(s[0])\n",
    "    if r1.endswith(\"fastq\"):\n",
    "        r1out = 'hey'\n",
    "    else:\n",
    "        r1out = 'hey'\n",
    "    r2    = op.abspath(s[1])\n",
    "    if r2.endswith(\"fastq\"):\n",
    "        r2out = 'hey'\n",
    "    else:\n",
    "        r2out = 'hey'\n",
    "    html = 'hey'\n",
    "    json = 'hey'\n",
    "    cmd  = '''fastp -i %s -o %s -I %s -O %s -g --cut_window_size 5 --cut_mean_quality 30 --qualified_quality_phred 30 --unqualified_percent_limit 20 --n_base_limit 5 --length_required 75 -h %s.html --cut_by_quality3 --thread 16 --json %s.json --adapter_sequence AGATCGGAAGAGCACACGTCTGAACTCCAGTCAC --adapter_sequence_r2 AGATCGGAAGAGCGTCGTGTAGGGAAAGAGTGT\n",
    "\n",
    "\n",
    "cd $HOME/pipeline\n",
    "# once finished, map using bwa mem \n",
    "python 01b_bwa-map.py %s %s %s %s %s           \n",
    "''' % (r1  , r1out,\n",
    "       r2  , r2out,\n",
    "       html, json ,\n",
    "       'hi' , r1out,  r2out,  'shdir',  str(tcount).zfill(3)\n",
    "      )\n",
    "    text = text + cmd\n",
    "    \n",
    "    fcount += 1\n",
    "    tcount += 1\n",
    "    if fcount == ceil or tcount == len(seq_pairs):\n",
    "        shz = str(shcount).zfill(3)\n",
    "        shcount += 1\n",
    "        fcount = 0\n",
    "        text = ''''''"
   ]
  },
  {
   "cell_type": "code",
   "execution_count": 13,
   "metadata": {},
   "outputs": [
    {
     "data": {
      "text/plain": [
       "92"
      ]
     },
     "execution_count": 13,
     "metadata": {},
     "output_type": "execute_result"
    }
   ],
   "source": [
    "shcount"
   ]
  },
  {
   "cell_type": "code",
   "execution_count": 20,
   "metadata": {},
   "outputs": [
    {
     "data": {
      "text/plain": [
       "6369"
      ]
     },
     "execution_count": 20,
     "metadata": {},
     "output_type": "execute_result"
    }
   ],
   "source": [
    "len([x for x in ls('/scratch/lindb/testdata/JP_cap4_kit1/shfiles/trimmed_shfiles/') if 'sh' in x])"
   ]
  },
  {
   "cell_type": "code",
   "execution_count": 45,
   "metadata": {},
   "outputs": [
    {
     "data": {
      "text/plain": [
       "['/scratch/lindb/testdata/JP_cap3_kit1',\n",
       " '/scratch/lindb/testdata/JP_cap4_kit1',\n",
       " '/scratch/lindb/testdata/JP_cap5_kit1',\n",
       " '/scratch/lindb/testdata/JP_p101_cap1_kit1',\n",
       " '/scratch/lindb/testdata/JP_p102_cap2_kit1',\n",
       " '/scratch/lindb/testdata/LP_mg_cap2_kit1',\n",
       " '/scratch/lindb/testdata/LP_mg_cap3_kit1',\n",
       " '/scratch/lindb/testdata/LP_mg_cap4_kit1',\n",
       " '/scratch/lindb/testdata/LP_mg_cap5_kit1',\n",
       " '/scratch/lindb/testdata/LP_mg_cap6_kit1',\n",
       " '/scratch/lindb/testdata/LP_pmg40_cap1_kit1']"
      ]
     },
     "execution_count": 45,
     "metadata": {},
     "output_type": "execute_result"
    }
   ],
   "source": [
    "DIR = '/scratch/lindb/testdata/'\n",
    "os.chdir(DIR)\n",
    "dirs = !ls -d *kit*/\n",
    "dirs = [op.abspath(d) for d in dirs if 'JP' in d or 'LP' in d]\n",
    "dirs"
   ]
  },
  {
   "cell_type": "code",
   "execution_count": 49,
   "metadata": {},
   "outputs": [
    {
     "name": "stdout",
     "output_type": "stream",
     "text": [
      "/scratch/lindb/testdata/JP_cap3_kit1\n",
      "rm: cannot remove './*/': No such file or directory\n",
      "/scratch/lindb/testdata/JP_cap4_kit1\n",
      "rm: cannot remove './*/': No such file or directory\n",
      "/scratch/lindb/testdata/JP_cap5_kit1\n",
      "rm: cannot remove './*/': No such file or directory\n",
      "/scratch/lindb/testdata/JP_p101_cap1_kit1\n",
      "rm: cannot remove './*/': No such file or directory\n",
      "/scratch/lindb/testdata/JP_p102_cap2_kit1\n",
      "rm: cannot remove './*/': No such file or directory\n",
      "/scratch/lindb/testdata/LP_mg_cap2_kit1\n",
      "rm: cannot remove './*/': No such file or directory\n",
      "/scratch/lindb/testdata/LP_mg_cap3_kit1\n",
      "rm: cannot remove './*/': No such file or directory\n",
      "/scratch/lindb/testdata/LP_mg_cap4_kit1\n",
      "rm: cannot remove './*/': No such file or directory\n",
      "/scratch/lindb/testdata/LP_mg_cap5_kit1\n",
      "rm: cannot remove './*/': No such file or directory\n",
      "/scratch/lindb/testdata/LP_mg_cap6_kit1\n",
      "rm: cannot remove './*/': No such file or directory\n",
      "/scratch/lindb/testdata/LP_pmg40_cap1_kit1\n",
      "rm: cannot remove './*/': No such file or directory\n"
     ]
    }
   ],
   "source": [
    "for d in dirs:\n",
    "    print d\n",
    "    os.chdir(d)\n",
    "    !rm -r -- ./*/"
   ]
  },
  {
   "cell_type": "code",
   "execution_count": null,
   "metadata": {},
   "outputs": [],
   "source": []
  }
 ],
 "metadata": {
  "kernelspec": {
   "display_name": "Python 2",
   "language": "python",
   "name": "python2"
  },
  "language_info": {
   "codemirror_mode": {
    "name": "ipython",
    "version": 2
   },
   "file_extension": ".py",
   "mimetype": "text/x-python",
   "name": "python",
   "nbconvert_exporter": "python",
   "pygments_lexer": "ipython2",
   "version": "2.7.15"
  }
 },
 "nbformat": 4,
 "nbformat_minor": 2
}
