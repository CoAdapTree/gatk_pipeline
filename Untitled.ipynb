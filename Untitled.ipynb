{
 "cells": [
  {
   "cell_type": "code",
   "execution_count": 1,
   "metadata": {},
   "outputs": [],
   "source": [
    "imp = open('/home/lindb/pythonimports.py').read()\n",
    "exec(imp)\n",
    "from __future__ import division"
   ]
  },
  {
   "cell_type": "code",
   "execution_count": 3,
   "metadata": {},
   "outputs": [],
   "source": [
    "trimdir = '/home/lindb/scratch/seqcap_pine/trimmed'\n",
    "samdir = '/home/lindb/scratch/seqcap_pine/samfiles'\n",
    "if not op.exists(samdir):\n",
    "    os.makedirs(samdir)\n",
    "    \n",
    "text = '''#!/bin/bash\n",
    "#PBS -N bwatest\n",
    "#PBS -V\n",
    "#PBS -S /bin/bash\n",
    "#PBS -l nodes=1:ppn=2\n",
    "#PBS -l procs=2\n",
    "#PBS -l walltime=01:00:00\n",
    "#PBS -l mem=1000mb\n",
    "#PBS -o /home/lindb/scratch/seqcap_pine/bwa.o\n",
    "#PBS -e /home/lindb/scratch/seqcap_pine/bwa.e\n",
    "#PBS -l epilogue=/home/myUserID/epilogue.script\n",
    "\n",
    "source /home/lindb/.bashrc\n",
    "bwa mem -t 2 -M %s %s %s > %s\n",
    "''' % (op.join(trimdir,'paired_HI.0941.007.BioO_4.Pi_53A3_R1_trimmedandfiltered.fastq.gz'),\n",
    "       op.join(trimdir,'paired_HI.0941.007.BioO_4.Pi_53A3_R2_trimmedandfiltered.fastq.gz'),\n",
    "       '/home/lindb/scratch/ptaeda.v1.01.reduced.pseudo.fasta',\n",
    "       op.join(samdir,'R1_R2.sam')\n",
    "      )\n",
    "filE = '/home/lindb/scratch/data/test_bwa.sh'\n",
    "with open(filE,'w') as o:\n",
    "    o.write(\"%s\" % text)"
   ]
  },
  {
   "cell_type": "code",
   "execution_count": 6,
   "metadata": {},
   "outputs": [
    {
     "data": {
      "text/plain": [
       "'/global/home/lindb/anaconda2/lib/python2.7/site-packages/ipykernel_launcher.py'"
      ]
     },
     "execution_count": 6,
     "metadata": {},
     "output_type": "execute_result"
    }
   ],
   "source": [
    "sys.argv[0]"
   ]
  },
  {
   "cell_type": "code",
   "execution_count": null,
   "metadata": {},
   "outputs": [],
   "source": []
  },
  {
   "cell_type": "code",
   "execution_count": null,
   "metadata": {},
   "outputs": [],
   "source": []
  },
  {
   "cell_type": "code",
   "execution_count": null,
   "metadata": {},
   "outputs": [],
   "source": []
  },
  {
   "cell_type": "code",
   "execution_count": null,
   "metadata": {},
   "outputs": [],
   "source": []
  }
 ],
 "metadata": {
  "kernelspec": {
   "display_name": "Python 2",
   "language": "python",
   "name": "python2"
  },
  "language_info": {
   "codemirror_mode": {
    "name": "ipython",
    "version": 2
   },
   "file_extension": ".py",
   "mimetype": "text/x-python",
   "name": "python",
   "nbconvert_exporter": "python",
   "pygments_lexer": "ipython2",
   "version": "2.7.15"
  }
 },
 "nbformat": 4,
 "nbformat_minor": 2
}
